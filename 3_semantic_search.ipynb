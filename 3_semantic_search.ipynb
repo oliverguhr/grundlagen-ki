{
 "cells": [
  {
   "cell_type": "code",
   "execution_count": null,
   "metadata": {},
   "outputs": [],
   "source": [
    "documents_en = [\n",
    "    \"Nature is an integral part of our lives.\",\n",
    "    \"Technology is evolving at a rapid pace.\",\n",
    "    \"Eating healthy food is important for the body and mind.\",\n",
    "    \"The universe is vast and full of mysteries.\",\n",
    "    \"Programming languages are tools for building software.\"\n",
    "] \n",
    "\n",
    "query_en = \"What should we know about the cosmos?\"\n",
    "\n",
    "documents_de = [\n",
    "    \"Die Natur ist ein integraler Bestandteil unseres Lebens.\",\n",
    "    \"Die Technologie entwickelt sich in rasantem Tempo.\",\n",
    "    \"Gesunde Ernährung ist wichtig für Körper und Geist.\",\n",
    "    \"Das Universum ist weit und voller Geheimnisse.\",\n",
    "    \"Programmiersprachen sind Werkzeuge zum Erstellen von Software.\"\n",
    "]\n",
    "\n",
    "query_de = \"Was sollten wir über den Kosmos wissen?\""
   ]
  },
  {
   "cell_type": "code",
   "execution_count": null,
   "metadata": {},
   "outputs": [],
   "source": [
    "from sentence_transformers import SentenceTransformer, util\n",
    "\n",
    "model = SentenceTransformer('all-MiniLM-L6-v2')"
   ]
  },
  {
   "cell_type": "code",
   "execution_count": null,
   "metadata": {},
   "outputs": [],
   "source": [
    "documents = documents_en\n",
    "document_embeddings = model.encode(documents)\n"
   ]
  },
  {
   "cell_type": "code",
   "execution_count": null,
   "metadata": {},
   "outputs": [],
   "source": [
    "print(document_embeddings)"
   ]
  },
  {
   "cell_type": "code",
   "execution_count": null,
   "metadata": {},
   "outputs": [],
   "source": [
    "query = query_en\n",
    "query_embedding = model.encode(query)"
   ]
  },
  {
   "cell_type": "code",
   "execution_count": null,
   "metadata": {},
   "outputs": [],
   "source": [
    "print(query_embedding)"
   ]
  },
  {
   "cell_type": "code",
   "execution_count": null,
   "metadata": {},
   "outputs": [],
   "source": [
    "hits = util.semantic_search(query_embedding, document_embeddings*100, top_k=3)[0]\n",
    "\n",
    "\n",
    "print(\"Query:\", query, \"\\n\")\n",
    "\n",
    "for hit in hits:\n",
    "\n",
    "    most_similar_document = documents[hit['corpus_id']]\n",
    "    similarity_score = hit['score']\n",
    "    \n",
    "    print(most_similar_document)\n",
    "    print(\"Similarity Score:\", similarity_score)"
   ]
  },
  {
   "cell_type": "markdown",
   "metadata": {},
   "source": [
    "## Aufgaben\n",
    "\n",
    "* Englisch suche implementieren\n",
    "* Was passiert wenn ich deutsche Texte habe?\n",
    "* Englische Suche / Deutscher Daten (Cross langauge)\n",
    "\n",
    "Nächste Aufgabe? Was passiert wenn ich den Index Updaten muss? Wie persistiere ich meine DB?"
   ]
  }
 ],
 "metadata": {
  "kernelspec": {
   "display_name": "Python 3",
   "language": "python",
   "name": "python3"
  },
  "language_info": {
   "codemirror_mode": {
    "name": "ipython",
    "version": 3
   },
   "file_extension": ".py",
   "mimetype": "text/x-python",
   "name": "python",
   "nbconvert_exporter": "python",
   "pygments_lexer": "ipython3",
   "version": "3.12.8"
  }
 },
 "nbformat": 4,
 "nbformat_minor": 2
}
