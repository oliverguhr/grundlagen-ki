{
 "cells": [
  {
   "cell_type": "code",
   "execution_count": 1,
   "metadata": {},
   "outputs": [],
   "source": [
    "documents_en = [\n",
    "    \"Nature is an integral part of our lives.\",\n",
    "    \"Technology is evolving at a rapid pace.\",\n",
    "    \"Eating healthy food is important for the body and mind.\",\n",
    "    \"The universe is vast and full of mysteries.\",\n",
    "    \"Programming languages are tools for building software.\"\n",
    "] \n",
    "\n",
    "query_en = \"What should we know about the cosmos?\"\n",
    "\n",
    "documents_de = [\n",
    "    \"Die Natur ist ein integraler Bestandteil unseres Lebens.\",\n",
    "    \"Die Technologie entwickelt sich in rasantem Tempo.\",\n",
    "    \"Gesunde Ernährung ist wichtig für Körper und Geist.\",\n",
    "    \"Das Universum ist weit und voller Geheimnisse.\",\n",
    "    \"Programmiersprachen sind Werkzeuge zum Erstellen von Software.\"\n",
    "]\n",
    "\n",
    "query_de = \"Was sollten wir über den Kosmos wissen?\""
   ]
  },
  {
   "cell_type": "code",
   "execution_count": 2,
   "metadata": {},
   "outputs": [
    {
     "name": "stderr",
     "output_type": "stream",
     "text": [
      "/home/ogu/source/workshop-grundlagen-ai/.venv/lib/python3.10/site-packages/sentence_transformers/cross_encoder/CrossEncoder.py:11: TqdmWarning: IProgress not found. Please update jupyter and ipywidgets. See https://ipywidgets.readthedocs.io/en/stable/user_install.html\n",
      "  from tqdm.autonotebook import tqdm, trange\n",
      "/home/ogu/source/workshop-grundlagen-ai/.venv/lib/python3.10/site-packages/transformers/tokenization_utils_base.py:1601: FutureWarning: `clean_up_tokenization_spaces` was not set. It will be set to `True` by default. This behavior will be depracted in transformers v4.45, and will be then set to `False` by default. For more details check this issue: https://github.com/huggingface/transformers/issues/31884\n",
      "  warnings.warn(\n"
     ]
    }
   ],
   "source": [
    "import chromadb\n",
    "from chromadb.utils import embedding_functions\n",
    "\n",
    "# setup Chroma in-memory, for easy prototyping. Can add persistence easily!\n",
    "client = chromadb.Client()\n",
    "\n",
    "# Create collection. get_collection, get_or_create_collection, delete_collection also available!\n",
    "sentence_transformer_ef = embedding_functions.SentenceTransformerEmbeddingFunction(model_name=\"paraphrase-multilingual-MiniLM-L12-v2\")\n",
    "collection = client.get_or_create_collection(\"documents\",embedding_function=sentence_transformer_ef)\n",
    "\n",
    "# Add docs to the collection. Can also update and delete. Row-based API coming soon!\n",
    "collection.add(\n",
    "    documents=documents_en, # we handle tokenization, embedding, and indexing automatically. You can skip that and add your own embeddings as well\n",
    "    metadatas=[{\"source\": \"array\"}]*len(documents_en), # filter on these!\n",
    "    ids=[str(i) for i in range(len(documents_en))], # unique for each doc\n",
    ")\n"
   ]
  },
  {
   "cell_type": "code",
   "execution_count": 13,
   "metadata": {},
   "outputs": [
    {
     "data": {
      "text/plain": [
       "{'ids': [['4', '0']],\n",
       " 'distances': [[19.83510971069336, 20.146230697631836]],\n",
       " 'metadatas': [[{'source': 'array'}, {'source': 'array'}]],\n",
       " 'embeddings': None,\n",
       " 'documents': [['Programming languages are tools for building software.',\n",
       "   'Nature is an integral part of our lives.']],\n",
       " 'uris': None,\n",
       " 'data': None}"
      ]
     },
     "execution_count": 13,
     "metadata": {},
     "output_type": "execute_result"
    }
   ],
   "source": [
    "# Query/search 2 most similar results. You can also .get by id\n",
    "results = collection.query(\n",
    "    query_texts=[\"This is a query document\"],\n",
    "    n_results=2,\n",
    "    # where={\"metadata_field\": \"is_equal_to_this\"}, # optional filter\n",
    "    # where_document={\"$contains\":\"search_string\"}  # optional filter\n",
    ")\n",
    "\n",
    "results"
   ]
  }
 ],
 "metadata": {
  "kernelspec": {
   "display_name": "Python 3",
   "language": "python",
   "name": "python3"
  },
  "language_info": {
   "codemirror_mode": {
    "name": "ipython",
    "version": 3
   },
   "file_extension": ".py",
   "mimetype": "text/x-python",
   "name": "python",
   "nbconvert_exporter": "python",
   "pygments_lexer": "ipython3",
   "version": "3.10.12"
  }
 },
 "nbformat": 4,
 "nbformat_minor": 2
}
