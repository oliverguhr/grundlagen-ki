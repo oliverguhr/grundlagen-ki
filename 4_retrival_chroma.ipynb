{
 "cells": [
  {
   "cell_type": "code",
   "execution_count": 1,
   "metadata": {},
   "outputs": [],
   "source": [
    "documents_en = [\n",
    "    \"Nature is an integral part of our lives.\",\n",
    "    \"Technology is evolving at a rapid pace.\",\n",
    "    \"Eating healthy food is important for the body and mind.\",\n",
    "    \"The universe is vast and full of mysteries.\",\n",
    "    \"Programming languages are tools for building software.\"\n",
    "] \n",
    "\n",
    "query_en = \"What should we know about the cosmos?\"\n",
    "\n",
    "documents_de = [\n",
    "    \"Die Natur ist ein integraler Bestandteil unseres Lebens.\",\n",
    "    \"Die Technologie entwickelt sich in rasantem Tempo.\",\n",
    "    \"Gesunde Ernährung ist wichtig für Körper und Geist.\",\n",
    "    \"Das Universum ist weit und voller Geheimnisse.\",\n",
    "    \"Programmiersprachen sind Werkzeuge zum Erstellen von Software.\"\n",
    "]\n",
    "\n",
    "query_de = \"Was sollten wir über den Kosmos wissen?\""
   ]
  },
  {
   "cell_type": "code",
   "execution_count": null,
   "metadata": {},
   "outputs": [],
   "source": [
    "import chromadb\n",
    "from chromadb.utils import embedding_functions\n",
    "\n",
    "# setup Chroma in-memory, for easy prototyping. Can add persistence easily!\n",
    "client = chromadb.Client()\n",
    "\n",
    "# Create collection. get_collection, get_or_create_collection, delete_collection also available!\n",
    "sentence_transformer_ef = embedding_functions.SentenceTransformerEmbeddingFunction(model_name=\"ibm-granite/granite-embedding-278m-multilingual\")\n",
    "collection = client.get_or_create_collection(\"documents\",embedding_function=sentence_transformer_ef)\n",
    "\n",
    "try:\n",
    "    client.delete_collection(\"documents\")\n",
    "except:\n",
    "    pass\n",
    "\n",
    "# Add docs to the collection. Can also update and delete. Row-based API coming soon!\n",
    "collection.add(\n",
    "    documents=documents_en, # we handle tokenization, embedding, and indexing automatically. You can skip that and add your own embeddings as well\n",
    "    metadatas=[{\"source\": \"array\"}]*len(documents_en), # filter on these!\n",
    "    ids=[str(i) for i in range(len(documents_en))], # unique for each doc\n",
    ")\n"
   ]
  },
  {
   "cell_type": "code",
   "execution_count": 6,
   "metadata": {},
   "outputs": [
    {
     "data": {
      "text/plain": [
       "{'ids': [['3', '0']],\n",
       " 'embeddings': None,\n",
       " 'documents': [['The universe is vast and full of mysteries.',\n",
       "   'Nature is an integral part of our lives.']],\n",
       " 'uris': None,\n",
       " 'included': ['metadatas', 'documents', 'distances'],\n",
       " 'data': None,\n",
       " 'metadatas': [[{'source': 'array'}, {'source': 'array'}]],\n",
       " 'distances': [[0.5222079157829285, 0.7057667970657349]]}"
      ]
     },
     "execution_count": 6,
     "metadata": {},
     "output_type": "execute_result"
    }
   ],
   "source": [
    "# Query/search 2 most similar results. You can also .get by id\n",
    "results = collection.query(\n",
    "    query_texts=[\"Was sollten wir über den Kosmos wissen?\"],\n",
    "    n_results=2,\n",
    "    # where={\"metadata_field\": \"is_equal_to_this\"}, # optional filter\n",
    "    # where_document={\"$contains\":\"search_string\"}  # optional filter\n",
    ")\n",
    "\n",
    "results"
   ]
  }
 ],
 "metadata": {
  "kernelspec": {
   "display_name": "Python 3",
   "language": "python",
   "name": "python3"
  },
  "language_info": {
   "codemirror_mode": {
    "name": "ipython",
    "version": 3
   },
   "file_extension": ".py",
   "mimetype": "text/x-python",
   "name": "python",
   "nbconvert_exporter": "python",
   "pygments_lexer": "ipython3",
   "version": "3.12.11"
  }
 },
 "nbformat": 4,
 "nbformat_minor": 2
}
