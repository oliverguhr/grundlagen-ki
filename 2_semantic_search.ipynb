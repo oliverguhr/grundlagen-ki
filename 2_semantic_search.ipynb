{
 "cells": [
  {
   "cell_type": "code",
   "execution_count": 1,
   "metadata": {},
   "outputs": [],
   "source": [
    "documents_en = [\n",
    "    \"Nature is an integral part of our lives.\",\n",
    "    \"Technology is evolving at a rapid pace.\",\n",
    "    \"Eating healthy food is important for the body and mind.\",\n",
    "    \"The universe is vast and full of mysteries.\",\n",
    "    \"Programming languages are tools for building software.\"\n",
    "] \n",
    "\n",
    "query_en = \"What should we know about the cosmos?\"\n",
    "\n",
    "documents_de = [\n",
    "    \"Die Natur ist ein integraler Bestandteil unseres Lebens.\",\n",
    "    \"Die Technologie entwickelt sich in rasantem Tempo.\",\n",
    "    \"Gesunde Ernährung ist wichtig für Körper und Geist.\",\n",
    "    \"Das Universum ist weit und voller Geheimnisse.\",\n",
    "    \"Programmiersprachen sind Werkzeuge zum Erstellen von Software.\"\n",
    "]\n",
    "\n",
    "query_de = \"Was sollten wir über den Kosmos wissen?\""
   ]
  },
  {
   "cell_type": "code",
   "execution_count": 2,
   "metadata": {},
   "outputs": [
    {
     "name": "stderr",
     "output_type": "stream",
     "text": [
      "/home/ogu/source/workshop-grundlagen-ai/.venv/lib/python3.10/site-packages/sentence_transformers/cross_encoder/CrossEncoder.py:11: TqdmWarning: IProgress not found. Please update jupyter and ipywidgets. See https://ipywidgets.readthedocs.io/en/stable/user_install.html\n",
      "  from tqdm.autonotebook import tqdm, trange\n",
      "/home/ogu/source/workshop-grundlagen-ai/.venv/lib/python3.10/site-packages/transformers/tokenization_utils_base.py:1601: FutureWarning: `clean_up_tokenization_spaces` was not set. It will be set to `True` by default. This behavior will be depracted in transformers v4.45, and will be then set to `False` by default. For more details check this issue: https://github.com/huggingface/transformers/issues/31884\n",
      "  warnings.warn(\n"
     ]
    }
   ],
   "source": [
    "from sentence_transformers import SentenceTransformer, util\n",
    "\n",
    "model = SentenceTransformer('all-MiniLM-L6-v2')"
   ]
  },
  {
   "cell_type": "code",
   "execution_count": 3,
   "metadata": {},
   "outputs": [],
   "source": [
    "documents = documents_en\n",
    "document_embeddings = model.encode(documents)\n"
   ]
  },
  {
   "cell_type": "code",
   "execution_count": 4,
   "metadata": {},
   "outputs": [
    {
     "name": "stdout",
     "output_type": "stream",
     "text": [
      "[[ 0.06604825  0.03773771  0.05618983 ... -0.00167178  0.01254588\n",
      "  -0.05158916]\n",
      " [-0.03979478 -0.04262383  0.00775531 ... -0.08436205  0.12263241\n",
      "   0.04048014]\n",
      " [ 0.04564362  0.06048264  0.04339307 ...  0.11470738 -0.0026209\n",
      "  -0.05829583]\n",
      " [ 0.03330444  0.01365535  0.0355151  ... -0.03018637 -0.00309008\n",
      "  -0.04680283]\n",
      " [-0.03789759  0.02261646 -0.00842148 ...  0.06241902  0.1178269\n",
      "  -0.0143394 ]]\n"
     ]
    }
   ],
   "source": [
    "print(document_embeddings)"
   ]
  },
  {
   "cell_type": "code",
   "execution_count": 5,
   "metadata": {},
   "outputs": [],
   "source": [
    "query = query_en\n",
    "query_embedding = model.encode(query)"
   ]
  },
  {
   "cell_type": "code",
   "execution_count": 6,
   "metadata": {},
   "outputs": [
    {
     "name": "stdout",
     "output_type": "stream",
     "text": [
      "[ 4.62914705e-02  2.44678203e-02  2.59826668e-02  6.44120127e-02\n",
      " -3.90694402e-02  1.00257890e-02 -2.30805110e-02 -3.36232893e-02\n",
      "  6.43345863e-02 -6.03282824e-03 -7.72347227e-02 -3.02400999e-02\n",
      " -7.61859342e-02 -8.10482132e-04 -2.32153051e-02 -3.42225842e-02\n",
      " -2.22314205e-02 -2.13744119e-02 -1.48418359e-02 -2.58312337e-02\n",
      " -4.54783998e-02  3.96699607e-02 -4.33890149e-02  3.18653435e-02\n",
      " -7.46725500e-03 -4.27516317e-03  2.00455394e-02 -4.30822223e-02\n",
      " -2.53873784e-03  3.77014466e-02  4.92584705e-02  4.62996215e-02\n",
      "  5.44667281e-02 -1.11926245e-02  3.74045060e-03  3.06871738e-02\n",
      "  5.71645685e-02 -4.06054594e-02  1.41425012e-02 -2.14181468e-02\n",
      "  3.89450006e-02 -5.24536371e-02 -1.83936898e-02  6.11959919e-02\n",
      " -1.41015425e-02  2.86271423e-02 -6.86102659e-02 -6.45716116e-02\n",
      "  3.00430246e-02  4.59449962e-02 -6.18841983e-02 -1.53703606e-02\n",
      " -2.40187999e-02  1.79406460e-02  7.20082074e-02  4.45319898e-02\n",
      " -7.45763183e-02 -8.61726031e-02  4.07769419e-02 -7.32289776e-02\n",
      "  4.57434095e-02 -5.19680604e-02 -5.89298569e-02  5.63196279e-02\n",
      " -4.42490205e-02  1.63420569e-02 -3.29641363e-04  8.75139460e-02\n",
      "  6.72161654e-02 -5.10868803e-02 -6.29362762e-02  3.00717577e-02\n",
      " -1.26330974e-03  8.57991446e-03  5.25746495e-03 -3.66448574e-02\n",
      "  4.99367490e-02 -2.95043029e-02  1.20691545e-02 -5.90997525e-02\n",
      "  2.29081158e-02  2.56867129e-02 -6.70195147e-02  8.05664733e-02\n",
      "  2.24272199e-02  2.76957266e-02 -3.98333408e-02  3.77380252e-02\n",
      " -5.59488349e-02 -2.32995697e-03  6.76897075e-03 -8.78026262e-02\n",
      " -4.12207581e-02 -2.67645586e-02  7.46309152e-03  1.56069830e-01\n",
      "  2.02522594e-02 -6.61041811e-02  6.54854998e-02  3.55037414e-02\n",
      "  1.36341732e-02  1.78600196e-03 -6.23130286e-03  8.70455354e-02\n",
      " -1.45233916e-02  2.18653623e-02 -2.21609995e-02 -3.40408422e-02\n",
      "  5.77038415e-02 -1.17393665e-03  1.72423162e-02  4.30138744e-02\n",
      " -7.35720173e-02  2.72416379e-02  6.62941188e-02 -3.47506776e-02\n",
      "  9.70994905e-02  6.85553029e-02 -7.56169930e-02 -3.82451266e-02\n",
      " -4.11140695e-02  2.61708032e-02 -5.58596943e-03  7.91605841e-03\n",
      " -1.09958388e-02 -1.19822018e-03 -4.99548204e-02 -6.38099402e-33\n",
      "  5.71948700e-02  3.40606421e-02  5.71227670e-02  1.02170326e-01\n",
      "  2.78766751e-02  6.80274963e-02  8.77572037e-03 -1.64167061e-02\n",
      "  3.40979137e-02  2.27578226e-02 -1.63378641e-02  6.50055110e-02\n",
      "  4.51958403e-02 -6.84188232e-02  1.74760949e-02  3.94222252e-02\n",
      " -5.98121136e-02  1.57649890e-02 -1.59293730e-02 -2.07578298e-02\n",
      " -4.40615080e-02  2.97725834e-02 -3.96507010e-02 -1.07535897e-02\n",
      "  3.17161083e-02 -1.87453218e-02  3.91914025e-02 -2.51452625e-02\n",
      "  1.46308281e-02 -1.38126255e-03 -5.62002398e-02  5.93941920e-02\n",
      " -6.25887662e-02  3.18737961e-02 -2.39890460e-02  5.82282580e-02\n",
      " -1.23696700e-01  2.81669609e-02 -4.69664522e-02 -8.57828036e-02\n",
      "  7.36848861e-02  4.85539213e-02 -4.13022973e-02 -3.37434225e-02\n",
      "  6.56358153e-02  5.54132275e-02  8.18621442e-02 -7.07126558e-02\n",
      "  5.75332111e-03 -2.63952911e-02 -1.45131592e-02 -6.18492067e-03\n",
      " -5.10076098e-02  2.50890385e-02  1.84701942e-02  1.93947833e-02\n",
      "  7.82267191e-03 -5.86377867e-02 -5.91878369e-02  2.80595273e-02\n",
      " -5.39311161e-03 -8.44097957e-02  4.24297005e-02  2.82493569e-02\n",
      " -6.92721736e-03  1.21780768e-01 -1.10989027e-01 -1.42116975e-02\n",
      " -2.85640322e-02 -5.72038181e-02 -3.39577869e-02  6.03197441e-02\n",
      " -1.73066056e-03  1.39973750e-02 -3.82139087e-02 -1.55255096e-02\n",
      "  2.28301752e-02 -4.46169153e-02 -6.82207942e-03  3.87065075e-02\n",
      " -7.15115480e-03 -1.10538036e-01  6.19305205e-03 -2.71413270e-02\n",
      "  1.24925561e-02  2.04876103e-02  5.14961518e-02  7.90575370e-02\n",
      " -3.85844074e-02 -1.05269253e-01  2.01648865e-02  5.78880012e-02\n",
      "  7.90981501e-02 -7.27833733e-02 -1.39614284e-01  2.94846493e-33\n",
      " -4.19551618e-02 -3.22855152e-02  2.60168910e-02  3.91869359e-02\n",
      "  2.12610401e-02  2.31151432e-02 -8.90816674e-02  7.49313608e-02\n",
      " -8.43167081e-02 -1.18508292e-02  5.28544141e-03  2.71303244e-02\n",
      " -1.69229005e-02 -8.93877670e-02 -5.65700196e-02  3.80699635e-02\n",
      "  7.49279559e-02 -1.68905113e-04 -2.06393958e-03 -5.63113112e-03\n",
      " -2.00767741e-02  1.08943488e-02 -8.52336362e-02 -1.42743103e-02\n",
      "  2.49571167e-03  3.24955918e-02  2.42998339e-02 -1.15678020e-01\n",
      " -7.36427158e-02  4.32917774e-02  2.23324448e-02 -8.34087133e-02\n",
      " -4.16925326e-02  8.10890831e-03  4.54110652e-02 -6.47494243e-03\n",
      "  1.01012580e-01 -2.56910734e-02 -5.73062338e-02  5.10769337e-03\n",
      " -5.23244180e-02  7.16253519e-02 -1.08213238e-01  1.07311253e-02\n",
      "  1.01313954e-02 -4.89890985e-02  1.33986613e-02  1.57426760e-01\n",
      " -2.34917123e-02  2.85942089e-02  9.83804017e-02 -6.30325824e-02\n",
      " -2.19810428e-03 -2.09315754e-02 -5.80054184e-04  2.40352917e-02\n",
      "  2.33619530e-02  5.38681522e-02  1.04432166e-01  1.65462233e-02\n",
      "  2.54211724e-02  3.06509584e-02 -2.01704982e-03  9.46758464e-02\n",
      " -2.80270185e-02 -3.79318334e-02 -1.33063430e-02  1.12782441e-01\n",
      " -8.75759795e-02 -1.05885491e-02 -3.85765416e-05 -7.58696795e-02\n",
      " -8.86126012e-02 -2.80990452e-03  4.40222174e-02  8.64192173e-02\n",
      "  9.42766741e-02 -1.32583544e-01  1.28241554e-02  6.13219067e-02\n",
      " -3.37015539e-02 -3.59833688e-02  6.35028258e-02  4.10370938e-02\n",
      "  3.88833098e-02  4.47062291e-02  3.44636180e-02 -4.61427942e-02\n",
      "  1.07766092e-02 -4.46644276e-02 -1.13482863e-01 -6.83355480e-02\n",
      " -8.31340924e-02 -2.45368890e-02  1.05601577e-02 -1.51928052e-08\n",
      " -7.86627177e-03  1.19855171e-02  8.12139735e-03 -1.92959663e-02\n",
      "  6.81369845e-03  6.83682561e-02  2.58697458e-02  5.51948212e-02\n",
      " -5.39526939e-02  1.33707952e-02  1.32098477e-02 -1.22880749e-02\n",
      " -7.56523460e-02  1.24040850e-01  6.43081516e-02  3.08560170e-02\n",
      "  3.68291810e-02  3.01084965e-02 -2.28330344e-02  7.20231310e-02\n",
      "  1.05996579e-01  9.22351703e-02  5.38902245e-02 -7.74600506e-02\n",
      " -4.75970516e-03 -1.10231126e-02 -3.12961936e-02  6.72129989e-02\n",
      " -1.75194200e-02 -8.08407646e-03 -3.33563089e-02 -2.26027537e-02\n",
      " -1.93732977e-02 -2.78415158e-02 -8.70269015e-02  4.03497592e-02\n",
      " -1.66690722e-02 -4.28896435e-02  6.09539216e-03  2.44236048e-02\n",
      "  3.51179717e-03  7.24679306e-02 -2.32062712e-02  6.01570532e-02\n",
      " -3.95677090e-02 -2.96374857e-02  5.40357223e-03  8.18951894e-03\n",
      " -5.91739118e-02  7.46261850e-02  1.71824452e-02  3.87253575e-02\n",
      "  4.42851409e-02 -1.06806129e-01 -3.06086112e-02 -4.41324227e-02\n",
      " -1.09688073e-01  4.01693247e-02 -4.20421250e-02 -4.18036617e-02\n",
      "  3.31808738e-02 -5.32645285e-02 -7.70748407e-02  5.20215966e-02]\n"
     ]
    }
   ],
   "source": [
    "print(query_embedding)"
   ]
  },
  {
   "cell_type": "code",
   "execution_count": 7,
   "metadata": {},
   "outputs": [
    {
     "name": "stdout",
     "output_type": "stream",
     "text": [
      "Query: What should we know about the cosmos? \n",
      "\n",
      "The universe is vast and full of mysteries.\n",
      "Similarity Score: 0.5176906585693359\n",
      "Nature is an integral part of our lives.\n",
      "Similarity Score: 0.3124810457229614\n",
      "Technology is evolving at a rapid pace.\n",
      "Similarity Score: 0.10495452582836151\n"
     ]
    }
   ],
   "source": [
    "hits = util.semantic_search(query_embedding, document_embeddings*100, top_k=3)[0]\n",
    "\n",
    "\n",
    "print(\"Query:\", query, \"\\n\")\n",
    "\n",
    "for hit in hits:\n",
    "\n",
    "    most_similar_document = documents[hit['corpus_id']]\n",
    "    similarity_score = hit['score']\n",
    "    \n",
    "    print(most_similar_document)\n",
    "    print(\"Similarity Score:\", similarity_score)"
   ]
  },
  {
   "cell_type": "markdown",
   "metadata": {},
   "source": [
    "## Aufgaben\n",
    "\n",
    "* Englisch suche implementieren\n",
    "* Was passiert wenn ich deutsche Texte habe?\n",
    "* Englische Suche / Deutscher Daten (Cross langauge)\n",
    "\n",
    "Nächste Aufgabe? Was passiert wenn ich den Index Updaten muss? Wie persistiere ich meine DB?"
   ]
  }
 ],
 "metadata": {
  "kernelspec": {
   "display_name": "Python 3",
   "language": "python",
   "name": "python3"
  },
  "language_info": {
   "codemirror_mode": {
    "name": "ipython",
    "version": 3
   },
   "file_extension": ".py",
   "mimetype": "text/x-python",
   "name": "python",
   "nbconvert_exporter": "python",
   "pygments_lexer": "ipython3",
   "version": "3.10.12"
  }
 },
 "nbformat": 4,
 "nbformat_minor": 2
}
