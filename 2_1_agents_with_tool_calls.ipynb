{
 "cells": [
  {
   "cell_type": "markdown",
   "id": "2ee26e02",
   "metadata": {},
   "source": [
    "# Open AIs Agent Framework\n",
    "\n",
    "https://openai.com/index/new-tools-for-building-agents/\n",
    "\n",
    "## Sessions"
   ]
  },
  {
   "cell_type": "code",
   "execution_count": 1,
   "id": "5dcbe5c4",
   "metadata": {},
   "outputs": [],
   "source": [
    "from agents import set_trace_processors\n",
    "set_trace_processors([]) # disable trace processors for this notebook"
   ]
  },
  {
   "cell_type": "code",
   "execution_count": 2,
   "id": "c3449f51",
   "metadata": {},
   "outputs": [
    {
     "name": "stdout",
     "output_type": "stream",
     "text": [
      "Function calls itself,  \n",
      "Solving problems in layers,  \n",
      "Base case ends the flow.  \n"
     ]
    }
   ],
   "source": [
    "\n",
    "import os\n",
    "from agents import Agent, OpenAIChatCompletionsModel, Runner, SQLiteSession\n",
    "from openai import AsyncOpenAI, AsyncAzureOpenAI\n",
    "\n",
    "\n",
    "endpoint = os.environ[\"AZURE_OPENAI_ENDPOINT\"]\n",
    "api_key = os.environ[\"AZURE_OPENAI_API_KEY\"]\n",
    "deployment = os.environ[\"AZURE_OPENAI_DEPLOYMENT\"]\n",
    "\n",
    "client = AsyncAzureOpenAI(\n",
    "    azure_endpoint=endpoint,\n",
    "    api_key=api_key,\n",
    "    api_version=\"2024-08-01-preview\")\n",
    "\n",
    "model = OpenAIChatCompletionsModel( \n",
    "    model=\"gemma-3-4b-it-qat\",\n",
    "    openai_client=client\n",
    ")\n",
    "\n",
    "\n",
    "session_id = \"conversation_123\"\n",
    "session = SQLiteSession(session_id)\n",
    "\n",
    "haiku_agent = Agent(\n",
    "    name=\"Assistant\",\n",
    "    instructions=\"You only respond in haikus.\",\n",
    "    model=model\n",
    ")\n",
    "\n",
    "result = await Runner.run(haiku_agent, \"Tell me about recursion in programming.\", session=session)\n",
    "print(result.final_output)\n",
    "\n"
   ]
  },
  {
   "cell_type": "code",
   "execution_count": 3,
   "id": "ec707893",
   "metadata": {},
   "outputs": [
    {
     "name": "stdout",
     "output_type": "stream",
     "text": [
      "Funktion ruft sich,  \n",
      "Löst Probleme in Schichten,  \n",
      "Basisfall beendet.  \n"
     ]
    }
   ],
   "source": [
    "result = await Runner.run(haiku_agent, \"Translate this into german.\", session=session)\n",
    "print(result.final_output)\n"
   ]
  },
  {
   "cell_type": "markdown",
   "id": "19777af8",
   "metadata": {},
   "source": [
    "## Tool Calls"
   ]
  },
  {
   "cell_type": "code",
   "execution_count": 4,
   "id": "38113a25",
   "metadata": {},
   "outputs": [
    {
     "name": "stdout",
     "output_type": "stream",
     "text": [
      "[debug] get_weather called\n",
      "Tokyo's weather bright,  \n",
      "Sunny skies and gentle breeze,  \n",
      "Temperature's just right.\n"
     ]
    }
   ],
   "source": [
    "from pydantic import BaseModel\n",
    "\n",
    "from agents import Agent, Runner, function_tool\n",
    "\n",
    "\n",
    "class Weather(BaseModel):\n",
    "    city: str\n",
    "    temperature_range: str\n",
    "    conditions: str\n",
    "\n",
    "\n",
    "@function_tool\n",
    "def get_weather(city: str) -> Weather:\n",
    "    print(\"[debug] get_weather called\")\n",
    "    return Weather(city=city, temperature_range=\"14-20C\", conditions=\"Sunny with wind.\")\n",
    "\n",
    "\n",
    "haiku_agent = Agent(\n",
    "    name=\"Assistant\",\n",
    "    instructions=\"You only respond in haikus.\",\n",
    "    model=model,\n",
    "    tools=[get_weather]\n",
    ")\n",
    "\n",
    "result = await Runner.run(haiku_agent, input=\"What's the weather in Tokyo?\")\n",
    "print(result.final_output)\n"
   ]
  }
 ],
 "metadata": {
  "kernelspec": {
   "display_name": "Python 3",
   "language": "python",
   "name": "python3"
  },
  "language_info": {
   "codemirror_mode": {
    "name": "ipython",
    "version": 3
   },
   "file_extension": ".py",
   "mimetype": "text/x-python",
   "name": "python",
   "nbconvert_exporter": "python",
   "pygments_lexer": "ipython3",
   "version": "3.12.11"
  }
 },
 "nbformat": 4,
 "nbformat_minor": 5
}
