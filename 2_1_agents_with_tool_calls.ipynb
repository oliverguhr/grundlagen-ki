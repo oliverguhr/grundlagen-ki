{
 "cells": [
  {
   "cell_type": "markdown",
   "id": "2ee26e02",
   "metadata": {},
   "source": [
    "# Open AIs Agent Framework\n",
    "\n",
    "https://openai.com/index/new-tools-for-building-agents/\n",
    "\n",
    "## Sessions"
   ]
  },
  {
   "cell_type": "code",
   "execution_count": 5,
   "id": "5dcbe5c4",
   "metadata": {},
   "outputs": [],
   "source": [
    "from agents import set_trace_processors\n",
    "set_trace_processors([]) # disable trace processors for this notebook"
   ]
  },
  {
   "cell_type": "code",
   "execution_count": null,
   "id": "c3449f51",
   "metadata": {},
   "outputs": [
    {
     "name": "stdout",
     "output_type": "stream",
     "text": [
      "Functions call back,  \n",
      "Base case halts the cycle,  \n",
      "Loops in elegance.  \n"
     ]
    }
   ],
   "source": [
    "\n",
    "import os\n",
    "from agents import Agent, OpenAIChatCompletionsModel, Runner, SQLiteSession\n",
    "from openai import AsyncOpenAI, AsyncAzureOpenAI\n",
    "\n",
    "\n",
    "endpoint = os.environ[\"AZURE_OPENAI_ENDPOINT\"]\n",
    "api_key = os.environ[\"AZURE_OPENAI_API_KEY\"]\n",
    "deployment = os.environ[\"AZURE_OPENAI_DEPLOYMENT\"]\n",
    "\n",
    "client = AsyncAzureOpenAI(\n",
    "    azure_endpoint=endpoint,\n",
    "    api_key=api_key,\n",
    "    api_version=\"2024-08-01-preview\")\n",
    "\n",
    "model = OpenAIChatCompletionsModel( \n",
    "    model=deployment,\n",
    "    openai_client=client\n",
    ")\n",
    "\n",
    "\n",
    "session_id = \"conversation_123\"\n",
    "session = SQLiteSession(session_id)\n",
    "\n",
    "haiku_agent = Agent(\n",
    "    name=\"Assistant\",\n",
    "    instructions=\"You only respond in haikus.\",\n",
    "    model=model\n",
    ")\n",
    "\n",
    "result = await Runner.run(haiku_agent, \"Tell me about recursion in programming.\", session=session)\n",
    "print(result.final_output)\n",
    "\n"
   ]
  },
  {
   "cell_type": "code",
   "execution_count": 7,
   "id": "ec707893",
   "metadata": {},
   "outputs": [
    {
     "name": "stdout",
     "output_type": "stream",
     "text": [
      "Im Code ruft sich,  \n",
      "Eine Funktion selbst an,  \n",
      "Schleifen durch die Zeit.  \n"
     ]
    }
   ],
   "source": [
    "result = await Runner.run(haiku_agent, \"Translate this into german.\", session=session)\n",
    "print(result.final_output)\n"
   ]
  },
  {
   "cell_type": "markdown",
   "id": "19777af8",
   "metadata": {},
   "source": [
    "## Tool Calls"
   ]
  },
  {
   "cell_type": "code",
   "execution_count": 10,
   "id": "38113a25",
   "metadata": {},
   "outputs": [
    {
     "name": "stdout",
     "output_type": "stream",
     "text": [
      "[debug] get_weather called for city: Tokyo\n",
      "Tokyo’s weather bright,  \n",
      "Sunny skies, winds take their flight,  \n",
      "Fourteen to twenty.\n"
     ]
    }
   ],
   "source": [
    "from pydantic import BaseModel\n",
    "\n",
    "from agents import Agent, Runner, function_tool\n",
    "\n",
    "\n",
    "class Weather(BaseModel):\n",
    "    city: str\n",
    "    temperature_range: str\n",
    "    conditions: str\n",
    "\n",
    "\n",
    "@function_tool\n",
    "def get_weather(city: str) -> Weather:\n",
    "    '''Get the current weather for a given city'''\n",
    "\n",
    "    print(f\"[debug] get_weather called for city: {city}\")\n",
    "    return Weather(city=city, temperature_range=\"14-20C\", conditions=\"Sunny with wind.\")\n",
    "\n",
    "\n",
    "haiku_agent = Agent(\n",
    "    name=\"Assistant\",\n",
    "    instructions=\"You only respond in haikus.\",\n",
    "    model=model,\n",
    "    tools=[get_weather]\n",
    ")\n",
    "\n",
    "result = await Runner.run(haiku_agent, input=\"What's the weather in Tokyo?\")\n",
    "print(result.final_output)\n"
   ]
  },
  {
   "cell_type": "code",
   "execution_count": 12,
   "id": "35d1a17a",
   "metadata": {},
   "outputs": [
    {
     "name": "stdout",
     "output_type": "stream",
     "text": [
      "[debug] get_weather called for city: Berlin\n",
      "Berlin, Hauptstadt,  \n",
      "Wetter sonnig und warm,  \n",
      "Winde wehen sanft.\n"
     ]
    }
   ],
   "source": [
    "result = await Runner.run(haiku_agent, input=\"Was ist die Hauptstadt von Deutschland und wie ist da das wetter?\")\n",
    "print(result.final_output)"
   ]
  }
 ],
 "metadata": {
  "kernelspec": {
   "display_name": "Python 3",
   "language": "python",
   "name": "python3"
  },
  "language_info": {
   "codemirror_mode": {
    "name": "ipython",
    "version": 3
   },
   "file_extension": ".py",
   "mimetype": "text/x-python",
   "name": "python",
   "nbconvert_exporter": "python",
   "pygments_lexer": "ipython3",
   "version": "3.12.11"
  }
 },
 "nbformat": 4,
 "nbformat_minor": 5
}
