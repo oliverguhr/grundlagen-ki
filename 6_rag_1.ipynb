{
 "cells": [
  {
   "cell_type": "code",
   "execution_count": 21,
   "metadata": {},
   "outputs": [],
   "source": [
    "import os\n",
    "import dotenv\n",
    "\n",
    "dotenv.load_dotenv()\n",
    "\n",
    "endpoint = os.environ[\"AZURE_OPENAI_ENDPOINT\"]\n",
    "api_key = os.environ[\"AZURE_OPENAI_API_KEY\"]\n",
    "deployment = os.environ[\"AZURE_OPENAI_DEPLOYMENT\"]"
   ]
  },
  {
   "cell_type": "code",
   "execution_count": 22,
   "metadata": {},
   "outputs": [],
   "source": [
    "from openai import AzureOpenAI\n",
    "\n",
    "\n",
    "client = AzureOpenAI(\n",
    "  azure_endpoint = endpoint, \n",
    "  api_key= api_key,  \n",
    "  api_version=\"2024-08-01-preview\"\n",
    ")"
   ]
  },
  {
   "cell_type": "code",
   "execution_count": 23,
   "metadata": {},
   "outputs": [
    {
     "name": "stdout",
     "output_type": "stream",
     "text": [
      "Die Telekom MMS (Multimedia Messaging Service) ist ein Dienst, der von der Deutschen Telekom bereitgestellt wird und es Nutzern ermöglicht, Multimedia-Nachrichten zu versenden. Im Gegensatz zu herkömmlichen SMS, die nur Textnachrichten unterstützen\n"
     ]
    }
   ],
   "source": [
    "message_text = [\n",
    "    {\"role\":\"system\",\"content\":\"Du bist ein AI Assistent der Menschen hilft Antworten zu finden.\"},\n",
    "    {\"role\":\"user\",\"content\":\"Was ist die Telekom MMS?\"},]\n",
    "\n",
    "completion = client.chat.completions.create(\n",
    "  model=deployment,\n",
    "  messages = message_text,\n",
    "  max_tokens=50\n",
    ")\n",
    "\n",
    "print(completion.choices[0].message.content)"
   ]
  },
  {
   "cell_type": "markdown",
   "metadata": {},
   "source": [
    "# RAG\n",
    "\n",
    "\n",
    "RAG (Retrieval-Augmented Generation) ist ein Modell, das aus zwei Hauptkomponenten besteht: einem Retrieval-System und einem Generierungsmodell. Das Ziel von RAG ist es, die Qualität der Textgenerierung zu verbessern, indem es relevante und aktuelle Informationen aus einer großen Datenbank oder einem Datensatz abruft und diese Informationen zur Unterstützung des Generierungsprozesses verwendet.\n",
    "\n",
    "Das Verfahren funktioniert in zwei Schritten:\n",
    "\n",
    "1. Retrieval (Abruf): Zuerst sucht das Retrieval-System in einer umfangreichen Datenquelle nach Informationen, die relevant für die aktuelle Anfrage oder den Kontext sind. Diese Informationen werden als Unterstützung für die Textgenerierung ausgewählt.\n",
    "2. Generation (Generierung): Anschließend verwendet das Generierungsmodell, in der Regel ein LLM, sowohl den ursprünglichen Text als auch die abgerufenen Informationen, um eine präzise und kontextuell relevante Antwort zu erzeugen."
   ]
  },
  {
   "cell_type": "code",
   "execution_count": 24,
   "metadata": {},
   "outputs": [
    {
     "name": "stdout",
     "output_type": "stream",
     "text": [
      "Die Deutsche Telekom MMS GmbH (Telekom MMS) ist ein Digital-Dienstleister, der Unternehmen, sowohl Großkonzerne als auch mittelständische, bei ihrer digitalen Transformation unterstützt. Das Unternehmen bietet verschiedene Dienstleistungen an, um die digitale Transformation in\n"
     ]
    }
   ],
   "source": [
    "prompt = \"\"\"Beantworten die Fragen der Nutzenden auf der Grundlage des unten stehenden Kontexts.\n",
    "\n",
    "context:\n",
    "Die Deutsche Telekom MMS GmbH (Telekom MMS) ist ein Digital-Dienstleister, der sich als Begleiter von Großkonzernen und mittelständischen Unternehmen bei der digitalen Transformation versteht.\n",
    "\"\"\"\n",
    "\n",
    "\n",
    "message_text = [\n",
    "    {\"role\":\"system\",\"content\":prompt},\n",
    "    {\"role\":\"user\",\"content\":\"Was ist die Telekom MMS?\"},]\n",
    "\n",
    "completion = client.chat.completions.create(\n",
    "  model=deployment,\n",
    "  messages = message_text,  \n",
    "  max_tokens=50\n",
    ")\n",
    "\n",
    "print(completion.choices[0].message.content)"
   ]
  },
  {
   "cell_type": "markdown",
   "metadata": {},
   "source": [
    "## Laden und durchsuchen von eigenen Daten\n"
   ]
  },
  {
   "cell_type": "code",
   "execution_count": 25,
   "metadata": {},
   "outputs": [
    {
     "data": {
      "text/plain": [
       "2"
      ]
     },
     "execution_count": 25,
     "metadata": {},
     "output_type": "execute_result"
    }
   ],
   "source": [
    "from langchain_community.document_loaders import DirectoryLoader\n",
    "loader = DirectoryLoader('./docs', glob=\"**/*.md\")\n",
    "data = loader.load()\n",
    "len(data)"
   ]
  },
  {
   "cell_type": "code",
   "execution_count": 26,
   "metadata": {},
   "outputs": [
    {
     "data": {
      "text/plain": [
       "Document(metadata={'source': 'docs/index.md'}, page_content='Personen\\n\\nOliver Guhr, Schulungsleiter')"
      ]
     },
     "execution_count": 26,
     "metadata": {},
     "output_type": "execute_result"
    }
   ],
   "source": [
    "# das array enthält alle texte aller Dateien\n",
    "\n",
    "data[1]"
   ]
  },
  {
   "cell_type": "markdown",
   "metadata": {},
   "source": [
    "### Wie können wir die Texte in kürzere Abschnitte unterteilen?\n",
    "\n",
    "Web Demo [Chunk Visualizer](https://huggingface.co/spaces/m-ric/chunk_visualizer)"
   ]
  },
  {
   "cell_type": "code",
   "execution_count": 27,
   "metadata": {},
   "outputs": [
    {
     "name": "stdout",
     "output_type": "stream",
     "text": [
      "24\n"
     ]
    },
    {
     "data": {
      "text/plain": [
       "[Document(metadata={'source': 'docs/mms.md'}, page_content='Telekom MMS\\n\\nDie Deutsche Telekom MMS GmbH (Telekom MMS) ist ein Digital-Dienstleister, der sich als Begleiter von Großkonzernen und mittelständischen Unternehmen bei der digitalen Transformation versteht.'),\n",
       " Document(metadata={'source': 'docs/mms.md'}, page_content='Über 2.200 Mitarbeitende an neun Standorten in Deutschland entwickeln zukunftsfähige Geschäftsmodelle für digitale Erlebnisse. Telekom MMS bietet ein dynamisches Web- und Application-Management und sorgt mit dem hauseigenen akkreditierten Test-Center für höchste Softwarequalität, Barrierefreiheit und IT-Sicherheit.'),\n",
       " Document(metadata={'source': 'docs/mms.md'}, page_content='Das Unternehmen zählt zum Konzern Deutsche Telekom AG und tritt ebenfalls mit dem T-Logo auf. Das Unternehmen hat Standorte in Dresden, Leipzig, Jena, Berlin, Rostock, München, Stuttgart, Bonn und Hamburg. Geschichte'),\n",
       " Document(metadata={'source': 'docs/mms.md'}, page_content='Das Unternehmen wurde 1995 unter dem Namen „Multimedia Software GmbH Dresden“ als Tochterunternehmen der Deutschen Telekom gegründet. Zielsetzung war es, Lösungen für das interaktive Fernsehen zu entwickeln. Neben CD-ROMs und Kiosksystemen für Unternehmen kamen später Multimedia-Anwendungen rund um das Internet und E-Commerce hinzu.'),\n",
       " Document(metadata={'source': 'docs/mms.md'}, page_content='2002 erfolgte die Umfirmierung in „T-Systems Multimedia Solutions GmbH“ als hundertprozentige Tochter der T-Systems International GmbH, die 2000 gegründet wurde und damals die bisherigen Tochtergesellschaften der Telekom DeTeSystems, DeTeCSM, Detecon, T-Data, T-Nova, die Konzernbereiche Datenkommunikation und Media Broadcast sowie das von Daimler'),\n",
       " Document(metadata={'source': 'docs/mms.md'}, page_content='und Media Broadcast sowie das von Daimler erworbene debis Systemhaus zusammenfasste.'),\n",
       " Document(metadata={'source': 'docs/mms.md'}, page_content='Inzwischen realisiert das Unternehmen Lösungen für Kunden aus ganz unterschiedlichen Branchen. Schwerpunkte liegen nach eigenen Angaben in den Bereichen Digital Commerce, Websites, Intranet, Marketing, Big Data, Künstliche Intelligenz, Mobile Solutions, Retail, Security und Industrie 4.0. Das Leistungsangebot reicht von Consulting und'),\n",
       " Document(metadata={'source': 'docs/mms.md'}, page_content='Das Leistungsangebot reicht von Consulting und Projektmanagement über Content-, Test- und Support-Services bis zur Entwicklung von Software. Dazu zählen Web- und Applikations-Management und das Test and Integration Center für Softwarequalität, Barrierefreiheit und IT-Sicherheit.'),\n",
       " Document(metadata={'source': 'docs/mms.md'}, page_content='Im März 2023 ging das Unternehmen zurück an die Deutsche Telekom AG und firmiert nun unter Deutsche Telekom MMS GmbH. Dadurch rückt das Unternehmen näher an die mittelständischen Geschäftskunden der Telekom Deutschland heran und kann den Konzern auf dem Weg zur „Leading Digital Telko“ unterstützen.'),\n",
       " Document(metadata={'source': 'docs/mms.md'}, page_content='Die Geschäftsführung besteht aus einer Doppelspitze: Ralf Pechmann, mit Hauptverantwortung im Bereich Vertrieb, Marketing, Kunden und Marcus Gaube als kaufmännischer Leiter des Unternehmens. Ehemalige Geschäftsführer sind: Friedhelm Theis (1995–1998) Joachim Niemeier (1995–2005) Klaus Radermacher (1999–2002 und 2005–2007) Jens Nebendahl'),\n",
       " Document(metadata={'source': 'docs/mms.md'}, page_content='(1999–2002 und 2005–2007) Jens Nebendahl (2007–2013) Helmut Binder (2007–2008) Rolf Werner (2013–2015) Peter Klingenburg (2006–2018) Susanne Heger (2013–2019) Sven Erdmann (2019–2020)'),\n",
       " Document(metadata={'source': 'docs/mms.md'}, page_content='Im Jahr 2005 initiierte das Unternehmen das Dresdner Zukunftsforum zum Thema „Arbeiten und Leben in der digitalen Welt“, das seither fünfmal stattgefunden hat.'),\n",
       " Document(metadata={'source': 'docs/mms.md'}, page_content='Im Jahr 2006 war T-Systems Multimedia Solutions sowohl Preisträger des Ludwig-Erhard-Preises in der Kategorie „Mittlere Unternehmen“, als auch des vom European Foundation for Quality Management (EFQM) verliehenen Europäischen Qualitätspreises. Die Ehrung seitens der EFQM erfolgte für besondere Mitarbeiterorientierung in der Kategorie „People'),\n",
       " Document(metadata={'source': 'docs/mms.md'}, page_content='Mitarbeiterorientierung in der Kategorie „People Development and Involvement“. Bereits im Vorjahr hatte MMS eine Auszeichnung in der Kategorie „Continuous Learning, Innovation and Improvement“ erhalten.'),\n",
       " Document(metadata={'source': 'docs/mms.md'}, page_content='2007 war T-Systems Multimedia Solutions Mitgründer des „Arbeitskreises Software“ des Branchenverbandes Silicon Saxony.\\n\\nVon 2009 bis 2017 veranstaltete das Unternehmen jährlich einen „Hacker Day“. Ein Schwerpunktthema war ab 2012 die Barrierefreiheit in der IT.'),\n",
       " Document(metadata={'source': 'docs/mms.md'}, page_content='Ausgezeichnet wurde T-Systems Multimedia Solutions mehrfach mit dem Social Business Leader Award der ISG Information Services Group und dem iF Design Award.'),\n",
       " Document(metadata={'source': 'docs/mms.md'}, page_content='2015 startete der jährliche Dev Day als eine Idee der Software Engineering Community (SECO) der T-Systems MMS, um mit einer IT-Konferenz in Dresden einen Wissensaustausch über die Unternehmensgrenzen hinweg zu ermöglichen. Schnell verbreiterte sich auch der Fokus der Community, sodass nicht nur Softwarearchitektur-Themen eine Rolle spielten,'),\n",
       " Document(metadata={'source': 'docs/mms.md'}, page_content='Softwarearchitektur-Themen eine Rolle spielten, sondern die Community und der Dev Day rasch Anlaufstelle für jegliche Experten rund um Softwarearchitektur- und Softwareentwicklungsthemen wurden.'),\n",
       " Document(metadata={'source': 'docs/mms.md'}, page_content='2018 schloss T-Systems MMS einen Kooperationsvertrag mit dem Smart Systems Hub und ist seitdem einer der strategischen Partner. Mit dem Ziel, die reale und die digitale Welt zu vernetzen, ermöglicht der Smart Systems Hub den Zugang zu zukunftsweisenden Technologien, vernetzt relevante Partner und entwickelt Lösungen basierend auf den'),\n",
       " Document(metadata={'source': 'docs/mms.md'}, page_content='Partner und entwickelt Lösungen basierend auf den Möglichkeiten, die das Internet der Dinge bietet. Der Hub ist einer von 12 Digital Innovation Hubs in Deutschland innerhalb der de:hub-Initiative des Bundesministeriums für Wirtschaft und Klimaschutz (BMWK).'),\n",
       " Document(metadata={'source': 'docs/mms.md'}, page_content='2017 gehörte das Unternehmen zu den Gewinnern des Outstanding Security Performance Awards.\\n\\nSeit 2015 wurde das Unternehmen jährlich vom Wirtschaftsmagazin brand eins als bester Berater in der Kategorie „Unternehmensberater“ ausgezeichnet.'),\n",
       " Document(metadata={'source': 'docs/mms.md'}, page_content='Indem T-Systems MMS eine künstliche Intelligenz mit einer weiblichen Gesangsstimme trainierte, war das Unternehmen 2022 maßgeblich an der weltweit ersten KI-Oper „chasing waterfalls“ beteiligt, die in der Semperoper Dresden aufgeführt wurde.'),\n",
       " Document(metadata={'source': 'docs/mms.md'}, page_content='2022 wurde T-Systems MMS erstmalig in die Lünendonk-Liste der führenden Anbieter im Segment Digital Experience Services (DXS) sowie im Sub-Ranking der Unternehmen mit DXS als Kernbereich aufgenommen.'),\n",
       " Document(metadata={'source': 'docs/index.md'}, page_content='Personen\\n\\nOliver Guhr, Schulungsleiter')]"
      ]
     },
     "execution_count": 27,
     "metadata": {},
     "output_type": "execute_result"
    }
   ],
   "source": [
    "from langchain_text_splitters import RecursiveCharacterTextSplitter,SentenceTransformersTokenTextSplitter,MarkdownHeaderTextSplitter\n",
    "\n",
    "text_splitter = RecursiveCharacterTextSplitter(chunk_size=350, chunk_overlap=50)\n",
    "all_splits = text_splitter.split_documents(data)\n",
    "\n",
    "print(len(all_splits))\n",
    "all_splits"
   ]
  },
  {
   "cell_type": "code",
   "execution_count": 28,
   "metadata": {},
   "outputs": [],
   "source": [
    "import chromadb\n",
    "from chromadb.utils import embedding_functions\n",
    "\n",
    "# setup Chroma in-memory, for easy prototyping. Can add persistence easily!\n",
    "chroma = chromadb.Client()\n",
    "\n",
    "# Create collection. get_collection, get_or_create_collection, delete_collection also available!\n",
    "sentence_transformer_ef = embedding_functions.SentenceTransformerEmbeddingFunction(model_name=\"paraphrase-multilingual-MiniLM-L12-v2\")\n",
    "try:\n",
    "    chroma.delete_collection(\"documents\")\n",
    "except:\n",
    "    pass\n",
    "collection = chroma.get_or_create_collection(\"documents\",embedding_function=sentence_transformer_ef)\n",
    "\n",
    "# Add docs to the collection. Can also update and delete. Row-based API coming soon!\n",
    "collection.add(\n",
    "    documents=[item.page_content for item in all_splits], # we handle tokenization, embedding, and indexing automatically. You can skip that and add your own embeddings as well\n",
    "    metadatas=[item.metadata for item in all_splits], # filter on these!\n",
    "    ids=[str(id) for id in range(0,len(all_splits))], # unique for each doc\n",
    ")\n"
   ]
  },
  {
   "cell_type": "code",
   "execution_count": 29,
   "metadata": {},
   "outputs": [
    {
     "data": {
      "text/plain": [
       "{'ids': [['23', '9']],\n",
       " 'embeddings': None,\n",
       " 'documents': [['Personen\\n\\nOliver Guhr, Schulungsleiter',\n",
       "   'Die Geschäftsführung besteht aus einer Doppelspitze: Ralf Pechmann, mit Hauptverantwortung im Bereich Vertrieb, Marketing, Kunden und Marcus Gaube als kaufmännischer Leiter des Unternehmens. Ehemalige Geschäftsführer sind: Friedhelm Theis (1995–1998) Joachim Niemeier (1995–2005) Klaus Radermacher (1999–2002 und 2005–2007) Jens Nebendahl']],\n",
       " 'uris': None,\n",
       " 'data': None,\n",
       " 'metadatas': [[{'source': 'docs/index.md'}, {'source': 'docs/mms.md'}]],\n",
       " 'distances': [[8.44650650024414, 12.90152359008789]],\n",
       " 'included': [<IncludeEnum.distances: 'distances'>,\n",
       "  <IncludeEnum.documents: 'documents'>,\n",
       "  <IncludeEnum.metadatas: 'metadatas'>]}"
      ]
     },
     "execution_count": 29,
     "metadata": {},
     "output_type": "execute_result"
    }
   ],
   "source": [
    "# Query/search 2 most similar results. You can also .get by id\n",
    "results = collection.query(\n",
    "    query_texts=[\"Wer ist die Schulungsleiter\"],\n",
    "    n_results=2,\n",
    "    # where={\"metadata_field\": \"is_equal_to_this\"}, # optional filter\n",
    "    #where_document={\"$contains\":\"Oliver\"}  # optional filter\n",
    ")\n",
    "\n",
    "results"
   ]
  },
  {
   "cell_type": "code",
   "execution_count": 32,
   "metadata": {},
   "outputs": [
    {
     "name": "stdout",
     "output_type": "stream",
     "text": [
      "Beantworte die Fragen der Nutzenden auf der Grundlage des Kontexts.\n",
      "\n",
      "Context:\n",
      "Personen\n",
      "\n",
      "Oliver Guhr, Schulungsleiter\n",
      "-\n",
      "Die Geschäftsführung besteht aus einer Doppelspitze: Ralf Pechmann, mit Hauptverantwortung im Bereich Vertrieb, Marketing, Kunden und Marcus Gaube als kaufmännischer Leiter des Unternehmens. Ehemalige Geschäftsführer sind: Friedhelm Theis (1995–1998) Joachim Niemeier (1995–2005) Klaus Radermacher (1999–2002 und 2005–2007) Jens Nebendahl\n",
      "\n",
      "Wenn die Informationen zur Frage nicht im Kontext enthalten sind, dann Antworte \"Ich weiß es nicht.\"\n",
      "\n",
      "----\n",
      "Der Schulungsleiter ist Oliver Guhr.\n"
     ]
    }
   ],
   "source": [
    "user = \"Wer ist der Schulungsleiter?\"\n",
    "\n",
    "results = collection.query(\n",
    "    query_texts=[user],\n",
    "    n_results=2,\n",
    "    # where={\"metadata_field\": \"is_equal_to_this\"}, # optional filter\n",
    "    #where_document={\"$contains\":\"Oliver\"}  # optional filter\n",
    ")\n",
    "\n",
    "context = \"\\n-\\n\".join(results[\"documents\"][0])\n",
    "\n",
    "prompt = f\"\"\"Beantworte die Fragen der Nutzenden auf der Grundlage des Kontexts.\n",
    "\n",
    "Context:\n",
    "{context}\n",
    "\n",
    "Wenn die Informationen zur Frage nicht im Kontext enthalten sind, dann Antworte \"Ich weiß es nicht.\"\n",
    "\"\"\"\n",
    "\n",
    "print(prompt)\n",
    "\n",
    "message_text = [\n",
    "    {\"role\":\"system\",\"content\":prompt},\n",
    "    {\"role\":\"user\",\"content\":user},]\n",
    "\n",
    "completion = client.chat.completions.create(\n",
    "  model=deployment,\n",
    "  messages = message_text,  \n",
    "  max_tokens=200\n",
    ")\n",
    "\n",
    "print(\"----\")\n",
    "print(completion.choices[0].message.content)"
   ]
  },
  {
   "cell_type": "markdown",
   "metadata": {},
   "source": [
    "## Nächster Schritt\n",
    "\n",
    "Was passiert, wenn der Nutzer \"Erzähle mir mehr!\" im Chat eingibt? Wie können wir diese Feature implementieren?\n",
    "\n",
    "Bonus: \n",
    "\n",
    "* Erstelle einen ChatBot für den EU AI Act. Welche Schritte sind dafür notwendig?\n",
    "\n",
    "* Einstieg in [LangChain](https://www.langchain.com/). Die drei Notebooks im LangChain Ordner demonstrien wie man diesen Workflow mit Langchain implementiert."
   ]
  },
  {
   "cell_type": "markdown",
   "metadata": {},
   "source": []
  }
 ],
 "metadata": {
  "kernelspec": {
   "display_name": "Python 3",
   "language": "python",
   "name": "python3"
  },
  "language_info": {
   "codemirror_mode": {
    "name": "ipython",
    "version": 3
   },
   "file_extension": ".py",
   "mimetype": "text/x-python",
   "name": "python",
   "nbconvert_exporter": "python",
   "pygments_lexer": "ipython3",
   "version": "3.12.8"
  }
 },
 "nbformat": 4,
 "nbformat_minor": 2
}
