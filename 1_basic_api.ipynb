{
 "cells": [
  {
   "cell_type": "code",
   "execution_count": 1,
   "metadata": {},
   "outputs": [],
   "source": [
    "import os\n",
    "import openai\n",
    "import dotenv\n",
    "\n",
    "dotenv.load_dotenv()\n",
    "\n",
    "endpoint = os.environ[\"AZURE_OPENAI_ENDPOINT\"]\n",
    "api_key = os.environ[\"AZURE_OPENAI_API_KEY\"]\n",
    "deployment = os.environ[\"AZURE_OPENAI_DEPLOYMENT\"]"
   ]
  },
  {
   "cell_type": "code",
   "execution_count": 2,
   "metadata": {},
   "outputs": [],
   "source": [
    "client = openai.AzureOpenAI(\n",
    "        azure_endpoint=endpoint,\n",
    "        api_key=api_key,\n",
    "        api_version=\"2023-09-01-preview\"\n",
    ")"
   ]
  },
  {
   "cell_type": "code",
   "execution_count": 3,
   "metadata": {},
   "outputs": [
    {
     "name": "stdout",
     "output_type": "stream",
     "text": [
      "Die Telekom MMS (Multimedia Messaging Service) ist ein Dienst, der es Nutzern ermöglicht, Multimedia-Nachrichten über mobile Netzwerke zu senden und zu empfangen. Im Gegensatz zu herkömmlichen SMS, die nur Textnachrichten unterstützen,\n"
     ]
    }
   ],
   "source": [
    "message_text = [\n",
    "    {\"role\":\"system\",\"content\":\"Du bist ein AI Assistent der Menschen hilft Antworten zu finden.\"},\n",
    "    {\"role\":\"user\",\"content\":\"Was ist die Telekom MMS?\"},]\n",
    "\n",
    "completion = client.chat.completions.create(\n",
    "  model=deployment,\n",
    "  messages = message_text,\n",
    "  max_tokens=50\n",
    ")\n",
    "\n",
    "print(completion.choices[0].message.content)"
   ]
  },
  {
   "cell_type": "code",
   "execution_count": 4,
   "metadata": {},
   "outputs": [
    {
     "name": "stdout",
     "output_type": "stream",
     "text": [
      "None\n",
      "Die\n",
      " Telekom\n",
      " MMS\n",
      " (\n",
      "Mult\n",
      "imedia\n",
      " Messaging\n",
      " Service\n",
      ")\n",
      " ist\n",
      " ein\n",
      " Dienst\n",
      ",\n",
      " der\n",
      " es\n",
      " Nutz\n",
      "ern\n",
      " ermöglicht\n",
      ",\n",
      " Multimedia\n",
      "-In\n",
      "halte\n",
      " wie\n",
      " Fotos\n",
      ",\n",
      " Videos\n",
      " und\n",
      " Aud\n",
      "iod\n",
      "ate\n",
      "ien\n",
      " über\n",
      " Mobil\n",
      "funk\n",
      "net\n",
      "ze\n",
      " zu\n",
      " senden\n",
      " und\n",
      " zu\n",
      " emp\n",
      "fangen\n",
      ".\n",
      " MMS\n",
      " erweitert\n",
      " die\n",
      " Möglichkeiten\n",
      " von\n",
      " her\n",
      "kö\n",
      "None\n"
     ]
    }
   ],
   "source": [
    "completion = client.chat.completions.create(\n",
    "  model=deployment,\n",
    "  messages = message_text,\n",
    "  max_tokens=50, stream=True\n",
    ")\n",
    "\n",
    "for element in completion: \n",
    "    if len(element.choices) > 0:    \n",
    "        print(element.choices[0].delta.content)"
   ]
  },
  {
   "cell_type": "code",
   "execution_count": null,
   "metadata": {},
   "outputs": [],
   "source": []
  }
 ],
 "metadata": {
  "kernelspec": {
   "display_name": "Python 3",
   "language": "python",
   "name": "python3"
  },
  "language_info": {
   "codemirror_mode": {
    "name": "ipython",
    "version": 3
   },
   "file_extension": ".py",
   "mimetype": "text/x-python",
   "name": "python",
   "nbconvert_exporter": "python",
   "pygments_lexer": "ipython3",
   "version": "3.10.12"
  }
 },
 "nbformat": 4,
 "nbformat_minor": 2
}
