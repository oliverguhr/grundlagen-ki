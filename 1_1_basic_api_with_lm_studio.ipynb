{
 "cells": [
  {
   "cell_type": "code",
   "execution_count": 46,
   "metadata": {},
   "outputs": [],
   "source": [
    "import os\n",
    "import openai\n",
    "import dotenv\n",
    "\n",
    "dotenv.load_dotenv()\n",
    "\n",
    "endpoint = os.environ[\"LMSTUDIO_API_URL\"]\n",
    "api_key = os.environ[\"LMSTUDIO_API_KEY\"]\n",
    "deployment = \"llama-3.2-3b-instruct\""
   ]
  },
  {
   "cell_type": "code",
   "execution_count": 47,
   "metadata": {},
   "outputs": [],
   "source": [
    "if endpoint == \"\" or api_key == \"\" or deployment == \"\":\n",
    "    print(\"Bitte trage die API Daten in .env Datei ein. \")"
   ]
  },
  {
   "cell_type": "code",
   "execution_count": 48,
   "metadata": {},
   "outputs": [],
   "source": [
    "client = openai.OpenAI(\n",
    "        base_url=endpoint,\n",
    "        api_key=api_key,\n",
    ")"
   ]
  },
  {
   "cell_type": "markdown",
   "metadata": {},
   "source": [
    "## Senden von Nachrichten"
   ]
  },
  {
   "cell_type": "code",
   "execution_count": 49,
   "metadata": {},
   "outputs": [
    {
     "name": "stdout",
     "output_type": "stream",
     "text": [
      "Eine gute Frage!\n",
      "\n",
      "MMS steht für \"Multimedia Messaging Service\". Es ist eine Form der Mobilfunk-Kommunikation, die es ermöglicht, Bilder, Videos und andere multimediae Inhalte über das Internet (z.B. über das Mobilfunknetz) zu senden\n"
     ]
    }
   ],
   "source": [
    "message_text = [\n",
    "    {\"role\":\"system\",\"content\":\"Du bist ein AI Assistent der Menschen hilft Antworten zu finden.\"},\n",
    "    {\"role\":\"user\",\"content\":\"Was ist die Telekom MMS?\"},]\n",
    "\n",
    "completion = client.chat.completions.create(\n",
    "  model=deployment,\n",
    "  messages = message_text,\n",
    "  max_tokens=60\n",
    ")\n",
    "\n",
    "print(completion.choices[0].message.content)"
   ]
  },
  {
   "cell_type": "markdown",
   "metadata": {},
   "source": [
    "## Streaming von Antworten"
   ]
  },
  {
   "cell_type": "code",
   "execution_count": 50,
   "metadata": {},
   "outputs": [
    {
     "name": "stdout",
     "output_type": "stream",
     "text": [
      "Die\n",
      " Tele\n",
      "kom\n",
      " M\n",
      "MS\n",
      " ist\n",
      " eine\n",
      " Kur\n",
      "z\n",
      "form\n",
      " für\n",
      " \"\n",
      "Mult\n",
      "imedia\n",
      " Messaging\n",
      " Service\n",
      "\".\n",
      " M\n",
      "MS\n",
      " ist\n",
      " ein\n",
      " Standard\n",
      " für\n",
      " den\n",
      " Vers\n",
      "and\n",
      " von\n",
      " Bild\n",
      "ern\n",
      ",\n",
      " Videos\n",
      " und\n",
      " anderen\n",
      " multif\n",
      "unkt\n",
      "ional\n",
      "en\n",
      " Med\n",
      "ien\n",
      " über\n",
      " Mobil\n",
      "f\n",
      "unk\n",
      "net\n",
      "ze\n",
      ".\n",
      "\n",
      "\n",
      "M\n",
      "MS\n",
      " ermög\n",
      "None\n"
     ]
    }
   ],
   "source": [
    "completion = client.chat.completions.create(\n",
    "  model=deployment,\n",
    "  messages = message_text,\n",
    "  max_tokens=50, stream=True\n",
    ")\n",
    "\n",
    "for element in completion: \n",
    "    if len(element.choices) > 0:    \n",
    "        print(element.choices[0].delta.content)"
   ]
  },
  {
   "cell_type": "markdown",
   "metadata": {},
   "source": [
    "## Structured Outputs - ein JSON als Antwort"
   ]
  },
  {
   "cell_type": "code",
   "execution_count": 58,
   "metadata": {},
   "outputs": [
    {
     "name": "stdout",
     "output_type": "stream",
     "text": [
      "name='Tina' date='12. Dezember 2024' participants=['Toni']\n"
     ]
    }
   ],
   "source": [
    "from pydantic import BaseModel\n",
    "\n",
    "class CalendarEvent(BaseModel):\n",
    "    name: str\n",
    "    date: str\n",
    "    participants: list[str]\n",
    "\n",
    "completion = client.beta.chat.completions.parse(\n",
    "    model=deployment,\n",
    "    messages=[\n",
    "        {\"role\": \"system\", \"content\": \"Extract the event information.\"},\n",
    "        {\"role\": \"user\", \"content\": \"Tina und Toni treffen sich am 12. Dezember 2024 zum einer Tombola.\"},\n",
    "    ],\n",
    "    response_format=CalendarEvent,\n",
    "    temperature=0.0,\n",
    ")\n",
    "\n",
    "event = completion.choices[0].message.parsed\n",
    "\n",
    "print(event)"
   ]
  }
 ],
 "metadata": {
  "kernelspec": {
   "display_name": "Python 3",
   "language": "python",
   "name": "python3"
  },
  "language_info": {
   "codemirror_mode": {
    "name": "ipython",
    "version": 3
   },
   "file_extension": ".py",
   "mimetype": "text/x-python",
   "name": "python",
   "nbconvert_exporter": "python",
   "pygments_lexer": "ipython3",
   "version": "3.12.8"
  }
 },
 "nbformat": 4,
 "nbformat_minor": 2
}
