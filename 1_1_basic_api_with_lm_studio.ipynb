{
 "cells": [
  {
   "cell_type": "code",
   "execution_count": 13,
   "metadata": {},
   "outputs": [],
   "source": [
    "import os\n",
    "import openai\n",
    "import dotenv\n",
    "\n",
    "dotenv.load_dotenv()\n",
    "\n",
    "endpoint = os.environ[\"AZURE_OPENAI_ENDPOINT\"]\n",
    "api_key = os.environ[\"AZURE_OPENAI_API_KEY\"]\n",
    "deployment = \"llama-3.2-3b-instruct\""
   ]
  },
  {
   "cell_type": "code",
   "execution_count": 14,
   "metadata": {},
   "outputs": [
    {
     "name": "stdout",
     "output_type": "stream",
     "text": [
      "Bitte trage die API Daten in .env Datei ein. \n"
     ]
    }
   ],
   "source": [
    "if endpoint == \"\" or api_key == \"\" or deployment == \"\":\n",
    "    print(\"Bitte trage die API Daten in .env Datei ein. \")"
   ]
  },
  {
   "cell_type": "code",
   "execution_count": 15,
   "metadata": {},
   "outputs": [],
   "source": [
    "client = openai.OpenAI(\n",
    "        base_url=\"http://host.docker.internal:1234/v1/\",\n",
    "        api_key=\"lm-studio\",\n",
    ")"
   ]
  },
  {
   "cell_type": "markdown",
   "metadata": {},
   "source": [
    "## Senden von Nachrichten"
   ]
  },
  {
   "cell_type": "code",
   "execution_count": 21,
   "metadata": {},
   "outputs": [
    {
     "name": "stdout",
     "output_type": "stream",
     "text": [
      "Die Telekom MMS ist eine Dienstleistungs-Produktlinie der Deutschen Telekom. MMS steht für \"Multi-Media Messaging Service\". Mit dieser Dienstleistung können Benutzer Bilder, Videos und andere Medien senden.\n",
      "\n",
      "Die Telekom MMS ermög\n"
     ]
    }
   ],
   "source": [
    "message_text = [\n",
    "    {\"role\":\"system\",\"content\":\"Du bist ein AI Assistent der Menschen hilft Antworten zu finden.\"},\n",
    "    {\"role\":\"user\",\"content\":\"Was ist die Telekom MMS?\"},]\n",
    "\n",
    "completion = client.chat.completions.create(\n",
    "  model=deployment,\n",
    "  messages = message_text,\n",
    "  max_tokens=60\n",
    ")\n",
    "\n",
    "print(completion.choices[0].message.content)"
   ]
  },
  {
   "cell_type": "markdown",
   "metadata": {},
   "source": [
    "## Streaming von Antworten"
   ]
  },
  {
   "cell_type": "code",
   "execution_count": 22,
   "metadata": {},
   "outputs": [
    {
     "name": "stdout",
     "output_type": "stream",
     "text": [
      "Die\n",
      " Tele\n",
      "kom\n",
      " M\n",
      "MS\n",
      " (\n",
      "Mobile\n",
      " Messaging\n",
      " Service\n",
      ")\n",
      " ist\n",
      " ein\n",
      " Dien\n",
      "st\n",
      " der\n",
      " De\n",
      "utschen\n",
      " Tele\n",
      "kom\n",
      ",\n",
      " der\n",
      " es\n",
      " ermög\n",
      "licht\n",
      ",\n",
      " text\n",
      "b\n",
      "asi\n",
      "erte\n",
      " Nachricht\n",
      "en\n",
      " und\n",
      " Bilder\n",
      " über\n",
      " das\n",
      " Internet\n",
      " auf\n",
      " Mobil\n",
      "tele\n",
      "fon\n",
      "en\n",
      " zu\n",
      " send\n",
      "en\n",
      " und\n",
      " zu\n",
      " emp\n",
      "fang\n",
      "en\n",
      "None\n"
     ]
    }
   ],
   "source": [
    "completion = client.chat.completions.create(\n",
    "  model=deployment,\n",
    "  messages = message_text,\n",
    "  max_tokens=50, stream=True\n",
    ")\n",
    "\n",
    "for element in completion: \n",
    "    if len(element.choices) > 0:    \n",
    "        print(element.choices[0].delta.content)"
   ]
  },
  {
   "cell_type": "markdown",
   "metadata": {},
   "source": [
    "## Structured Outputs - ein JSON als Antwort"
   ]
  },
  {
   "cell_type": "code",
   "execution_count": null,
   "metadata": {},
   "outputs": [
    {
     "name": "stdout",
     "output_type": "stream",
     "text": [
      "name='Tina' date=12 participants=['Tina', 'Toni']\n"
     ]
    }
   ],
   "source": [
    "from pydantic import BaseModel\n",
    "\n",
    "class CalendarEvent(BaseModel):\n",
    "    name: str\n",
    "    date: str\n",
    "    participants: list[str]\n",
    "\n",
    "completion = client.beta.chat.completions.parse(\n",
    "    model=deployment,\n",
    "    messages=[\n",
    "        {\"role\": \"system\", \"content\": \"Extract the event information.\"},\n",
    "        {\"role\": \"user\", \"content\": \"Tina und Toni treffen sich am 12. Dezember 2024 zum einer Tombola.\"},\n",
    "    ],\n",
    "    response_format=CalendarEvent,\n",
    "    temperature=0.1,\n",
    ")\n",
    "\n",
    "event = completion.choices[0].message.parsed\n",
    "\n",
    "print(event)"
   ]
  }
 ],
 "metadata": {
  "kernelspec": {
   "display_name": "Python 3",
   "language": "python",
   "name": "python3"
  },
  "language_info": {
   "codemirror_mode": {
    "name": "ipython",
    "version": 3
   },
   "file_extension": ".py",
   "mimetype": "text/x-python",
   "name": "python",
   "nbconvert_exporter": "python",
   "pygments_lexer": "ipython3",
   "version": "3.12.8"
  }
 },
 "nbformat": 4,
 "nbformat_minor": 2
}
