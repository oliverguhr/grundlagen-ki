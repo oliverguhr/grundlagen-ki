{
 "cells": [
  {
   "cell_type": "code",
   "execution_count": 5,
   "metadata": {},
   "outputs": [],
   "source": [
    "import os\n",
    "import openai\n",
    "import dotenv\n",
    "\n",
    "dotenv.load_dotenv()\n",
    "\n",
    "endpoint = os.environ[\"LMSTUDIO_API_URL\"]\n",
    "api_key = os.environ[\"LMSTUDIO_API_KEY\"]\n",
    "deployment = \"gemma-3-4b-it-qat\""
   ]
  },
  {
   "cell_type": "code",
   "execution_count": 6,
   "metadata": {},
   "outputs": [],
   "source": [
    "if endpoint == \"\" or api_key == \"\" or deployment == \"\":\n",
    "    print(\"Bitte trage die API Daten in .env Datei ein. \")"
   ]
  },
  {
   "cell_type": "code",
   "execution_count": 7,
   "metadata": {},
   "outputs": [],
   "source": [
    "client = openai.OpenAI(\n",
    "        base_url=endpoint,\n",
    "        api_key=api_key,\n",
    ")"
   ]
  },
  {
   "cell_type": "markdown",
   "metadata": {},
   "source": [
    "## Senden von Nachrichten"
   ]
  },
  {
   "cell_type": "code",
   "execution_count": 8,
   "metadata": {},
   "outputs": [
    {
     "name": "stdout",
     "output_type": "stream",
     "text": [
      "Die Telekom MMS (Multimedia Messaging Service) ist ein Dienst, mit dem du Bilder, Videos und Audiodateien über SMS-Nachrichten verschicken kannst. Im Gegensatz zu herkömmlichen SMS, die nur Text enthalten können, ermöglicht die MMS die Übertragung von Multimedia-Inhalten.\n",
      "\n",
      "Hier sind\n"
     ]
    }
   ],
   "source": [
    "message_text = [\n",
    "    {\"role\":\"system\",\"content\":\"Du bist ein AI Assistent der Menschen hilft Antworten zu finden.\"},\n",
    "    {\"role\":\"user\",\"content\":\"Was ist die Telekom MMS?\"},]\n",
    "\n",
    "completion = client.chat.completions.create(\n",
    "  model=deployment,\n",
    "  messages = message_text,\n",
    "  max_tokens=60\n",
    ")\n",
    "\n",
    "print(completion.choices[0].message.content)"
   ]
  },
  {
   "cell_type": "markdown",
   "metadata": {},
   "source": [
    "## Streaming von Antworten"
   ]
  },
  {
   "cell_type": "code",
   "execution_count": 12,
   "metadata": {},
   "outputs": [
    {
     "name": "stdout",
     "output_type": "stream",
     "text": [
      "Die Telekom MMS (Multimedia Messaging Service) ist ein Dienst, mit dem du Bilder, Videos und Audiodateien über SMS-Nachrichten verschicken kannst. Im Gegensatz zu herkömmlichen SMS, die nur Text enthalten können, ermöglicht die MMS die Übertragung von Multimedia-Inhalten.\n",
      "\n",
      "Hier sind einige wichtige Punkte zur Telekom MMS:\n",
      "\n",
      "*   **Funktionsweise:** Die MMS nutzt das GSM Multimedia-Protokoll (MMS) und wird über das Mobilfunknetz übertragen.\n",
      "*   **Kosten:** Die Kosten für MMS-Nachrichten können je nach deinem Tarif variieren. Oftmals werden sie als separate Einheit abgerechnet oder fallen unter den Datenvolumenverbrauch deines Tarifs. Es ist ratsam, deine individuellen Konditionen zu prüfen.\n",
      "*   **Qualität:** Die Qualität der übermittelten Inhalte hängt von der Netzwerkverbindung und der Größe der Datei ab.\n",
      "*   **Empfänger:** Um eine MMS-Nachricht zu senden, benötigt der Empfänger ein kompatibles Mobiltelefon mit MMS-Unterstützung.\n",
      "\n",
      "**Zusammenfassend lässt sich sagen:** Die Telekom MMS ist eine Erweiterung des SMS-Dienstes, die es dir ermöglicht, Multimedia-Inhalte über deine Mobilfunknachrichten zu verschicken.\n",
      "\n",
      "Du findest weitere Informationen und Details auf der Webseite der Telekom: [https://www.telekom.de/hilfe/mms](https://www.telekom.de/hilfe/mms)None"
     ]
    }
   ],
   "source": [
    "completion = client.chat.completions.create(\n",
    "  model=deployment,\n",
    "  messages = message_text,\n",
    "  max_tokens=300, stream=True\n",
    ")\n",
    "\n",
    "for element in completion: \n",
    "    if len(element.choices) > 0:    \n",
    "        print(element.choices[0].delta.content, end=\"\", flush=True)"
   ]
  },
  {
   "cell_type": "markdown",
   "metadata": {},
   "source": [
    "## Structured Outputs - ein JSON als Antwort"
   ]
  },
  {
   "cell_type": "code",
   "execution_count": 13,
   "metadata": {},
   "outputs": [
    {
     "name": "stdout",
     "output_type": "stream",
     "text": [
      "name='Meeting' date='December 12, 2024' participants=['Tina', 'Toni']\n"
     ]
    }
   ],
   "source": [
    "from pydantic import BaseModel\n",
    "\n",
    "class CalendarEvent(BaseModel):\n",
    "    name: str\n",
    "    date: str\n",
    "    participants: list[str]\n",
    "\n",
    "completion = client.beta.chat.completions.parse(\n",
    "    model=deployment,\n",
    "    messages=[\n",
    "        {\"role\": \"system\", \"content\": \"Extract the event information.\"},\n",
    "        {\"role\": \"user\", \"content\": \"Tina und Toni treffen sich am 12. Dezember 2024 zum einer Tombola.\"},\n",
    "    ],\n",
    "    response_format=CalendarEvent,\n",
    "    temperature=0.0,\n",
    ")\n",
    "\n",
    "event = completion.choices[0].message.parsed\n",
    "\n",
    "print(event)"
   ]
  }
 ],
 "metadata": {
  "kernelspec": {
   "display_name": "Python 3",
   "language": "python",
   "name": "python3"
  },
  "language_info": {
   "codemirror_mode": {
    "name": "ipython",
    "version": 3
   },
   "file_extension": ".py",
   "mimetype": "text/x-python",
   "name": "python",
   "nbconvert_exporter": "python",
   "pygments_lexer": "ipython3",
   "version": "3.12.9"
  }
 },
 "nbformat": 4,
 "nbformat_minor": 2
}
