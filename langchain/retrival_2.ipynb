{
  "cells": [
    {
      "cell_type": "markdown",
      "metadata": {
        "id": "gu7nfh-KDSM0"
      },
      "source": [
        "# Retrieval\n",
        "\n",
        "Retrieval is a common technique chatbots use to augment their responses with data outside a chat model's training data. This section will cover how to implement retrieval in the context of chatbots, but it's worth noting that retrieval is a very subtle and deep topic - we encourage you to explore [other parts of the documentation](/docs/use_cases/question_answering/) that go into greater depth!\n",
        "\n",
        "## Setup\n",
        "\n",
        "You'll need to install a few packages, and have your OpenAI API key set as an environment variable named `OPENAI_API_KEY`:"
      ]
    },
    {
      "cell_type": "code",
      "execution_count": 1,
      "metadata": {
        "colab": {
          "base_uri": "https://localhost:8080/"
        },
        "id": "hYSzHMVEO_pV",
        "outputId": "8b38f5ce-03ba-4bbe-eca6-620aaaab3d8c"
      },
      "outputs": [
        {
          "name": "stdout",
          "output_type": "stream",
          "text": [
            "Defaulting to user installation because normal site-packages is not writeable\n",
            "Requirement already satisfied: sentence_transformers in /home/ogu/.local/lib/python3.10/site-packages (2.2.2)\n",
            "Requirement already satisfied: langchain in /home/ogu/.local/lib/python3.10/site-packages (0.1.13)\n",
            "Requirement already satisfied: langchain-openai in /home/ogu/.local/lib/python3.10/site-packages (0.1.1)\n",
            "Requirement already satisfied: chromadb in /home/ogu/.local/lib/python3.10/site-packages (0.4.24)\n",
            "Requirement already satisfied: beautifulsoup4 in /home/ogu/.local/lib/python3.10/site-packages (4.12.3)\n",
            "Requirement already satisfied: unstructured in /home/ogu/.local/lib/python3.10/site-packages (0.12.6)\n",
            "Requirement already satisfied: huggingface-hub>=0.4.0 in /home/ogu/.local/lib/python3.10/site-packages (from sentence_transformers) (0.17.1)\n",
            "Requirement already satisfied: tqdm in /home/ogu/.local/lib/python3.10/site-packages (from sentence_transformers) (4.66.2)\n",
            "Requirement already satisfied: torchvision in /home/ogu/.local/lib/python3.10/site-packages (from sentence_transformers) (0.16.0+cpu)\n",
            "Requirement already satisfied: sentencepiece in /home/ogu/.local/lib/python3.10/site-packages (from sentence_transformers) (0.1.97)\n",
            "Requirement already satisfied: numpy in /home/ogu/.local/lib/python3.10/site-packages (from sentence_transformers) (1.26.4)\n",
            "Requirement already satisfied: scipy in /home/ogu/.local/lib/python3.10/site-packages (from sentence_transformers) (1.11.2)\n",
            "Requirement already satisfied: transformers<5.0.0,>=4.6.0 in /home/ogu/.local/lib/python3.10/site-packages (from sentence_transformers) (4.35.2)\n",
            "Requirement already satisfied: torch>=1.6.0 in /home/ogu/.local/lib/python3.10/site-packages (from sentence_transformers) (2.1.0+cpu)\n",
            "Requirement already satisfied: scikit-learn in /home/ogu/.local/lib/python3.10/site-packages (from sentence_transformers) (1.1.2)\n",
            "Requirement already satisfied: nltk in /home/ogu/.local/lib/python3.10/site-packages (from sentence_transformers) (3.8.1)\n",
            "Requirement already satisfied: langsmith<0.2.0,>=0.1.17 in /home/ogu/.local/lib/python3.10/site-packages (from langchain) (0.1.31)\n",
            "Requirement already satisfied: langchain-core<0.2.0,>=0.1.33 in /home/ogu/.local/lib/python3.10/site-packages (from langchain) (0.1.33)\n",
            "Requirement already satisfied: async-timeout<5.0.0,>=4.0.0 in /home/ogu/.local/lib/python3.10/site-packages (from langchain) (4.0.2)\n",
            "Requirement already satisfied: jsonpatch<2.0,>=1.33 in /home/ogu/.local/lib/python3.10/site-packages (from langchain) (1.33)\n",
            "Requirement already satisfied: langchain-text-splitters<0.1,>=0.0.1 in /home/ogu/.local/lib/python3.10/site-packages (from langchain) (0.0.1)\n",
            "Requirement already satisfied: langchain-community<0.1,>=0.0.29 in /home/ogu/.local/lib/python3.10/site-packages (from langchain) (0.0.29)\n",
            "Requirement already satisfied: SQLAlchemy<3,>=1.4 in /home/ogu/.local/lib/python3.10/site-packages (from langchain) (2.0.29)\n",
            "Requirement already satisfied: requests<3,>=2 in /home/ogu/.local/lib/python3.10/site-packages (from langchain) (2.31.0)\n",
            "Requirement already satisfied: aiohttp<4.0.0,>=3.8.3 in /home/ogu/.local/lib/python3.10/site-packages (from langchain) (3.9.3)\n",
            "Requirement already satisfied: pydantic<3,>=1 in /home/ogu/.local/lib/python3.10/site-packages (from langchain) (1.10.12)\n",
            "Requirement already satisfied: PyYAML>=5.3 in /home/ogu/.local/lib/python3.10/site-packages (from langchain) (6.0.1)\n",
            "Requirement already satisfied: dataclasses-json<0.7,>=0.5.7 in /home/ogu/.local/lib/python3.10/site-packages (from langchain) (0.6.4)\n",
            "Requirement already satisfied: tenacity<9.0.0,>=8.1.0 in /home/ogu/.local/lib/python3.10/site-packages (from langchain) (8.2.3)\n",
            "Requirement already satisfied: tiktoken<1,>=0.5.2 in /home/ogu/.local/lib/python3.10/site-packages (from langchain-openai) (0.6.0)\n",
            "Requirement already satisfied: openai<2.0.0,>=1.10.0 in /home/ogu/.local/lib/python3.10/site-packages (from langchain-openai) (1.14.2)\n",
            "Requirement already satisfied: posthog>=2.4.0 in /home/ogu/.local/lib/python3.10/site-packages (from chromadb) (3.5.0)\n",
            "Requirement already satisfied: mmh3>=4.0.1 in /home/ogu/.local/lib/python3.10/site-packages (from chromadb) (4.1.0)\n",
            "Requirement already satisfied: orjson>=3.9.12 in /home/ogu/.local/lib/python3.10/site-packages (from chromadb) (3.9.15)\n",
            "Requirement already satisfied: onnxruntime>=1.14.1 in /home/ogu/.local/lib/python3.10/site-packages (from chromadb) (1.15.0)\n",
            "Requirement already satisfied: chroma-hnswlib==0.7.3 in /home/ogu/.local/lib/python3.10/site-packages (from chromadb) (0.7.3)\n",
            "Requirement already satisfied: build>=1.0.3 in /home/ogu/.local/lib/python3.10/site-packages (from chromadb) (1.1.1)\n",
            "Requirement already satisfied: bcrypt>=4.0.1 in /home/ogu/.local/lib/python3.10/site-packages (from chromadb) (4.1.2)\n",
            "Requirement already satisfied: kubernetes>=28.1.0 in /home/ogu/.local/lib/python3.10/site-packages (from chromadb) (29.0.0)\n",
            "Requirement already satisfied: pulsar-client>=3.1.0 in /home/ogu/.local/lib/python3.10/site-packages (from chromadb) (3.4.0)\n",
            "Requirement already satisfied: uvicorn[standard]>=0.18.3 in /home/ogu/.local/lib/python3.10/site-packages (from chromadb) (0.29.0)\n",
            "Requirement already satisfied: importlib-resources in /home/ogu/.local/lib/python3.10/site-packages (from chromadb) (6.4.0)\n",
            "Requirement already satisfied: grpcio>=1.58.0 in /home/ogu/.local/lib/python3.10/site-packages (from chromadb) (1.62.1)\n",
            "Requirement already satisfied: opentelemetry-instrumentation-fastapi>=0.41b0 in /home/ogu/.local/lib/python3.10/site-packages (from chromadb) (0.44b0)\n",
            "Requirement already satisfied: opentelemetry-sdk>=1.2.0 in /home/ogu/.local/lib/python3.10/site-packages (from chromadb) (1.23.0)\n",
            "Requirement already satisfied: overrides>=7.3.1 in /home/ogu/.local/lib/python3.10/site-packages (from chromadb) (7.7.0)\n",
            "Requirement already satisfied: fastapi>=0.95.2 in /home/ogu/.local/lib/python3.10/site-packages (from chromadb) (0.110.0)\n",
            "Requirement already satisfied: typing-extensions>=4.5.0 in /home/ogu/.local/lib/python3.10/site-packages (from chromadb) (4.9.0)\n",
            "Requirement already satisfied: tokenizers>=0.13.2 in /home/ogu/.local/lib/python3.10/site-packages (from chromadb) (0.15.0)\n",
            "Requirement already satisfied: opentelemetry-api>=1.2.0 in /home/ogu/.local/lib/python3.10/site-packages (from chromadb) (1.23.0)\n",
            "Requirement already satisfied: typer>=0.9.0 in /home/ogu/.local/lib/python3.10/site-packages (from chromadb) (0.9.0)\n",
            "Requirement already satisfied: opentelemetry-exporter-otlp-proto-grpc>=1.2.0 in /home/ogu/.local/lib/python3.10/site-packages (from chromadb) (1.23.0)\n",
            "Requirement already satisfied: pypika>=0.48.9 in /home/ogu/.local/lib/python3.10/site-packages (from chromadb) (0.48.9)\n",
            "Requirement already satisfied: soupsieve>1.2 in /home/ogu/.local/lib/python3.10/site-packages (from beautifulsoup4) (2.5)\n",
            "Requirement already satisfied: jsonpath-python==1.0.6 in /home/ogu/.local/lib/python3.10/site-packages (from unstructured) (1.0.6)\n",
            "Requirement already satisfied: idna==3.6 in /home/ogu/.local/lib/python3.10/site-packages (from unstructured) (3.6)\n",
            "Requirement already satisfied: backoff==2.2.1 in /home/ogu/.local/lib/python3.10/site-packages (from unstructured) (2.2.1)\n",
            "Requirement already satisfied: charset-normalizer==3.3.2 in /home/ogu/.local/lib/python3.10/site-packages (from unstructured) (3.3.2)\n",
            "Requirement already satisfied: langdetect==1.0.9 in /home/ogu/.local/lib/python3.10/site-packages (from unstructured) (1.0.9)\n",
            "Requirement already satisfied: lxml==5.1.0 in /home/ogu/.local/lib/python3.10/site-packages (from unstructured) (5.1.0)\n",
            "Requirement already satisfied: tabulate==0.9.0 in /home/ogu/.local/lib/python3.10/site-packages (from unstructured) (0.9.0)\n",
            "Requirement already satisfied: python-iso639==2024.2.7 in /home/ogu/.local/lib/python3.10/site-packages (from unstructured) (2024.2.7)\n",
            "Requirement already satisfied: chardet==5.2.0 in /home/ogu/.local/lib/python3.10/site-packages (from unstructured) (5.2.0)\n",
            "Requirement already satisfied: marshmallow==3.20.2 in /home/ogu/.local/lib/python3.10/site-packages (from unstructured) (3.20.2)\n",
            "Requirement already satisfied: wrapt==1.16.0 in /home/ogu/.local/lib/python3.10/site-packages (from unstructured) (1.16.0)\n",
            "Requirement already satisfied: filetype==1.2.0 in /home/ogu/.local/lib/python3.10/site-packages (from unstructured) (1.2.0)\n",
            "Requirement already satisfied: unstructured-client==0.18.0 in /home/ogu/.local/lib/python3.10/site-packages (from unstructured) (0.18.0)\n",
            "Requirement already satisfied: click==8.1.7 in /home/ogu/.local/lib/python3.10/site-packages (from unstructured) (8.1.7)\n",
            "Requirement already satisfied: six==1.16.0 in /usr/lib/python3/dist-packages (from unstructured) (1.16.0)\n",
            "Requirement already satisfied: mypy-extensions==1.0.0 in /home/ogu/.local/lib/python3.10/site-packages (from unstructured) (1.0.0)\n",
            "Requirement already satisfied: emoji==2.10.1 in /home/ogu/.local/lib/python3.10/site-packages (from unstructured) (2.10.1)\n",
            "Requirement already satisfied: urllib3==1.26.18 in /home/ogu/.local/lib/python3.10/site-packages (from unstructured) (1.26.18)\n",
            "Requirement already satisfied: rapidfuzz==3.6.1 in /home/ogu/.local/lib/python3.10/site-packages (from unstructured) (3.6.1)\n",
            "Requirement already satisfied: joblib==1.3.2 in /home/ogu/.local/lib/python3.10/site-packages (from unstructured) (1.3.2)\n",
            "Requirement already satisfied: python-dateutil==2.8.2 in /home/ogu/.local/lib/python3.10/site-packages (from unstructured) (2.8.2)\n",
            "Requirement already satisfied: certifi==2024.2.2 in /home/ogu/.local/lib/python3.10/site-packages (from unstructured) (2024.2.2)\n",
            "Requirement already satisfied: packaging==23.2 in /home/ogu/.local/lib/python3.10/site-packages (from unstructured) (23.2)\n",
            "Requirement already satisfied: typing-inspect==0.9.0 in /home/ogu/.local/lib/python3.10/site-packages (from unstructured) (0.9.0)\n",
            "Requirement already satisfied: python-magic==0.4.27 in /home/ogu/.local/lib/python3.10/site-packages (from unstructured) (0.4.27)\n",
            "Requirement already satisfied: regex==2023.12.25 in /home/ogu/.local/lib/python3.10/site-packages (from unstructured) (2023.12.25)\n",
            "Requirement already satisfied: dataclasses-json-speakeasy==0.5.11 in /home/ogu/.local/lib/python3.10/site-packages (from unstructured) (0.5.11)\n",
            "Requirement already satisfied: yarl<2.0,>=1.0 in /home/ogu/.local/lib/python3.10/site-packages (from aiohttp<4.0.0,>=3.8.3->langchain) (1.8.1)\n",
            "Requirement already satisfied: frozenlist>=1.1.1 in /home/ogu/.local/lib/python3.10/site-packages (from aiohttp<4.0.0,>=3.8.3->langchain) (1.3.1)\n",
            "Requirement already satisfied: aiosignal>=1.1.2 in /home/ogu/.local/lib/python3.10/site-packages (from aiohttp<4.0.0,>=3.8.3->langchain) (1.2.0)\n",
            "Requirement already satisfied: attrs>=17.3.0 in /home/ogu/.local/lib/python3.10/site-packages (from aiohttp<4.0.0,>=3.8.3->langchain) (23.1.0)\n",
            "Requirement already satisfied: multidict<7.0,>=4.5 in /home/ogu/.local/lib/python3.10/site-packages (from aiohttp<4.0.0,>=3.8.3->langchain) (6.0.2)\n",
            "Requirement already satisfied: tomli>=1.1.0 in /home/ogu/.local/lib/python3.10/site-packages (from build>=1.0.3->chromadb) (2.0.1)\n",
            "Requirement already satisfied: pyproject_hooks in /home/ogu/.local/lib/python3.10/site-packages (from build>=1.0.3->chromadb) (1.0.0)\n",
            "Requirement already satisfied: starlette<0.37.0,>=0.36.3 in /home/ogu/.local/lib/python3.10/site-packages (from fastapi>=0.95.2->chromadb) (0.36.3)\n",
            "Requirement already satisfied: filelock in /home/ogu/.local/lib/python3.10/site-packages (from huggingface-hub>=0.4.0->sentence_transformers) (3.8.0)\n",
            "Requirement already satisfied: fsspec in /home/ogu/.local/lib/python3.10/site-packages (from huggingface-hub>=0.4.0->sentence_transformers) (2022.10.0)\n",
            "Requirement already satisfied: jsonpointer>=1.9 in /home/ogu/.local/lib/python3.10/site-packages (from jsonpatch<2.0,>=1.33->langchain) (2.4)\n",
            "Requirement already satisfied: oauthlib>=3.2.2 in /home/ogu/.local/lib/python3.10/site-packages (from kubernetes>=28.1.0->chromadb) (3.2.2)\n",
            "Requirement already satisfied: websocket-client!=0.40.0,!=0.41.*,!=0.42.*,>=0.32.0 in /home/ogu/.local/lib/python3.10/site-packages (from kubernetes>=28.1.0->chromadb) (1.7.0)\n",
            "Requirement already satisfied: requests-oauthlib in /home/ogu/.local/lib/python3.10/site-packages (from kubernetes>=28.1.0->chromadb) (1.3.1)\n",
            "Requirement already satisfied: google-auth>=1.0.1 in /home/ogu/.local/lib/python3.10/site-packages (from kubernetes>=28.1.0->chromadb) (2.22.0)\n",
            "Requirement already satisfied: anyio<5,>=3 in /home/ogu/.local/lib/python3.10/site-packages (from langchain-core<0.2.0,>=0.1.33->langchain) (4.3.0)\n",
            "Requirement already satisfied: protobuf in /home/ogu/.local/lib/python3.10/site-packages (from onnxruntime>=1.14.1->chromadb) (3.20.3)\n",
            "Requirement already satisfied: coloredlogs in /home/ogu/.local/lib/python3.10/site-packages (from onnxruntime>=1.14.1->chromadb) (15.0.1)\n",
            "Requirement already satisfied: sympy in /usr/lib/python3/dist-packages (from onnxruntime>=1.14.1->chromadb) (1.9)\n",
            "Requirement already satisfied: flatbuffers in /home/ogu/.local/lib/python3.10/site-packages (from onnxruntime>=1.14.1->chromadb) (23.5.26)\n",
            "Requirement already satisfied: httpx<1,>=0.23.0 in /home/ogu/.local/lib/python3.10/site-packages (from openai<2.0.0,>=1.10.0->langchain-openai) (0.27.0)\n",
            "Requirement already satisfied: sniffio in /home/ogu/.local/lib/python3.10/site-packages (from openai<2.0.0,>=1.10.0->langchain-openai) (1.3.1)\n",
            "Requirement already satisfied: distro<2,>=1.7.0 in /usr/lib/python3/dist-packages (from openai<2.0.0,>=1.10.0->langchain-openai) (1.7.0)\n",
            "Requirement already satisfied: deprecated>=1.2.6 in /home/ogu/.local/lib/python3.10/site-packages (from opentelemetry-api>=1.2.0->chromadb) (1.2.14)\n",
            "Requirement already satisfied: importlib-metadata<7.0,>=6.0 in /home/ogu/.local/lib/python3.10/site-packages (from opentelemetry-api>=1.2.0->chromadb) (6.11.0)\n",
            "Requirement already satisfied: opentelemetry-exporter-otlp-proto-common==1.23.0 in /home/ogu/.local/lib/python3.10/site-packages (from opentelemetry-exporter-otlp-proto-grpc>=1.2.0->chromadb) (1.23.0)\n",
            "Requirement already satisfied: googleapis-common-protos~=1.52 in /home/ogu/.local/lib/python3.10/site-packages (from opentelemetry-exporter-otlp-proto-grpc>=1.2.0->chromadb) (1.63.0)\n",
            "Requirement already satisfied: opentelemetry-proto==1.23.0 in /home/ogu/.local/lib/python3.10/site-packages (from opentelemetry-exporter-otlp-proto-grpc>=1.2.0->chromadb) (1.23.0)\n",
            "Requirement already satisfied: opentelemetry-instrumentation-asgi==0.44b0 in /home/ogu/.local/lib/python3.10/site-packages (from opentelemetry-instrumentation-fastapi>=0.41b0->chromadb) (0.44b0)\n",
            "Requirement already satisfied: opentelemetry-semantic-conventions==0.44b0 in /home/ogu/.local/lib/python3.10/site-packages (from opentelemetry-instrumentation-fastapi>=0.41b0->chromadb) (0.44b0)\n",
            "Requirement already satisfied: opentelemetry-util-http==0.44b0 in /home/ogu/.local/lib/python3.10/site-packages (from opentelemetry-instrumentation-fastapi>=0.41b0->chromadb) (0.44b0)\n",
            "Requirement already satisfied: opentelemetry-instrumentation==0.44b0 in /home/ogu/.local/lib/python3.10/site-packages (from opentelemetry-instrumentation-fastapi>=0.41b0->chromadb) (0.44b0)\n",
            "Requirement already satisfied: setuptools>=16.0 in /home/ogu/.local/lib/python3.10/site-packages (from opentelemetry-instrumentation==0.44b0->opentelemetry-instrumentation-fastapi>=0.41b0->chromadb) (65.5.1)\n",
            "Requirement already satisfied: asgiref~=3.0 in /home/ogu/.local/lib/python3.10/site-packages (from opentelemetry-instrumentation-asgi==0.44b0->opentelemetry-instrumentation-fastapi>=0.41b0->chromadb) (3.8.1)\n",
            "Requirement already satisfied: monotonic>=1.5 in /usr/lib/python3/dist-packages (from posthog>=2.4.0->chromadb) (1.6)\n",
            "Requirement already satisfied: greenlet!=0.4.17 in /home/ogu/.local/lib/python3.10/site-packages (from SQLAlchemy<3,>=1.4->langchain) (3.0.3)\n",
            "Requirement already satisfied: jinja2 in /home/ogu/.local/lib/python3.10/site-packages (from torch>=1.6.0->sentence_transformers) (3.1.2)\n",
            "Requirement already satisfied: networkx in /home/ogu/.local/lib/python3.10/site-packages (from torch>=1.6.0->sentence_transformers) (2.8.8)\n",
            "Requirement already satisfied: safetensors>=0.3.1 in /home/ogu/.local/lib/python3.10/site-packages (from transformers<5.0.0,>=4.6.0->sentence_transformers) (0.3.1)\n",
            "Requirement already satisfied: h11>=0.8 in /home/ogu/.local/lib/python3.10/site-packages (from uvicorn[standard]>=0.18.3->chromadb) (0.14.0)\n",
            "Requirement already satisfied: python-dotenv>=0.13 in /home/ogu/.local/lib/python3.10/site-packages (from uvicorn[standard]>=0.18.3->chromadb) (1.0.1)\n",
            "Requirement already satisfied: uvloop!=0.15.0,!=0.15.1,>=0.14.0 in /home/ogu/.local/lib/python3.10/site-packages (from uvicorn[standard]>=0.18.3->chromadb) (0.19.0)\n",
            "Requirement already satisfied: httptools>=0.5.0 in /home/ogu/.local/lib/python3.10/site-packages (from uvicorn[standard]>=0.18.3->chromadb) (0.6.1)\n",
            "Requirement already satisfied: websockets>=10.4 in /home/ogu/.local/lib/python3.10/site-packages (from uvicorn[standard]>=0.18.3->chromadb) (12.0)\n",
            "Requirement already satisfied: watchfiles>=0.13 in /home/ogu/.local/lib/python3.10/site-packages (from uvicorn[standard]>=0.18.3->chromadb) (0.21.0)\n",
            "Requirement already satisfied: threadpoolctl>=2.0.0 in /home/ogu/.local/lib/python3.10/site-packages (from scikit-learn->sentence_transformers) (3.1.0)\n",
            "Requirement already satisfied: pillow!=8.3.*,>=5.3.0 in /usr/lib/python3/dist-packages (from torchvision->sentence_transformers) (9.0.1)\n",
            "Requirement already satisfied: exceptiongroup>=1.0.2 in /home/ogu/.local/lib/python3.10/site-packages (from anyio<5,>=3->langchain-core<0.2.0,>=0.1.33->langchain) (1.0.4)\n",
            "Requirement already satisfied: pyasn1-modules>=0.2.1 in /home/ogu/.local/lib/python3.10/site-packages (from google-auth>=1.0.1->kubernetes>=28.1.0->chromadb) (0.2.8)\n",
            "Requirement already satisfied: cachetools<6.0,>=2.0.0 in /home/ogu/.local/lib/python3.10/site-packages (from google-auth>=1.0.1->kubernetes>=28.1.0->chromadb) (5.2.0)\n",
            "Requirement already satisfied: rsa<5,>=3.1.4 in /home/ogu/.local/lib/python3.10/site-packages (from google-auth>=1.0.1->kubernetes>=28.1.0->chromadb) (4.9)\n",
            "Requirement already satisfied: httpcore==1.* in /home/ogu/.local/lib/python3.10/site-packages (from httpx<1,>=0.23.0->openai<2.0.0,>=1.10.0->langchain-openai) (1.0.4)\n",
            "Requirement already satisfied: zipp>=0.5 in /usr/lib/python3/dist-packages (from importlib-metadata<7.0,>=6.0->opentelemetry-api>=1.2.0->chromadb) (1.0.0)\n",
            "Requirement already satisfied: humanfriendly>=9.1 in /home/ogu/.local/lib/python3.10/site-packages (from coloredlogs->onnxruntime>=1.14.1->chromadb) (10.0)\n",
            "Requirement already satisfied: MarkupSafe>=2.0 in /home/ogu/.local/lib/python3.10/site-packages (from jinja2->torch>=1.6.0->sentence_transformers) (2.1.1)\n",
            "Requirement already satisfied: pyasn1<0.5.0,>=0.4.6 in /home/ogu/.local/lib/python3.10/site-packages (from pyasn1-modules>=0.2.1->google-auth>=1.0.1->kubernetes>=28.1.0->chromadb) (0.4.8)\n",
            "Note: you may need to restart the kernel to use updated packages.\n"
          ]
        }
      ],
      "source": [
        "pip install sentence_transformers langchain langchain-openai chromadb beautifulsoup4 unstructured"
      ]
    },
    {
      "cell_type": "code",
      "execution_count": 2,
      "metadata": {
        "colab": {
          "base_uri": "https://localhost:8080/"
        },
        "id": "SRnAPWqJDSM1",
        "outputId": "ced23e0a-6420-4974-db05-cfd3f77e0436"
      },
      "outputs": [
        {
          "data": {
            "text/plain": [
              "True"
            ]
          },
          "execution_count": 2,
          "metadata": {},
          "output_type": "execute_result"
        }
      ],
      "source": [
        "# Set env var OPENAI_API_KEY or load from a .env file:\n",
        "import dotenv\n",
        "\n",
        "dotenv.load_dotenv()"
      ]
    },
    {
      "cell_type": "markdown",
      "metadata": {
        "id": "OwR2QlrODSM2"
      },
      "source": [
        "Let's also set up a chat model that we'll use for the below examples."
      ]
    },
    {
      "cell_type": "code",
      "execution_count": 3,
      "metadata": {
        "id": "aNV4ORcyDSM2"
      },
      "outputs": [],
      "source": [
        "from langchain_openai import ChatOpenAI, AzureChatOpenAI\n",
        "\n",
        "#chat = ChatOpenAI(model=\"gpt-3.5-turbo-1106\")\n",
        "chat = AzureChatOpenAI(\n",
        "    openai_api_version=\"2024-02-15-preview\",\n",
        "    azure_deployment=\"gpt-35-turbo\",\n",
        "    temperature=0.2)"
      ]
    },
    {
      "cell_type": "markdown",
      "metadata": {
        "id": "edYAG8t2DSM2"
      },
      "source": [
        "## Creating a retriever\n",
        "\n",
        "We'll use [the LangSmith documentation](https://docs.smith.langchain.com/overview) as source material and store the content in a vectorstore for later retrieval. Note that this example will gloss over some of the specifics around parsing and storing a data source - you can see more [in-depth documentation on creating retrieval systems here](/docs/use_cases/question_answering/).\n",
        "\n",
        "Let's use a document loader to pull text from the docs:"
      ]
    },
    {
      "cell_type": "code",
      "execution_count": 5,
      "metadata": {
        "colab": {
          "base_uri": "https://localhost:8080/",
          "height": 367
        },
        "id": "1As_9kVnDSM3",
        "outputId": "fc35b19e-4ec0-4838-a666-762a2630baea"
      },
      "outputs": [],
      "source": [
        "#from langchain_community.document_loaders import WebBaseLoader\n",
        "#\n",
        "#loader = WebBaseLoader(\"https://docs.smith.langchain.com/overview\")\n",
        "#data = loader.load()"
      ]
    },
    {
      "cell_type": "code",
      "execution_count": 5,
      "metadata": {},
      "outputs": [
        {
          "data": {
            "text/plain": [
              "2"
            ]
          },
          "execution_count": 5,
          "metadata": {},
          "output_type": "execute_result"
        }
      ],
      "source": [
        "from langchain_community.document_loaders import DirectoryLoader\n",
        "loader = DirectoryLoader('../docs', glob=\"**/*.md\")\n",
        "data = loader.load()\n",
        "len(data)"
      ]
    },
    {
      "cell_type": "markdown",
      "metadata": {
        "id": "qwTlZVkRDSM3"
      },
      "source": [
        "Next, we split it into smaller chunks that the LLM's context window can handle and store it in a vector database:"
      ]
    },
    {
      "cell_type": "code",
      "execution_count": 11,
      "metadata": {
        "colab": {
          "base_uri": "https://localhost:8080/",
          "height": 384
        },
        "id": "Oi6iz-bZDSM3",
        "outputId": "b5921c3e-ed5b-4464-caa4-85635d92655a"
      },
      "outputs": [
        {
          "name": "stdout",
          "output_type": "stream",
          "text": [
            "39\n"
          ]
        }
      ],
      "source": [
        "from langchain_text_splitters import RecursiveCharacterTextSplitter,SentenceTransformersTokenTextSplitter,MarkdownHeaderTextSplitter\n",
        "\n",
        "#model = \"paraphrase-multilingual-MiniLM-L12-v2\"\n",
        "#text_splitter = SentenceTransformersTokenTextSplitter(model_name=model,tokens_per_chunk=50,chunk_overlap=10)\n",
        "\n",
        "text_splitter = RecursiveCharacterTextSplitter(chunk_size=200, chunk_overlap=20)\n",
        "all_splits = text_splitter.split_documents(data)\n",
        "\n",
        "print(len(all_splits))"
      ]
    },
    {
      "cell_type": "code",
      "execution_count": 12,
      "metadata": {
        "colab": {
          "base_uri": "https://localhost:8080/"
        },
        "id": "5oNCtDrqOg92",
        "outputId": "77ef6738-6ec8-4343-fb57-44e696d7073b"
      },
      "outputs": [
        {
          "data": {
            "text/plain": [
              "[Document(page_content='Personen\\n\\nOliver Guhr, Schlungsleiter', metadata={'source': '../docs/index.md'}),\n",
              " Document(page_content='Telekom MMS', metadata={'source': '../docs/mms.md'}),\n",
              " Document(page_content='Die Deutsche Telekom MMS GmbH (Telekom MMS) ist ein Digital-Dienstleister, der sich als Begleiter von Großkonzernen und mittelständischen Unternehmen bei der digitalen Transformation versteht.', metadata={'source': '../docs/mms.md'}),\n",
              " Document(page_content='Über 2.200 Mitarbeitende an neun Standorten in Deutschland entwickeln zukunftsfähige Geschäftsmodelle für digitale Erlebnisse. Telekom MMS bietet ein dynamisches Web- und Application-Management und', metadata={'source': '../docs/mms.md'}),\n",
              " Document(page_content='und sorgt mit dem hauseigenen akkreditierten Test-Center für höchste Softwarequalität, Barrierefreiheit und IT-Sicherheit.', metadata={'source': '../docs/mms.md'}),\n",
              " Document(page_content='Das Unternehmen zählt zum Konzern Deutsche Telekom AG und tritt ebenfalls mit dem T-Logo auf. Das Unternehmen hat Standorte in Dresden, Leipzig, Jena, Berlin, Rostock, München, Stuttgart, Bonn und', metadata={'source': '../docs/mms.md'}),\n",
              " Document(page_content='Stuttgart, Bonn und Hamburg.', metadata={'source': '../docs/mms.md'}),\n",
              " Document(page_content='Geschichte', metadata={'source': '../docs/mms.md'}),\n",
              " Document(page_content='Das Unternehmen wurde 1995 unter dem Namen „Multimedia Software GmbH Dresden“ als Tochterunternehmen der Deutschen Telekom gegründet. Zielsetzung war es, Lösungen für das interaktive Fernsehen zu', metadata={'source': '../docs/mms.md'}),\n",
              " Document(page_content='Fernsehen zu entwickeln. Neben CD-ROMs und Kiosksystemen für Unternehmen kamen später Multimedia-Anwendungen rund um das Internet und E-Commerce hinzu.', metadata={'source': '../docs/mms.md'}),\n",
              " Document(page_content='2002 erfolgte die Umfirmierung in „T-Systems Multimedia Solutions GmbH“ als hundertprozentige Tochter der T-Systems International GmbH, die 2000 gegründet wurde und damals die bisherigen', metadata={'source': '../docs/mms.md'}),\n",
              " Document(page_content='die bisherigen Tochtergesellschaften der Telekom DeTeSystems, DeTeCSM, Detecon, T-Data, T-Nova, die Konzernbereiche Datenkommunikation und Media Broadcast sowie das von Daimler erworbene debis', metadata={'source': '../docs/mms.md'}),\n",
              " Document(page_content='erworbene debis Systemhaus zusammenfasste.', metadata={'source': '../docs/mms.md'}),\n",
              " Document(page_content='Inzwischen realisiert das Unternehmen Lösungen für Kunden aus ganz unterschiedlichen Branchen. Schwerpunkte liegen nach eigenen Angaben in den Bereichen Digital Commerce, Websites, Intranet,', metadata={'source': '../docs/mms.md'}),\n",
              " Document(page_content='Websites, Intranet, Marketing, Big Data, Künstliche Intelligenz, Mobile Solutions, Retail, Security und Industrie 4.0. Das Leistungsangebot reicht von Consulting und Projektmanagement über Content-,', metadata={'source': '../docs/mms.md'}),\n",
              " Document(page_content='über Content-, Test- und Support-Services bis zur Entwicklung von Software. Dazu zählen Web- und Applikations-Management und das Test and Integration Center für Softwarequalität, Barrierefreiheit und', metadata={'source': '../docs/mms.md'}),\n",
              " Document(page_content='und IT-Sicherheit.', metadata={'source': '../docs/mms.md'}),\n",
              " Document(page_content='Im März 2023 ging das Unternehmen zurück an die Deutsche Telekom AG und firmiert nun unter Deutsche Telekom MMS GmbH. Dadurch rückt das Unternehmen näher an die mittelständischen Geschäftskunden der', metadata={'source': '../docs/mms.md'}),\n",
              " Document(page_content='Geschäftskunden der Telekom Deutschland heran und kann den Konzern auf dem Weg zur „Leading Digital Telko“ unterstützen.', metadata={'source': '../docs/mms.md'}),\n",
              " Document(page_content='Die Geschäftsführung besteht aus einer Doppelspitze: Ralf Pechmann, mit Hauptverantwortung im Bereich Vertrieb, Marketing, Kunden und Marcus Gaube als kaufmännischer Leiter des Unternehmens.', metadata={'source': '../docs/mms.md'}),\n",
              " Document(page_content='des Unternehmens. Ehemalige Geschäftsführer sind:', metadata={'source': '../docs/mms.md'}),\n",
              " Document(page_content='Im Jahr 2005 initiierte das Unternehmen das Dresdner Zukunftsforum zum Thema „Arbeiten und Leben in der digitalen Welt“, das seither fünfmal stattgefunden hat.', metadata={'source': '../docs/mms.md'}),\n",
              " Document(page_content='Im Jahr 2006 war T-Systems Multimedia Solutions sowohl Preisträger des Ludwig-Erhard-Preises in der Kategorie „Mittlere Unternehmen“, als auch des vom European Foundation for Quality Management', metadata={'source': '../docs/mms.md'}),\n",
              " Document(page_content='Quality Management (EFQM) verliehenen Europäischen Qualitätspreises. Die Ehrung seitens der EFQM erfolgte für besondere Mitarbeiterorientierung in der Kategorie „People Development and Involvement“.', metadata={'source': '../docs/mms.md'}),\n",
              " Document(page_content='and Involvement“. Bereits im Vorjahr hatte MMS eine Auszeichnung in der Kategorie „Continuous Learning, Innovation and Improvement“ erhalten.', metadata={'source': '../docs/mms.md'}),\n",
              " Document(page_content='2007 war T-Systems Multimedia Solutions Mitgründer des „Arbeitskreises Software“ des Branchenverbandes Silicon Saxony.', metadata={'source': '../docs/mms.md'}),\n",
              " Document(page_content='Von 2009 bis 2017 veranstaltete das Unternehmen jährlich einen „Hacker Day“. Ein Schwerpunktthema war ab 2012 die Barrierefreiheit in der IT.', metadata={'source': '../docs/mms.md'}),\n",
              " Document(page_content='Ausgezeichnet wurde T-Systems Multimedia Solutions mehrfach mit dem Social Business Leader Award der ISG Information Services Group und dem iF Design Award.', metadata={'source': '../docs/mms.md'}),\n",
              " Document(page_content='2015 startete der jährliche Dev Day als eine Idee der Software Engineering Community (SECO) der T-Systems MMS, um mit einer IT-Konferenz in Dresden einen Wissensaustausch über die Unternehmensgrenzen', metadata={'source': '../docs/mms.md'}),\n",
              " Document(page_content='Unternehmensgrenzen hinweg zu ermöglichen. Schnell verbreiterte sich auch der Fokus der Community, sodass nicht nur Softwarearchitektur-Themen eine Rolle spielten, sondern die Community und der Dev', metadata={'source': '../docs/mms.md'}),\n",
              " Document(page_content='und der Dev Day rasch Anlaufstelle für jegliche Experten rund um Softwarearchitektur- und Softwareentwicklungsthemen wurden.', metadata={'source': '../docs/mms.md'}),\n",
              " Document(page_content='2018 schloss T-Systems MMS einen Kooperationsvertrag mit dem Smart Systems Hub und ist seitdem einer der strategischen Partner. Mit dem Ziel, die reale und die digitale Welt zu vernetzen, ermöglicht', metadata={'source': '../docs/mms.md'}),\n",
              " Document(page_content='ermöglicht der Smart Systems Hub den Zugang zu zukunftsweisenden Technologien, vernetzt relevante Partner und entwickelt Lösungen basierend auf den Möglichkeiten, die das Internet der Dinge bietet.', metadata={'source': '../docs/mms.md'}),\n",
              " Document(page_content='der Dinge bietet. Der Hub ist einer von 12 Digital Innovation Hubs in Deutschland innerhalb der de:hub-Initiative des Bundesministeriums für Wirtschaft und Klimaschutz (BMWK).', metadata={'source': '../docs/mms.md'}),\n",
              " Document(page_content='2017 gehörte das Unternehmen zu den Gewinnern des Outstanding Security Performance Awards.', metadata={'source': '../docs/mms.md'}),\n",
              " Document(page_content='Seit 2015 wurde das Unternehmen jährlich vom Wirtschaftsmagazin brand eins als bester Berater in der Kategorie „Unternehmensberater“ ausgezeichnet.', metadata={'source': '../docs/mms.md'}),\n",
              " Document(page_content='Indem T-Systems MMS eine künstliche Intelligenz mit einer weiblichen Gesangsstimme trainierte, war das Unternehmen 2022 maßgeblich an der weltweit ersten KI-Oper „chasing waterfalls“ beteiligt, die', metadata={'source': '../docs/mms.md'}),\n",
              " Document(page_content='beteiligt, die in der Semperoper Dresden aufgeführt wurde.', metadata={'source': '../docs/mms.md'}),\n",
              " Document(page_content='2022 wurde T-Systems MMS erstmalig in die Lünendonk-Liste der führenden Anbieter im Segment Digital Experience Services (DXS) sowie im Sub-Ranking der Unternehmen mit DXS als Kernbereich aufgenommen.', metadata={'source': '../docs/mms.md'})]"
            ]
          },
          "execution_count": 12,
          "metadata": {},
          "output_type": "execute_result"
        }
      ],
      "source": [
        "all_splits"
      ]
    },
    {
      "cell_type": "markdown",
      "metadata": {
        "id": "_KYulJ4xDSM3"
      },
      "source": [
        "Then we embed and store those chunks in a vector database:"
      ]
    },
    {
      "cell_type": "code",
      "execution_count": 13,
      "metadata": {
        "id": "etOivkvUDSM3"
      },
      "outputs": [],
      "source": [
        "from langchain_community.vectorstores import Chroma\n",
        "from langchain_openai import OpenAIEmbeddings\n",
        "\n",
        "from langchain_community.embeddings.sentence_transformer import (\n",
        "    SentenceTransformerEmbeddings,\n",
        ")\n",
        "\n",
        "#default_ef = embedding_functions.DefaultEmbeddingFunction()\n",
        "\n",
        "#modell = \"all-MiniLM-L6-v2\"\n",
        "model = \"paraphrase-multilingual-MiniLM-L12-v2\"\n",
        "#modell = \"sentence-transformers/LaBSE\"\n",
        "#modell = \"sentence-transformers/paraphrase-multilingual-mpnet-base-v2\"\n",
        "\n",
        "embedding_function = SentenceTransformerEmbeddings(model_name=model)\n",
        "vectorstore = Chroma.from_documents(documents=all_splits, embedding=embedding_function)#, embedding=OpenAIEmbeddings())\n"
      ]
    },
    {
      "cell_type": "code",
      "execution_count": 14,
      "metadata": {},
      "outputs": [
        {
          "data": {
            "text/plain": [
              "[Document(page_content='des Unternehmens. Ehemalige Geschäftsführer sind:', metadata={'source': '../docs/mms.md'}),\n",
              " Document(page_content='Die Geschäftsführung besteht aus einer Doppelspitze: Ralf Pechmann, mit Hauptverantwortung im Bereich Vertrieb, Marketing, Kunden und Marcus Gaube als kaufmännischer Leiter des Unternehmens.', metadata={'source': '../docs/mms.md'}),\n",
              " Document(page_content='Personen\\n\\nOliver Guhr, Schlungsleiter', metadata={'source': '../docs/index.md'}),\n",
              " Document(page_content='Geschichte', metadata={'source': '../docs/mms.md'}),\n",
              " Document(page_content='und IT-Sicherheit.', metadata={'source': '../docs/mms.md'})]"
            ]
          },
          "execution_count": 14,
          "metadata": {},
          "output_type": "execute_result"
        }
      ],
      "source": [
        "vectorstore.similarity_search(\"Geschäftsleitung\",k=5)"
      ]
    },
    {
      "cell_type": "markdown",
      "metadata": {
        "id": "aZ4ueUBfDSM3"
      },
      "source": [
        "And finally, let's create a retriever from our initialized vectorstore:"
      ]
    },
    {
      "cell_type": "code",
      "execution_count": 15,
      "metadata": {
        "colab": {
          "base_uri": "https://localhost:8080/"
        },
        "id": "2WSebUJeDSM4",
        "outputId": "91c3dbf4-39cd-48bd-ca4a-c38c92cf3eb0"
      },
      "outputs": [
        {
          "data": {
            "text/plain": [
              "[Document(page_content='Telekom MMS', metadata={'source': '../docs/mms.md'}),\n",
              " Document(page_content='Die Deutsche Telekom MMS GmbH (Telekom MMS) ist ein Digital-Dienstleister, der sich als Begleiter von Großkonzernen und mittelständischen Unternehmen bei der digitalen Transformation versteht.', metadata={'source': '../docs/mms.md'}),\n",
              " Document(page_content='die bisherigen Tochtergesellschaften der Telekom DeTeSystems, DeTeCSM, Detecon, T-Data, T-Nova, die Konzernbereiche Datenkommunikation und Media Broadcast sowie das von Daimler erworbene debis', metadata={'source': '../docs/mms.md'}),\n",
              " Document(page_content='Im März 2023 ging das Unternehmen zurück an die Deutsche Telekom AG und firmiert nun unter Deutsche Telekom MMS GmbH. Dadurch rückt das Unternehmen näher an die mittelständischen Geschäftskunden der', metadata={'source': '../docs/mms.md'}),\n",
              " Document(page_content='Geschäftskunden der Telekom Deutschland heran und kann den Konzern auf dem Weg zur „Leading Digital Telko“ unterstützen.', metadata={'source': '../docs/mms.md'})]"
            ]
          },
          "execution_count": 15,
          "metadata": {},
          "output_type": "execute_result"
        }
      ],
      "source": [
        "# k is the number of chunks to retrieve\n",
        "retriever = vectorstore.as_retriever(search_kwargs={\"k\": 5})\n",
        "\n",
        "docs = retriever.invoke(\"Telekom MMS\")\n",
        "\n",
        "docs"
      ]
    },
    {
      "cell_type": "markdown",
      "metadata": {
        "id": "iYiIOWA_DSM4"
      },
      "source": [
        "We can see that invoking the retriever above results in some parts of the LangSmith docs that contain information about testing that our chatbot can use as context when answering questions. And now we've got a retriever that can return related data from the LangSmith docs!\n",
        "\n",
        "## Document chains\n",
        "\n",
        "Now that we have a retriever that can return LangChain docs, let's create a chain that can use them as context to answer questions. We'll use a `create_stuff_documents_chain` helper function to \"stuff\" all of the input documents into the prompt. It will also handle formatting the docs as strings.\n",
        "\n",
        "In addition to a chat model, the function also expects a prompt that has a `context` variables, as well as a placeholder for chat history messages named `messages`. We'll create an appropriate prompt and pass it as shown below:"
      ]
    },
    {
      "cell_type": "code",
      "execution_count": 16,
      "metadata": {
        "id": "-oFTVENZDSM4"
      },
      "outputs": [],
      "source": [
        "from langchain.chains.combine_documents import create_stuff_documents_chain\n",
        "from langchain_core.prompts import ChatPromptTemplate, MessagesPlaceholder\n",
        "\n",
        "SYSTEM_TEMPLATE = \"\"\"\n",
        "Answer the user's questions based on the below context.\n",
        "If the context doesn't contain any relevant information to the question, don't make something up and just say \"I don't know\":\n",
        "\n",
        "<context>\n",
        "{context}\n",
        "</context>\n",
        "\"\"\"\n",
        "\n",
        "question_answering_prompt = ChatPromptTemplate.from_messages(\n",
        "    [\n",
        "        (\n",
        "            \"system\",\n",
        "            SYSTEM_TEMPLATE,\n",
        "        ),\n",
        "        MessagesPlaceholder(variable_name=\"messages\"),\n",
        "    ]\n",
        ")\n",
        "\n",
        "document_chain = create_stuff_documents_chain(chat, question_answering_prompt)"
      ]
    },
    {
      "cell_type": "markdown",
      "metadata": {
        "id": "wOvY9uCoDSM4"
      },
      "source": [
        "We can invoke this `document_chain` by itself to answer questions. Let's use the docs we retrieved above and the same question, `how can langsmith help with testing?`:"
      ]
    },
    {
      "cell_type": "code",
      "execution_count": 17,
      "metadata": {
        "colab": {
          "base_uri": "https://localhost:8080/",
          "height": 36
        },
        "id": "ubdN0WXoDSM4",
        "outputId": "c27fbcda-8b14-4c58-e71c-922534cc1f46"
      },
      "outputs": [
        {
          "data": {
            "text/plain": [
              "'Die Telekom MMS ist ein Digital-Dienstleister, der sich als Begleiter von Großkonzernen und mittelständischen Unternehmen bei der digitalen Transformation versteht. Nach der Rückkehr an die Deutsche Telekom AG firmiert das Unternehmen nun unter Deutsche Telekom MMS GmbH und kann den Konzern auf dem Weg zur „Leading Digital Telko“ unterstützen.'"
            ]
          },
          "execution_count": 17,
          "metadata": {},
          "output_type": "execute_result"
        }
      ],
      "source": [
        "from langchain_core.messages import HumanMessage\n",
        "\n",
        "document_chain.invoke(\n",
        "    {\n",
        "        \"context\": docs,\n",
        "        \"messages\": [\n",
        "            HumanMessage(content=\"Was macht die Telekom MMS?\")\n",
        "        ],\n",
        "    }\n",
        ")"
      ]
    },
    {
      "cell_type": "markdown",
      "metadata": {
        "id": "dzsQ-FVFDSM4"
      },
      "source": [
        "Looks good! For comparison, we can try it with no context docs and compare the result:"
      ]
    },
    {
      "cell_type": "code",
      "execution_count": 25,
      "metadata": {
        "colab": {
          "base_uri": "https://localhost:8080/",
          "height": 36
        },
        "id": "h66njT3GDSM4",
        "outputId": "b8cfa5a0-4399-4c06-c012-163ed090a5b6"
      },
      "outputs": [
        {
          "data": {
            "text/plain": [
              "'Die Telekom MMS steht für \"Multimedia Messaging Service\" und ist ein Dienst, der es ermöglicht, Multimedia-Inhalte wie Fotos, Videos und Audio-Dateien über das Mobilfunknetz zu versenden. MMS-Nachrichten können von einem Mobiltelefon an ein anderes gesendet werden und bieten eine Möglichkeit, multimediale Inhalte mit anderen zu teilen.'"
            ]
          },
          "execution_count": 25,
          "metadata": {},
          "output_type": "execute_result"
        }
      ],
      "source": [
        "document_chain.invoke(\n",
        "    {\n",
        "        \"context\": [],\n",
        "        \"messages\": [\n",
        "            HumanMessage(content=\"Was ist die Telekom MMS?\")\n",
        "        ],\n",
        "    }\n",
        ")"
      ]
    },
    {
      "cell_type": "markdown",
      "metadata": {
        "id": "ptgTSFmZDSM4"
      },
      "source": [
        "We can see that the LLM does not return any results.\n",
        "\n",
        "## Retrieval chains\n",
        "\n",
        "Let's combine this document chain with the retriever. Here's one way this can look:"
      ]
    },
    {
      "cell_type": "code",
      "execution_count": 19,
      "metadata": {
        "id": "WRFrzjGzDSM4"
      },
      "outputs": [],
      "source": [
        "from typing import Dict\n",
        "\n",
        "from langchain_core.runnables import RunnablePassthrough\n",
        "\n",
        "\n",
        "def parse_retriever_input(params: Dict):\n",
        "    return params[\"messages\"][-1].content\n",
        "\n",
        "\n",
        "retrieval_chain = RunnablePassthrough.assign(\n",
        "    context=parse_retriever_input | retriever,\n",
        ").assign(\n",
        "    answer=document_chain,\n",
        ")"
      ]
    },
    {
      "cell_type": "markdown",
      "metadata": {
        "id": "7hq-Fcx1DSM4"
      },
      "source": [
        "Given a list of input messages, we extract the content of the last message in the list and pass that to the retriever to fetch some documents. Then, we pass those documents as context to our document chain to generate a final response.\n",
        "\n",
        "Invoking this chain combines both steps outlined above:"
      ]
    },
    {
      "cell_type": "code",
      "execution_count": 20,
      "metadata": {
        "colab": {
          "base_uri": "https://localhost:8080/"
        },
        "id": "GQgAwyYZDSM4",
        "outputId": "6ace9387-be8a-4bb6-d06e-48f7bab4a1dc"
      },
      "outputs": [
        {
          "data": {
            "text/plain": [
              "{'messages': [HumanMessage(content='Wer ist die Gechäftsführerin der MMS?')],\n",
              " 'context': [Document(page_content='des Unternehmens. Ehemalige Geschäftsführer sind:', metadata={'source': '../docs/mms.md'}),\n",
              "  Document(page_content='Personen\\n\\nOliver Guhr, Schlungsleiter', metadata={'source': '../docs/index.md'}),\n",
              "  Document(page_content='und IT-Sicherheit.', metadata={'source': '../docs/mms.md'}),\n",
              "  Document(page_content='Indem T-Systems MMS eine künstliche Intelligenz mit einer weiblichen Gesangsstimme trainierte, war das Unternehmen 2022 maßgeblich an der weltweit ersten KI-Oper „chasing waterfalls“ beteiligt, die', metadata={'source': '../docs/mms.md'}),\n",
              "  Document(page_content='2018 schloss T-Systems MMS einen Kooperationsvertrag mit dem Smart Systems Hub und ist seitdem einer der strategischen Partner. Mit dem Ziel, die reale und die digitale Welt zu vernetzen, ermöglicht', metadata={'source': '../docs/mms.md'})],\n",
              " 'answer': 'Die Information über die Geschäftsführerin der MMS ist nicht im gegebenen Kontext enthalten. Daher kann ich diese Frage nicht beantworten.'}"
            ]
          },
          "execution_count": 20,
          "metadata": {},
          "output_type": "execute_result"
        }
      ],
      "source": [
        "retrieval_chain.invoke(\n",
        "    {\n",
        "        \"messages\": [\n",
        "            HumanMessage(content=\"Wer ist die Gechäftsführerin der MMS?\")\n",
        "        ],\n",
        "    }\n",
        ")"
      ]
    },
    {
      "cell_type": "markdown",
      "metadata": {
        "id": "ezTnwFE9DSM4"
      },
      "source": [
        "Looks good!\n",
        "\n",
        "## Query transformation\n",
        "\n",
        "Our retrieval chain is capable of answering questions about LangSmith, but there's a problem - chatbots interact with users conversationally, and therefore have to deal with followup questions.\n",
        "\n",
        "The chain in its current form will struggle with this. Consider a followup question to our original question like `Tell me more!`. If we invoke our retriever with that query directly, we get documents irrelevant to LLM application testing:"
      ]
    },
    {
      "cell_type": "code",
      "execution_count": 21,
      "metadata": {
        "colab": {
          "base_uri": "https://localhost:8080/"
        },
        "id": "AbD_CYfMDSM4",
        "outputId": "c46ce79a-5b6c-490a-f110-7f40628eab7b"
      },
      "outputs": [
        {
          "data": {
            "text/plain": [
              "[Document(page_content='des Unternehmens. Ehemalige Geschäftsführer sind:', metadata={'source': '../docs/mms.md'}),\n",
              " Document(page_content='Personen\\n\\nOliver Guhr, Schlungsleiter', metadata={'source': '../docs/index.md'}),\n",
              " Document(page_content='Geschichte', metadata={'source': '../docs/mms.md'}),\n",
              " Document(page_content='und IT-Sicherheit.', metadata={'source': '../docs/mms.md'}),\n",
              " Document(page_content='über Content-, Test- und Support-Services bis zur Entwicklung von Software. Dazu zählen Web- und Applikations-Management und das Test and Integration Center für Softwarequalität, Barrierefreiheit und', metadata={'source': '../docs/mms.md'})]"
            ]
          },
          "execution_count": 21,
          "metadata": {},
          "output_type": "execute_result"
        }
      ],
      "source": [
        "retriever.invoke(\"Tell me more!\")"
      ]
    },
    {
      "cell_type": "markdown",
      "metadata": {
        "id": "FzUFFqt2DSM5"
      },
      "source": [
        "This is because the retriever has no innate concept of state, and will only pull documents most similar to the query given. To solve this, we can transform the query into a standalone query without any external references an LLM.\n",
        "\n",
        "Here's an example:"
      ]
    },
    {
      "cell_type": "code",
      "execution_count": 22,
      "metadata": {
        "colab": {
          "base_uri": "https://localhost:8080/"
        },
        "id": "UJbK97qBDSM5",
        "outputId": "836fb4da-e1f6-4d19-ec75-05f87fc26947"
      },
      "outputs": [
        {
          "data": {
            "text/plain": [
              "AIMessage(content='\"MMS Geschäftsführer\"', response_metadata={'token_usage': {'completion_tokens': 8, 'prompt_tokens': 55, 'total_tokens': 63}, 'model_name': 'gpt-35-turbo', 'system_fingerprint': 'fp_68a7d165bf', 'prompt_filter_results': [{'prompt_index': 0, 'content_filter_results': {'hate': {'filtered': False, 'severity': 'safe'}, 'self_harm': {'filtered': False, 'severity': 'safe'}, 'sexual': {'filtered': False, 'severity': 'safe'}, 'violence': {'filtered': False, 'severity': 'safe'}}}], 'finish_reason': 'stop', 'logprobs': None, 'content_filter_results': {'hate': {'filtered': False, 'severity': 'safe'}, 'self_harm': {'filtered': False, 'severity': 'safe'}, 'sexual': {'filtered': False, 'severity': 'safe'}, 'violence': {'filtered': False, 'severity': 'safe'}}})"
            ]
          },
          "execution_count": 22,
          "metadata": {},
          "output_type": "execute_result"
        }
      ],
      "source": [
        "from langchain_core.messages import AIMessage, HumanMessage\n",
        "\n",
        "query_transform_prompt = ChatPromptTemplate.from_messages(\n",
        "    [\n",
        "        MessagesPlaceholder(variable_name=\"messages\"),\n",
        "        (\n",
        "            \"user\",\n",
        "            \"Given the above conversation, generate a search query to look up in order to get information relevant to the conversation. Only respond with the query, nothing else.\",\n",
        "        ),\n",
        "    ]\n",
        ")\n",
        "\n",
        "query_transformation_chain = query_transform_prompt | chat\n",
        "\n",
        "query_transformation_chain.invoke(\n",
        "    {\n",
        "        \"messages\": [\n",
        "            HumanMessage(content=\"Wer ist der Gechäftsführer der MMS?\"),\n",
        "            #AIMessage(\n",
        "            #    content=\"Yes, LangSmith can help test and evaluate your LLM applications. It allows you to quickly edit examples and add them to datasets to expand the surface area of your evaluation sets or to fine-tune a model for improved quality or reduced costs. Additionally, LangSmith can be used to monitor your application, log all traces, visualize latency and token usage statistics, and troubleshoot specific issues as they arise.\"\n",
        "            #),\n",
        "            #HumanMessage(content=\"Tell me more!\"),\n",
        "        ],\n",
        "    }\n",
        ")"
      ]
    },
    {
      "cell_type": "code",
      "execution_count": null,
      "metadata": {},
      "outputs": [],
      "source": []
    },
    {
      "cell_type": "markdown",
      "metadata": {
        "id": "5XvS8OxgDSM5"
      },
      "source": [
        "Awesome! That transformed query would pull up context documents related to LLM application testing.\n",
        "\n",
        "Let's add this to our retrieval chain. We can wrap our retriever as follows:"
      ]
    },
    {
      "cell_type": "code",
      "execution_count": 23,
      "metadata": {
        "id": "5YsSx2NbDSM5"
      },
      "outputs": [],
      "source": [
        "from langchain_core.output_parsers import StrOutputParser\n",
        "from langchain_core.runnables import RunnableBranch\n",
        "\n",
        "query_transforming_retriever_chain = RunnableBranch(\n",
        "    (\n",
        "        lambda x: len(x.get(\"messages\", [])) == 0,\n",
        "        # If only one message, then we just pass that message's content to retriever\n",
        "        (lambda x: x[\"messages\"][-1].content) | retriever,\n",
        "    ),\n",
        "    # If messages, then we pass inputs to LLM chain to transform the query, then pass to retriever\n",
        "    query_transform_prompt | chat | StrOutputParser() | retriever,\n",
        ").with_config(run_name=\"chat_retriever_chain\")"
      ]
    },
    {
      "cell_type": "markdown",
      "metadata": {
        "id": "WqI_gxyRDSM5"
      },
      "source": [
        "Then, we can use this query transformation chain to make our retrieval chain better able to handle such followup questions:"
      ]
    },
    {
      "cell_type": "code",
      "execution_count": 24,
      "metadata": {
        "id": "ZQjkc67GDSM5"
      },
      "outputs": [],
      "source": [
        "SYSTEM_TEMPLATE = \"\"\"\n",
        "Answer the user's questions based on the below context.\n",
        "If the context doesn't contain any relevant information to the question, don't make something up and just say \"I don't know\":\n",
        "\n",
        "<context>\n",
        "{context}\n",
        "</context>\n",
        "\"\"\"\n",
        "\n",
        "question_answering_prompt = ChatPromptTemplate.from_messages(\n",
        "    [\n",
        "        (\n",
        "            \"system\",\n",
        "            SYSTEM_TEMPLATE,\n",
        "        ),\n",
        "        MessagesPlaceholder(variable_name=\"messages\"),\n",
        "    ]\n",
        ")\n",
        "\n",
        "document_chain = create_stuff_documents_chain(chat, question_answering_prompt)\n",
        "\n",
        "conversational_retrieval_chain = RunnablePassthrough.assign(\n",
        "    context=query_transforming_retriever_chain,\n",
        ").assign(\n",
        "    answer=document_chain,\n",
        ")"
      ]
    },
    {
      "cell_type": "markdown",
      "metadata": {
        "id": "mjYozsYsDSM5"
      },
      "source": [
        "Awesome! Let's invoke this new chain with the same inputs as earlier:"
      ]
    },
    {
      "cell_type": "code",
      "execution_count": 65,
      "metadata": {
        "colab": {
          "base_uri": "https://localhost:8080/"
        },
        "id": "SuT3e-KEDSM5",
        "outputId": "ca0dcdf7-61e2-4804-96f8-f5947bb2eac9"
      },
      "outputs": [
        {
          "data": {
            "text/plain": [
              "{'messages': [HumanMessage(content='Wer ist der Geschäftsführer der MMS?')],\n",
              " 'context': [Document(page_content='des Unternehmens. Ehemalige Geschäftsführer sind:', metadata={'source': 'docs/mms.md'}),\n",
              "  Document(page_content='des Unternehmens. Ehemalige Geschäftsführer sind:', metadata={'source': 'docs/mms.md'}),\n",
              "  Document(page_content='des Unternehmens. Ehemalige Geschäftsführer sind:', metadata={'source': 'docs/mms.md'}),\n",
              "  Document(page_content='spitze: Ralf Pechmann, mit Hauptverantwortung im Bereich Vertrieb, Marketing, Kunden und Marcus Gaube als kaufmännischer Leiter des Unternehmens. Ehemalige Geschäftsführer sind: Im Jahr 2005 initiierte das Unternehmen das Dresdner Zukunftsforum zum Thema „Arbeiten und Leben in der digitalen Welt“, das seither fünfmal stattgefunden hat. Im Jahr 2006 war T-Systems Multimedia Solutions sowohl Preisträger des Ludwig-Erhard-Pre', metadata={'source': 'docs/mms.md'}),\n",
              "  Document(page_content='Gewinnern des Outstanding Security Performance Awards. Seit 2015 wurde das Unternehmen jährlich vom Wirtschaftsmagazin brand eins als bester Berater in der Kategorie „Unternehmensberater“ ausgezeichnet. Indem T-Systems MMS eine künstliche Intelligenz mit einer weiblichen Gesangsstimme trainierte, war das Unternehmen 2022 maßgeblich an der weltweit ersten KI-Oper „chasing waterfalls“ beteiligt, die in der Semperoper Dresden aufgeführt', metadata={'source': 'docs/mms.md'})],\n",
              " 'answer': 'Die aktuelle Geschäftsführer der T-Systems Multimedia Solutions (MMS) sind Ralf Pechmann, mit Hauptverantwortung im Bereich Vertrieb, Marketing, Kunden und Marcus Gaube als kaufmännischer Leiter.'}"
            ]
          },
          "execution_count": 65,
          "metadata": {},
          "output_type": "execute_result"
        }
      ],
      "source": [
        "conversational_retrieval_chain.invoke(\n",
        "    {\n",
        "        \"messages\": [\n",
        "            HumanMessage(content=\"Wer ist der Geschäftsführer der MMS?\"),\n",
        "        ]\n",
        "    }\n",
        ")"
      ]
    },
    {
      "cell_type": "code",
      "execution_count": 27,
      "metadata": {
        "colab": {
          "base_uri": "https://localhost:8080/"
        },
        "id": "5Uzat_BgDSM5",
        "outputId": "1db218d7-2965-486b-f98f-f84a631a49a8"
      },
      "outputs": [
        {
          "name": "stdout",
          "output_type": "stream",
          "text": [
            "\u001b[32;1m\u001b[1;3m[chain/start]\u001b[0m \u001b[1m[1:chain:RunnableSequence] Entering Chain run with input:\n",
            "\u001b[0m[inputs]\n",
            "\u001b[32;1m\u001b[1;3m[chain/start]\u001b[0m \u001b[1m[1:chain:RunnableSequence > 2:chain:RunnableAssign<context>] Entering Chain run with input:\n",
            "\u001b[0m[inputs]\n",
            "\u001b[32;1m\u001b[1;3m[chain/start]\u001b[0m \u001b[1m[1:chain:RunnableSequence > 2:chain:RunnableAssign<context> > 3:chain:RunnableParallel<context>] Entering Chain run with input:\n",
            "\u001b[0m[inputs]\n",
            "\u001b[32;1m\u001b[1;3m[chain/start]\u001b[0m \u001b[1m[1:chain:RunnableSequence > 2:chain:RunnableAssign<context> > 3:chain:RunnableParallel<context> > 4:chain:chat_retriever_chain] Entering Chain run with input:\n",
            "\u001b[0m[inputs]\n",
            "\u001b[32;1m\u001b[1;3m[chain/start]\u001b[0m \u001b[1m[1:chain:RunnableSequence > 2:chain:RunnableAssign<context> > 3:chain:RunnableParallel<context> > 4:chain:chat_retriever_chain > 5:chain:RunnableLambda] Entering Chain run with input:\n",
            "\u001b[0m[inputs]\n",
            "\u001b[36;1m\u001b[1;3m[chain/end]\u001b[0m \u001b[1m[1:chain:RunnableSequence > 2:chain:RunnableAssign<context> > 3:chain:RunnableParallel<context> > 4:chain:chat_retriever_chain > 5:chain:RunnableLambda] [0ms] Exiting Chain run with output:\n",
            "\u001b[0m{\n",
            "  \"output\": false\n",
            "}\n",
            "\u001b[32;1m\u001b[1;3m[chain/start]\u001b[0m \u001b[1m[1:chain:RunnableSequence > 2:chain:RunnableAssign<context> > 3:chain:RunnableParallel<context> > 4:chain:chat_retriever_chain > 6:chain:RunnableSequence] Entering Chain run with input:\n",
            "\u001b[0m[inputs]\n",
            "\u001b[32;1m\u001b[1;3m[chain/start]\u001b[0m \u001b[1m[1:chain:RunnableSequence > 2:chain:RunnableAssign<context> > 3:chain:RunnableParallel<context> > 4:chain:chat_retriever_chain > 6:chain:RunnableSequence > 7:prompt:ChatPromptTemplate] Entering Prompt run with input:\n",
            "\u001b[0m[inputs]\n",
            "\u001b[36;1m\u001b[1;3m[chain/end]\u001b[0m \u001b[1m[1:chain:RunnableSequence > 2:chain:RunnableAssign<context> > 3:chain:RunnableParallel<context> > 4:chain:chat_retriever_chain > 6:chain:RunnableSequence > 7:prompt:ChatPromptTemplate] [0ms] Exiting Prompt run with output:\n",
            "\u001b[0m[outputs]\n",
            "\u001b[32;1m\u001b[1;3m[llm/start]\u001b[0m \u001b[1m[1:chain:RunnableSequence > 2:chain:RunnableAssign<context> > 3:chain:RunnableParallel<context> > 4:chain:chat_retriever_chain > 6:chain:RunnableSequence > 8:llm:AzureChatOpenAI] Entering LLM run with input:\n",
            "\u001b[0m{\n",
            "  \"prompts\": [\n",
            "    \"Human: Was ist die Telekom MMS?\\nAI: Die Telekom MMS GmbH (Telekom MMS) ist ein Digital-Dienstleister, der sich als Begleiter von Großkonzernen und mittelständischen Unternehmen bei der digitalen Transformation versteht. Sie entwickelt zukunftsfähige Geschäftsmodelle für digitale Erlebnisse und bietet dynamisches Web- und Application-Management.\\nHuman: Erzähl mir mehr!\\nHuman: Given the above conversation, generate a search query to look up in order to get information relevant to the conversation. Only respond with the query, nothing else.\"\n",
            "  ]\n",
            "}\n",
            "\u001b[36;1m\u001b[1;3m[llm/end]\u001b[0m \u001b[1m[1:chain:RunnableSequence > 2:chain:RunnableAssign<context> > 3:chain:RunnableParallel<context> > 4:chain:chat_retriever_chain > 6:chain:RunnableSequence > 8:llm:AzureChatOpenAI] [503ms] Exiting LLM run with output:\n",
            "\u001b[0m{\n",
            "  \"generations\": [\n",
            "    [\n",
            "      {\n",
            "        \"text\": \"\\\"Telekom MMS GmbH digital services\\\"\",\n",
            "        \"generation_info\": {\n",
            "          \"finish_reason\": \"stop\",\n",
            "          \"logprobs\": null,\n",
            "          \"content_filter_results\": {\n",
            "            \"hate\": {\n",
            "              \"filtered\": false,\n",
            "              \"severity\": \"safe\"\n",
            "            },\n",
            "            \"self_harm\": {\n",
            "              \"filtered\": false,\n",
            "              \"severity\": \"safe\"\n",
            "            },\n",
            "            \"sexual\": {\n",
            "              \"filtered\": false,\n",
            "              \"severity\": \"safe\"\n",
            "            },\n",
            "            \"violence\": {\n",
            "              \"filtered\": false,\n",
            "              \"severity\": \"safe\"\n",
            "            }\n",
            "          }\n",
            "        },\n",
            "        \"type\": \"ChatGeneration\",\n",
            "        \"message\": {\n",
            "          \"lc\": 1,\n",
            "          \"type\": \"constructor\",\n",
            "          \"id\": [\n",
            "            \"langchain\",\n",
            "            \"schema\",\n",
            "            \"messages\",\n",
            "            \"AIMessage\"\n",
            "          ],\n",
            "          \"kwargs\": {\n",
            "            \"content\": \"\\\"Telekom MMS GmbH digital services\\\"\",\n",
            "            \"additional_kwargs\": {},\n",
            "            \"name\": null,\n",
            "            \"id\": null\n",
            "          }\n",
            "        }\n",
            "      }\n",
            "    ]\n",
            "  ],\n",
            "  \"llm_output\": {\n",
            "    \"token_usage\": {\n",
            "      \"completion_tokens\": 9,\n",
            "      \"prompt_tokens\": 144,\n",
            "      \"total_tokens\": 153\n",
            "    },\n",
            "    \"model_name\": \"gpt-35-turbo\",\n",
            "    \"system_fingerprint\": \"fp_68a7d165bf\",\n",
            "    \"prompt_filter_results\": [\n",
            "      {\n",
            "        \"prompt_index\": 0,\n",
            "        \"content_filter_results\": {\n",
            "          \"hate\": {\n",
            "            \"filtered\": false,\n",
            "            \"severity\": \"safe\"\n",
            "          },\n",
            "          \"self_harm\": {\n",
            "            \"filtered\": false,\n",
            "            \"severity\": \"safe\"\n",
            "          },\n",
            "          \"sexual\": {\n",
            "            \"filtered\": false,\n",
            "            \"severity\": \"safe\"\n",
            "          },\n",
            "          \"violence\": {\n",
            "            \"filtered\": false,\n",
            "            \"severity\": \"safe\"\n",
            "          }\n",
            "        }\n",
            "      }\n",
            "    ]\n",
            "  },\n",
            "  \"run\": null\n",
            "}\n",
            "\u001b[32;1m\u001b[1;3m[chain/start]\u001b[0m \u001b[1m[1:chain:RunnableSequence > 2:chain:RunnableAssign<context> > 3:chain:RunnableParallel<context> > 4:chain:chat_retriever_chain > 6:chain:RunnableSequence > 9:parser:StrOutputParser] Entering Parser run with input:\n",
            "\u001b[0m[inputs]\n",
            "\u001b[36;1m\u001b[1;3m[chain/end]\u001b[0m \u001b[1m[1:chain:RunnableSequence > 2:chain:RunnableAssign<context> > 3:chain:RunnableParallel<context> > 4:chain:chat_retriever_chain > 6:chain:RunnableSequence > 9:parser:StrOutputParser] [0ms] Exiting Parser run with output:\n",
            "\u001b[0m{\n",
            "  \"output\": \"\\\"Telekom MMS GmbH digital services\\\"\"\n",
            "}\n",
            "\u001b[36;1m\u001b[1;3m[chain/end]\u001b[0m \u001b[1m[1:chain:RunnableSequence > 2:chain:RunnableAssign<context> > 3:chain:RunnableParallel<context> > 4:chain:chat_retriever_chain > 6:chain:RunnableSequence] [531ms] Exiting Chain run with output:\n",
            "\u001b[0m[outputs]\n",
            "\u001b[36;1m\u001b[1;3m[chain/end]\u001b[0m \u001b[1m[1:chain:RunnableSequence > 2:chain:RunnableAssign<context> > 3:chain:RunnableParallel<context> > 4:chain:chat_retriever_chain] [534ms] Exiting Chain run with output:\n",
            "\u001b[0m{\n",
            "  \"output\": [\n",
            "    {\n",
            "      \"lc\": 1,\n",
            "      \"type\": \"constructor\",\n",
            "      \"id\": [\n",
            "        \"langchain\",\n",
            "        \"schema\",\n",
            "        \"document\",\n",
            "        \"Document\"\n",
            "      ],\n",
            "      \"kwargs\": {\n",
            "        \"page_content\": \"Die Deutsche Telekom MMS GmbH (Telekom MMS) ist ein Digital-Dienstleister, der sich als Begleiter von Großkonzernen und mittelständischen Unternehmen bei der digitalen Transformation versteht.\",\n",
            "        \"metadata\": {\n",
            "          \"source\": \"../docs/mms.md\"\n",
            "        }\n",
            "      }\n",
            "    },\n",
            "    {\n",
            "      \"lc\": 1,\n",
            "      \"type\": \"constructor\",\n",
            "      \"id\": [\n",
            "        \"langchain\",\n",
            "        \"schema\",\n",
            "        \"document\",\n",
            "        \"Document\"\n",
            "      ],\n",
            "      \"kwargs\": {\n",
            "        \"page_content\": \"Telekom MMS\",\n",
            "        \"metadata\": {\n",
            "          \"source\": \"../docs/mms.md\"\n",
            "        }\n",
            "      }\n",
            "    },\n",
            "    {\n",
            "      \"lc\": 1,\n",
            "      \"type\": \"constructor\",\n",
            "      \"id\": [\n",
            "        \"langchain\",\n",
            "        \"schema\",\n",
            "        \"document\",\n",
            "        \"Document\"\n",
            "      ],\n",
            "      \"kwargs\": {\n",
            "        \"page_content\": \"Geschäftskunden der Telekom Deutschland heran und kann den Konzern auf dem Weg zur „Leading Digital Telko“ unterstützen.\",\n",
            "        \"metadata\": {\n",
            "          \"source\": \"../docs/mms.md\"\n",
            "        }\n",
            "      }\n",
            "    },\n",
            "    {\n",
            "      \"lc\": 1,\n",
            "      \"type\": \"constructor\",\n",
            "      \"id\": [\n",
            "        \"langchain\",\n",
            "        \"schema\",\n",
            "        \"document\",\n",
            "        \"Document\"\n",
            "      ],\n",
            "      \"kwargs\": {\n",
            "        \"page_content\": \"Über 2.200 Mitarbeitende an neun Standorten in Deutschland entwickeln zukunftsfähige Geschäftsmodelle für digitale Erlebnisse. Telekom MMS bietet ein dynamisches Web- und Application-Management und\",\n",
            "        \"metadata\": {\n",
            "          \"source\": \"../docs/mms.md\"\n",
            "        }\n",
            "      }\n",
            "    },\n",
            "    {\n",
            "      \"lc\": 1,\n",
            "      \"type\": \"constructor\",\n",
            "      \"id\": [\n",
            "        \"langchain\",\n",
            "        \"schema\",\n",
            "        \"document\",\n",
            "        \"Document\"\n",
            "      ],\n",
            "      \"kwargs\": {\n",
            "        \"page_content\": \"2018 schloss T-Systems MMS einen Kooperationsvertrag mit dem Smart Systems Hub und ist seitdem einer der strategischen Partner. Mit dem Ziel, die reale und die digitale Welt zu vernetzen, ermöglicht\",\n",
            "        \"metadata\": {\n",
            "          \"source\": \"../docs/mms.md\"\n",
            "        }\n",
            "      }\n",
            "    }\n",
            "  ]\n",
            "}\n",
            "\u001b[36;1m\u001b[1;3m[chain/end]\u001b[0m \u001b[1m[1:chain:RunnableSequence > 2:chain:RunnableAssign<context> > 3:chain:RunnableParallel<context>] [540ms] Exiting Chain run with output:\n",
            "\u001b[0m[outputs]\n",
            "\u001b[36;1m\u001b[1;3m[chain/end]\u001b[0m \u001b[1m[1:chain:RunnableSequence > 2:chain:RunnableAssign<context>] [544ms] Exiting Chain run with output:\n",
            "\u001b[0m[outputs]\n",
            "\u001b[32;1m\u001b[1;3m[chain/start]\u001b[0m \u001b[1m[1:chain:RunnableSequence > 11:chain:RunnableAssign<answer>] Entering Chain run with input:\n",
            "\u001b[0m[inputs]\n",
            "\u001b[32;1m\u001b[1;3m[chain/start]\u001b[0m \u001b[1m[1:chain:RunnableSequence > 11:chain:RunnableAssign<answer> > 12:chain:RunnableParallel<answer>] Entering Chain run with input:\n",
            "\u001b[0m[inputs]\n",
            "\u001b[32;1m\u001b[1;3m[chain/start]\u001b[0m \u001b[1m[1:chain:RunnableSequence > 11:chain:RunnableAssign<answer> > 12:chain:RunnableParallel<answer> > 13:chain:stuff_documents_chain] Entering Chain run with input:\n",
            "\u001b[0m[inputs]\n",
            "\u001b[32;1m\u001b[1;3m[chain/start]\u001b[0m \u001b[1m[1:chain:RunnableSequence > 11:chain:RunnableAssign<answer> > 12:chain:RunnableParallel<answer> > 13:chain:stuff_documents_chain > 14:chain:format_inputs] Entering Chain run with input:\n",
            "\u001b[0m[inputs]\n",
            "\u001b[32;1m\u001b[1;3m[chain/start]\u001b[0m \u001b[1m[1:chain:RunnableSequence > 11:chain:RunnableAssign<answer> > 12:chain:RunnableParallel<answer> > 13:chain:stuff_documents_chain > 14:chain:format_inputs > 15:chain:RunnableParallel<context>] Entering Chain run with input:\n",
            "\u001b[0m[inputs]\n",
            "\u001b[32;1m\u001b[1;3m[chain/start]\u001b[0m \u001b[1m[1:chain:RunnableSequence > 11:chain:RunnableAssign<answer> > 12:chain:RunnableParallel<answer> > 13:chain:stuff_documents_chain > 14:chain:format_inputs > 15:chain:RunnableParallel<context> > 16:chain:format_docs] Entering Chain run with input:\n",
            "\u001b[0m[inputs]\n",
            "\u001b[36;1m\u001b[1;3m[chain/end]\u001b[0m \u001b[1m[1:chain:RunnableSequence > 11:chain:RunnableAssign<answer> > 12:chain:RunnableParallel<answer> > 13:chain:stuff_documents_chain > 14:chain:format_inputs > 15:chain:RunnableParallel<context> > 16:chain:format_docs] [0ms] Exiting Chain run with output:\n",
            "\u001b[0m{\n",
            "  \"output\": \"Die Deutsche Telekom MMS GmbH (Telekom MMS) ist ein Digital-Dienstleister, der sich als Begleiter von Großkonzernen und mittelständischen Unternehmen bei der digitalen Transformation versteht.\\n\\nTelekom MMS\\n\\nGeschäftskunden der Telekom Deutschland heran und kann den Konzern auf dem Weg zur „Leading Digital Telko“ unterstützen.\\n\\nÜber 2.200 Mitarbeitende an neun Standorten in Deutschland entwickeln zukunftsfähige Geschäftsmodelle für digitale Erlebnisse. Telekom MMS bietet ein dynamisches Web- und Application-Management und\\n\\n2018 schloss T-Systems MMS einen Kooperationsvertrag mit dem Smart Systems Hub und ist seitdem einer der strategischen Partner. Mit dem Ziel, die reale und die digitale Welt zu vernetzen, ermöglicht\"\n",
            "}\n",
            "\u001b[36;1m\u001b[1;3m[chain/end]\u001b[0m \u001b[1m[1:chain:RunnableSequence > 11:chain:RunnableAssign<answer> > 12:chain:RunnableParallel<answer> > 13:chain:stuff_documents_chain > 14:chain:format_inputs > 15:chain:RunnableParallel<context>] [2ms] Exiting Chain run with output:\n",
            "\u001b[0m{\n",
            "  \"context\": \"Die Deutsche Telekom MMS GmbH (Telekom MMS) ist ein Digital-Dienstleister, der sich als Begleiter von Großkonzernen und mittelständischen Unternehmen bei der digitalen Transformation versteht.\\n\\nTelekom MMS\\n\\nGeschäftskunden der Telekom Deutschland heran und kann den Konzern auf dem Weg zur „Leading Digital Telko“ unterstützen.\\n\\nÜber 2.200 Mitarbeitende an neun Standorten in Deutschland entwickeln zukunftsfähige Geschäftsmodelle für digitale Erlebnisse. Telekom MMS bietet ein dynamisches Web- und Application-Management und\\n\\n2018 schloss T-Systems MMS einen Kooperationsvertrag mit dem Smart Systems Hub und ist seitdem einer der strategischen Partner. Mit dem Ziel, die reale und die digitale Welt zu vernetzen, ermöglicht\"\n",
            "}\n",
            "\u001b[36;1m\u001b[1;3m[chain/end]\u001b[0m \u001b[1m[1:chain:RunnableSequence > 11:chain:RunnableAssign<answer> > 12:chain:RunnableParallel<answer> > 13:chain:stuff_documents_chain > 14:chain:format_inputs] [3ms] Exiting Chain run with output:\n",
            "\u001b[0m[outputs]\n",
            "\u001b[32;1m\u001b[1;3m[chain/start]\u001b[0m \u001b[1m[1:chain:RunnableSequence > 11:chain:RunnableAssign<answer> > 12:chain:RunnableParallel<answer> > 13:chain:stuff_documents_chain > 17:prompt:ChatPromptTemplate] Entering Prompt run with input:\n",
            "\u001b[0m[inputs]\n",
            "\u001b[36;1m\u001b[1;3m[chain/end]\u001b[0m \u001b[1m[1:chain:RunnableSequence > 11:chain:RunnableAssign<answer> > 12:chain:RunnableParallel<answer> > 13:chain:stuff_documents_chain > 17:prompt:ChatPromptTemplate] [1ms] Exiting Prompt run with output:\n",
            "\u001b[0m[outputs]\n",
            "\u001b[32;1m\u001b[1;3m[llm/start]\u001b[0m \u001b[1m[1:chain:RunnableSequence > 11:chain:RunnableAssign<answer> > 12:chain:RunnableParallel<answer> > 13:chain:stuff_documents_chain > 18:llm:AzureChatOpenAI] Entering LLM run with input:\n",
            "\u001b[0m{\n",
            "  \"prompts\": [\n",
            "    \"System: \\nAnswer the user's questions based on the below context.\\nIf the context doesn't contain any relevant information to the question, don't make something up and just say \\\"I don't know\\\":\\n\\n<context>\\nDie Deutsche Telekom MMS GmbH (Telekom MMS) ist ein Digital-Dienstleister, der sich als Begleiter von Großkonzernen und mittelständischen Unternehmen bei der digitalen Transformation versteht.\\n\\nTelekom MMS\\n\\nGeschäftskunden der Telekom Deutschland heran und kann den Konzern auf dem Weg zur „Leading Digital Telko“ unterstützen.\\n\\nÜber 2.200 Mitarbeitende an neun Standorten in Deutschland entwickeln zukunftsfähige Geschäftsmodelle für digitale Erlebnisse. Telekom MMS bietet ein dynamisches Web- und Application-Management und\\n\\n2018 schloss T-Systems MMS einen Kooperationsvertrag mit dem Smart Systems Hub und ist seitdem einer der strategischen Partner. Mit dem Ziel, die reale und die digitale Welt zu vernetzen, ermöglicht\\n</context>\\n\\nHuman: Was ist die Telekom MMS?\\nAI: Die Telekom MMS GmbH (Telekom MMS) ist ein Digital-Dienstleister, der sich als Begleiter von Großkonzernen und mittelständischen Unternehmen bei der digitalen Transformation versteht. Sie entwickelt zukunftsfähige Geschäftsmodelle für digitale Erlebnisse und bietet dynamisches Web- und Application-Management.\\nHuman: Erzähl mir mehr!\"\n",
            "  ]\n",
            "}\n",
            "\u001b[36;1m\u001b[1;3m[llm/end]\u001b[0m \u001b[1m[1:chain:RunnableSequence > 11:chain:RunnableAssign<answer> > 12:chain:RunnableParallel<answer> > 13:chain:stuff_documents_chain > 18:llm:AzureChatOpenAI] [1.32s] Exiting LLM run with output:\n",
            "\u001b[0m{\n",
            "  \"generations\": [\n",
            "    [\n",
            "      {\n",
            "        \"text\": \"Die Telekom MMS GmbH ist ein Unternehmen, das Geschäftskunden der Telekom Deutschland bei der digitalen Transformation unterstützt. Mit über 2.200 Mitarbeitenden an neun Standorten in Deutschland entwickelt sie zukunftsfähige Geschäftsmodelle für digitale Erlebnisse und bietet dynamisches Web- und Application-Management. Im Jahr 2018 schloss T-Systems MMS einen Kooperationsvertrag mit dem Smart Systems Hub und ist seitdem einer der strategischen Partner, mit dem Ziel, die reale und die digitale Welt zu vernetzen.\",\n",
            "        \"generation_info\": {\n",
            "          \"finish_reason\": \"stop\",\n",
            "          \"logprobs\": null,\n",
            "          \"content_filter_results\": {\n",
            "            \"hate\": {\n",
            "              \"filtered\": false,\n",
            "              \"severity\": \"safe\"\n",
            "            },\n",
            "            \"self_harm\": {\n",
            "              \"filtered\": false,\n",
            "              \"severity\": \"safe\"\n",
            "            },\n",
            "            \"sexual\": {\n",
            "              \"filtered\": false,\n",
            "              \"severity\": \"safe\"\n",
            "            },\n",
            "            \"violence\": {\n",
            "              \"filtered\": false,\n",
            "              \"severity\": \"safe\"\n",
            "            }\n",
            "          }\n",
            "        },\n",
            "        \"type\": \"ChatGeneration\",\n",
            "        \"message\": {\n",
            "          \"lc\": 1,\n",
            "          \"type\": \"constructor\",\n",
            "          \"id\": [\n",
            "            \"langchain\",\n",
            "            \"schema\",\n",
            "            \"messages\",\n",
            "            \"AIMessage\"\n",
            "          ],\n",
            "          \"kwargs\": {\n",
            "            \"content\": \"Die Telekom MMS GmbH ist ein Unternehmen, das Geschäftskunden der Telekom Deutschland bei der digitalen Transformation unterstützt. Mit über 2.200 Mitarbeitenden an neun Standorten in Deutschland entwickelt sie zukunftsfähige Geschäftsmodelle für digitale Erlebnisse und bietet dynamisches Web- und Application-Management. Im Jahr 2018 schloss T-Systems MMS einen Kooperationsvertrag mit dem Smart Systems Hub und ist seitdem einer der strategischen Partner, mit dem Ziel, die reale und die digitale Welt zu vernetzen.\",\n",
            "            \"additional_kwargs\": {},\n",
            "            \"name\": null,\n",
            "            \"id\": null\n",
            "          }\n",
            "        }\n",
            "      }\n",
            "    ]\n",
            "  ],\n",
            "  \"llm_output\": {\n",
            "    \"token_usage\": {\n",
            "      \"completion_tokens\": 125,\n",
            "      \"prompt_tokens\": 344,\n",
            "      \"total_tokens\": 469\n",
            "    },\n",
            "    \"model_name\": \"gpt-35-turbo\",\n",
            "    \"system_fingerprint\": \"fp_68a7d165bf\",\n",
            "    \"prompt_filter_results\": [\n",
            "      {\n",
            "        \"prompt_index\": 0,\n",
            "        \"content_filter_results\": {\n",
            "          \"hate\": {\n",
            "            \"filtered\": false,\n",
            "            \"severity\": \"safe\"\n",
            "          },\n",
            "          \"self_harm\": {\n",
            "            \"filtered\": false,\n",
            "            \"severity\": \"safe\"\n",
            "          },\n",
            "          \"sexual\": {\n",
            "            \"filtered\": false,\n",
            "            \"severity\": \"safe\"\n",
            "          },\n",
            "          \"violence\": {\n",
            "            \"filtered\": false,\n",
            "            \"severity\": \"safe\"\n",
            "          }\n",
            "        }\n",
            "      }\n",
            "    ]\n",
            "  },\n",
            "  \"run\": null\n",
            "}\n",
            "\u001b[32;1m\u001b[1;3m[chain/start]\u001b[0m \u001b[1m[1:chain:RunnableSequence > 11:chain:RunnableAssign<answer> > 12:chain:RunnableParallel<answer> > 13:chain:stuff_documents_chain > 19:parser:StrOutputParser] Entering Parser run with input:\n",
            "\u001b[0m[inputs]\n",
            "\u001b[36;1m\u001b[1;3m[chain/end]\u001b[0m \u001b[1m[1:chain:RunnableSequence > 11:chain:RunnableAssign<answer> > 12:chain:RunnableParallel<answer> > 13:chain:stuff_documents_chain > 19:parser:StrOutputParser] [0ms] Exiting Parser run with output:\n",
            "\u001b[0m{\n",
            "  \"output\": \"Die Telekom MMS GmbH ist ein Unternehmen, das Geschäftskunden der Telekom Deutschland bei der digitalen Transformation unterstützt. Mit über 2.200 Mitarbeitenden an neun Standorten in Deutschland entwickelt sie zukunftsfähige Geschäftsmodelle für digitale Erlebnisse und bietet dynamisches Web- und Application-Management. Im Jahr 2018 schloss T-Systems MMS einen Kooperationsvertrag mit dem Smart Systems Hub und ist seitdem einer der strategischen Partner, mit dem Ziel, die reale und die digitale Welt zu vernetzen.\"\n",
            "}\n",
            "\u001b[36;1m\u001b[1;3m[chain/end]\u001b[0m \u001b[1m[1:chain:RunnableSequence > 11:chain:RunnableAssign<answer> > 12:chain:RunnableParallel<answer> > 13:chain:stuff_documents_chain] [1.32s] Exiting Chain run with output:\n",
            "\u001b[0m{\n",
            "  \"output\": \"Die Telekom MMS GmbH ist ein Unternehmen, das Geschäftskunden der Telekom Deutschland bei der digitalen Transformation unterstützt. Mit über 2.200 Mitarbeitenden an neun Standorten in Deutschland entwickelt sie zukunftsfähige Geschäftsmodelle für digitale Erlebnisse und bietet dynamisches Web- und Application-Management. Im Jahr 2018 schloss T-Systems MMS einen Kooperationsvertrag mit dem Smart Systems Hub und ist seitdem einer der strategischen Partner, mit dem Ziel, die reale und die digitale Welt zu vernetzen.\"\n",
            "}\n",
            "\u001b[36;1m\u001b[1;3m[chain/end]\u001b[0m \u001b[1m[1:chain:RunnableSequence > 11:chain:RunnableAssign<answer> > 12:chain:RunnableParallel<answer>] [1.33s] Exiting Chain run with output:\n",
            "\u001b[0m{\n",
            "  \"answer\": \"Die Telekom MMS GmbH ist ein Unternehmen, das Geschäftskunden der Telekom Deutschland bei der digitalen Transformation unterstützt. Mit über 2.200 Mitarbeitenden an neun Standorten in Deutschland entwickelt sie zukunftsfähige Geschäftsmodelle für digitale Erlebnisse und bietet dynamisches Web- und Application-Management. Im Jahr 2018 schloss T-Systems MMS einen Kooperationsvertrag mit dem Smart Systems Hub und ist seitdem einer der strategischen Partner, mit dem Ziel, die reale und die digitale Welt zu vernetzen.\"\n",
            "}\n",
            "\u001b[36;1m\u001b[1;3m[chain/end]\u001b[0m \u001b[1m[1:chain:RunnableSequence > 11:chain:RunnableAssign<answer>] [1.33s] Exiting Chain run with output:\n",
            "\u001b[0m[outputs]\n",
            "\u001b[36;1m\u001b[1;3m[chain/end]\u001b[0m \u001b[1m[1:chain:RunnableSequence] [1.90s] Exiting Chain run with output:\n",
            "\u001b[0m[outputs]\n"
          ]
        },
        {
          "data": {
            "text/plain": [
              "{'messages': [HumanMessage(content='Was ist die Telekom MMS?'),\n",
              "  AIMessage(content='Die Telekom MMS GmbH (Telekom MMS) ist ein Digital-Dienstleister, der sich als Begleiter von Großkonzernen und mittelständischen Unternehmen bei der digitalen Transformation versteht. Sie entwickelt zukunftsfähige Geschäftsmodelle für digitale Erlebnisse und bietet dynamisches Web- und Application-Management.'),\n",
              "  HumanMessage(content='Erzähl mir mehr!')],\n",
              " 'context': [Document(page_content='Die Deutsche Telekom MMS GmbH (Telekom MMS) ist ein Digital-Dienstleister, der sich als Begleiter von Großkonzernen und mittelständischen Unternehmen bei der digitalen Transformation versteht.', metadata={'source': '../docs/mms.md'}),\n",
              "  Document(page_content='Telekom MMS', metadata={'source': '../docs/mms.md'}),\n",
              "  Document(page_content='Geschäftskunden der Telekom Deutschland heran und kann den Konzern auf dem Weg zur „Leading Digital Telko“ unterstützen.', metadata={'source': '../docs/mms.md'}),\n",
              "  Document(page_content='Über 2.200 Mitarbeitende an neun Standorten in Deutschland entwickeln zukunftsfähige Geschäftsmodelle für digitale Erlebnisse. Telekom MMS bietet ein dynamisches Web- und Application-Management und', metadata={'source': '../docs/mms.md'}),\n",
              "  Document(page_content='2018 schloss T-Systems MMS einen Kooperationsvertrag mit dem Smart Systems Hub und ist seitdem einer der strategischen Partner. Mit dem Ziel, die reale und die digitale Welt zu vernetzen, ermöglicht', metadata={'source': '../docs/mms.md'})],\n",
              " 'answer': 'Die Telekom MMS GmbH ist ein Unternehmen, das Geschäftskunden der Telekom Deutschland bei der digitalen Transformation unterstützt. Mit über 2.200 Mitarbeitenden an neun Standorten in Deutschland entwickelt sie zukunftsfähige Geschäftsmodelle für digitale Erlebnisse und bietet dynamisches Web- und Application-Management. Im Jahr 2018 schloss T-Systems MMS einen Kooperationsvertrag mit dem Smart Systems Hub und ist seitdem einer der strategischen Partner, mit dem Ziel, die reale und die digitale Welt zu vernetzen.'}"
            ]
          },
          "execution_count": 27,
          "metadata": {},
          "output_type": "execute_result"
        }
      ],
      "source": [
        "import langchain\n",
        "langchain.debug = True\n",
        "\n",
        "conversational_retrieval_chain.invoke(\n",
        "    {\n",
        "        \"messages\": [\n",
        "            HumanMessage(content=\"Was ist die Telekom MMS?\"),\n",
        "            AIMessage(\n",
        "                content=\"Die Telekom MMS GmbH (Telekom MMS) ist ein Digital-Dienstleister, der sich als Begleiter von Großkonzernen und mittelständischen Unternehmen bei der digitalen Transformation versteht. Sie entwickelt zukunftsfähige Geschäftsmodelle für digitale Erlebnisse und bietet dynamisches Web- und Application-Management.\"\n",
        "            ),\n",
        "            HumanMessage(content=\"Erzähl mir mehr!\"),\n",
        "        ],\n",
        "    }\n",
        ")"
      ]
    },
    {
      "cell_type": "code",
      "execution_count": 23,
      "metadata": {
        "colab": {
          "base_uri": "https://localhost:8080/"
        },
        "id": "mBhKQWMEX2FR",
        "outputId": "5e049b1b-851c-42d4-f556-c76dd7d5fbfe"
      },
      "outputs": [
        {
          "name": "stdout",
          "output_type": "stream",
          "text": [
            "{'messages': [HumanMessage(content='Was ist die Telekom MMS?'), AIMessage(content='Die Telekom MMS GmbH (Telekom MMS) ist ein Digital-Dienstleister, der sich als Begleiter von Großkonzernen und mittelständischen Unternehmen bei der digitalen Transformation versteht. Sie entwickelt zukunftsfähige Geschäftsmodelle für digitale Erlebnisse und bietet dynamisches Web- und Application-Management.'), HumanMessage(content='Erzähl mir mehr!')], 'context': [Document(page_content='Telekom MMS', metadata={'source': 'docs/mms.md'}), Document(page_content='Die Deutsche Telekom MMS GmbH (Telekom MMS) ist ein Digital-Dienstleister, der sich als Begleiter von Großkonzernen und mittelständischen Unternehmen bei der digitalen Transformation versteht.', metadata={'source': 'docs/mms.md'}), Document(page_content='Im März 2023 ging das Unternehmen zurück an die Deutsche Telekom AG und firmiert nun unter Deutsche Telekom MMS GmbH. Dadurch rückt das Unternehmen näher an die mittelständischen Geschäftskunden der', metadata={'source': 'docs/mms.md'}), Document(page_content='Geschäftskunden der Telekom Deutschland heran und kann den Konzern auf dem Weg zur „Leading Digital Telko“ unterstützen.', metadata={'source': 'docs/mms.md'}), Document(page_content='die bisherigen Tochtergesellschaften der Telekom DeTeSystems, DeTeCSM, Detecon, T-Data, T-Nova, die Konzernbereiche Datenkommunikation und Media Broadcast sowie das von Daimler erworbene debis', metadata={'source': 'docs/mms.md'})], 'answer': 'Leider enthält der vorliegende Kontext keine weiteren Informationen über die Telekom MMS GmbH.'}\n",
            "Total Cost (USD): $0.000798\n"
          ]
        }
      ],
      "source": [
        "from langchain.callbacks import get_openai_callback\n",
        "with get_openai_callback() as cb:\n",
        "    data = conversational_retrieval_chain.invoke(\n",
        "        {\n",
        "            \"messages\": [\n",
        "                HumanMessage(content=\"Was ist die Telekom MMS?\"),\n",
        "                AIMessage(\n",
        "                    content=\"Die Telekom MMS GmbH (Telekom MMS) ist ein Digital-Dienstleister, der sich als Begleiter von Großkonzernen und mittelständischen Unternehmen bei der digitalen Transformation versteht. Sie entwickelt zukunftsfähige Geschäftsmodelle für digitale Erlebnisse und bietet dynamisches Web- und Application-Management.\"\n",
        "                ),\n",
        "                HumanMessage(content=\"Erzähl mir mehr!\"),\n",
        "            ],\n",
        "        }\n",
        "    )\n",
        "    print(data)\n",
        "    print(f\"Total Cost (USD): ${format(cb.total_cost, '.6f')}\")"
      ]
    },
    {
      "cell_type": "markdown",
      "metadata": {
        "id": "OtI6RbdgDSM5"
      },
      "source": [
        "You can check out [this LangSmith trace](https://smith.langchain.com/public/bb329a3b-e92a-4063-ad78-43f720fbb5a2/r) to see the internal query transformation step for yourself.\n",
        "\n",
        "## Streaming\n",
        "\n",
        "Because this chain is constructed with LCEL, you can use familiar methods like `.stream()` with it:"
      ]
    },
    {
      "cell_type": "code",
      "execution_count": 25,
      "metadata": {
        "colab": {
          "base_uri": "https://localhost:8080/"
        },
        "id": "mpyqP-0BDSM5",
        "outputId": "1bd7f142-2a7d-43a8-975d-b4a27f1a615b"
      },
      "outputs": [
        {
          "name": "stdout",
          "output_type": "stream",
          "text": [
            "{'messages': [HumanMessage(content='Was ist die Telekom MMS?'), AIMessage(content='Die Telekom MMS GmbH (Telekom MMS) ist ein Digital-Dienstleister, der sich als Begleiter von Großkonzernen und mittelständischen Unternehmen bei der digitalen Transformation versteht. Sie entwickelt zukunftsfähige Geschäftsmodelle für digitale Erlebnisse und bietet dynamisches Web- und Application-Management.'), HumanMessage(content='Erzähl mir mehr!')]}\n",
            "{'context': [Document(page_content='Die Deutsche Telekom MMS GmbH (Telekom MMS) ist ein Digital-Dienstleister, der sich als Begleiter von Großkonzernen und mittelständischen Unternehmen bei der digitalen Transformation versteht.', metadata={'source': 'docs/mms.md'}), Document(page_content='Telekom MMS', metadata={'source': 'docs/mms.md'}), Document(page_content='Geschäftskunden der Telekom Deutschland heran und kann den Konzern auf dem Weg zur „Leading Digital Telko“ unterstützen.', metadata={'source': 'docs/mms.md'}), Document(page_content='Über 2.200 Mitarbeitende an neun Standorten in Deutschland entwickeln zukunftsfähige Geschäftsmodelle für digitale Erlebnisse. Telekom MMS bietet ein dynamisches Web- und Application-Management und', metadata={'source': 'docs/mms.md'}), Document(page_content='2018 schloss T-Systems MMS einen Kooperationsvertrag mit dem Smart Systems Hub und ist seitdem einer der strategischen Partner. Mit dem Ziel, die reale und die digitale Welt zu vernetzen, ermöglicht', metadata={'source': 'docs/mms.md'})]}\n",
            "{'answer': ''}\n",
            "{'answer': 'Die'}\n",
            "{'answer': ' Tele'}\n",
            "{'answer': 'kom'}\n",
            "{'answer': ' M'}\n",
            "{'answer': 'MS'}\n",
            "{'answer': ' hat'}\n",
            "{'answer': ' über'}\n",
            "{'answer': ' '}\n",
            "{'answer': '2'}\n",
            "{'answer': '.'}\n",
            "{'answer': '200'}\n",
            "{'answer': ' Mitar'}\n",
            "{'answer': 'beit'}\n",
            "{'answer': 'ende'}\n",
            "{'answer': ' an'}\n",
            "{'answer': ' ne'}\n",
            "{'answer': 'un'}\n",
            "{'answer': ' Stand'}\n",
            "{'answer': 'ort'}\n",
            "{'answer': 'en'}\n",
            "{'answer': ' in'}\n",
            "{'answer': ' Deutschland'}\n",
            "{'answer': ' und'}\n",
            "{'answer': ' ar'}\n",
            "{'answer': 'beit'}\n",
            "{'answer': 'et'}\n",
            "{'answer': ' eng'}\n",
            "{'answer': ' mit'}\n",
            "{'answer': ' Gesch'}\n",
            "{'answer': 'äft'}\n",
            "{'answer': 'sk'}\n",
            "{'answer': 'unden'}\n",
            "{'answer': ' der'}\n",
            "{'answer': ' Tele'}\n",
            "{'answer': 'kom'}\n",
            "{'answer': ' Deutschland'}\n",
            "{'answer': ' zusammen'}\n",
            "{'answer': '.'}\n",
            "{'answer': ' Ihr'}\n",
            "{'answer': ' Ziel'}\n",
            "{'answer': ' ist'}\n",
            "{'answer': ' es'}\n",
            "{'answer': ','}\n",
            "{'answer': ' den'}\n",
            "{'answer': ' Kon'}\n",
            "{'answer': 'z'}\n",
            "{'answer': 'ern'}\n",
            "{'answer': ' auf'}\n",
            "{'answer': ' dem'}\n",
            "{'answer': ' Weg'}\n",
            "{'answer': ' zur'}\n",
            "{'answer': ' „'}\n",
            "{'answer': 'Leading'}\n",
            "{'answer': ' Digital'}\n",
            "{'answer': ' Tel'}\n",
            "{'answer': 'ko'}\n",
            "{'answer': '“'}\n",
            "{'answer': ' zu'}\n",
            "{'answer': ' unterstüt'}\n",
            "{'answer': 'zen'}\n",
            "{'answer': '.'}\n",
            "{'answer': ' Au'}\n",
            "{'answer': 'ßerdem'}\n",
            "{'answer': ' haben'}\n",
            "{'answer': ' sie'}\n",
            "{'answer': ' einen'}\n",
            "{'answer': ' Ko'}\n",
            "{'answer': 'operations'}\n",
            "{'answer': 'ver'}\n",
            "{'answer': 'trag'}\n",
            "{'answer': ' mit'}\n",
            "{'answer': ' dem'}\n",
            "{'answer': ' Smart'}\n",
            "{'answer': ' Systems'}\n",
            "{'answer': ' Hub'}\n",
            "{'answer': ' ab'}\n",
            "{'answer': 'gesch'}\n",
            "{'answer': 'lossen'}\n",
            "{'answer': ','}\n",
            "{'answer': ' um'}\n",
            "{'answer': ' die'}\n",
            "{'answer': ' re'}\n",
            "{'answer': 'ale'}\n",
            "{'answer': ' und'}\n",
            "{'answer': ' die'}\n",
            "{'answer': ' digit'}\n",
            "{'answer': 'ale'}\n",
            "{'answer': ' Welt'}\n",
            "{'answer': ' zu'}\n",
            "{'answer': ' v'}\n",
            "{'answer': 'ernet'}\n",
            "{'answer': 'zen'}\n",
            "{'answer': '.'}\n",
            "{'answer': ''}\n"
          ]
        }
      ],
      "source": [
        "stream = conversational_retrieval_chain.stream(\n",
        "    {\n",
        "            \"messages\": [\n",
        "                HumanMessage(content=\"Was ist die Telekom MMS?\"),\n",
        "                AIMessage(\n",
        "                    content=\"Die Telekom MMS GmbH (Telekom MMS) ist ein Digital-Dienstleister, der sich als Begleiter von Großkonzernen und mittelständischen Unternehmen bei der digitalen Transformation versteht. Sie entwickelt zukunftsfähige Geschäftsmodelle für digitale Erlebnisse und bietet dynamisches Web- und Application-Management.\"\n",
        "                ),\n",
        "                HumanMessage(content=\"Erzähl mir mehr!\"),\n",
        "            ],\n",
        "    }\n",
        ")\n",
        "\n",
        "for chunk in stream:\n",
        "    print(chunk)"
      ]
    },
    {
      "cell_type": "markdown",
      "metadata": {
        "id": "EjLNjIazDSM5"
      },
      "source": [
        "## Further reading\n",
        "\n",
        "This guide only scratches the surface of retrieval techniques. For more on different ways of ingesting, preparing, and retrieving the most relevant data, check out [this section](/docs/modules/data_connection/) of the docs."
      ]
    }
  ],
  "metadata": {
    "colab": {
      "provenance": []
    },
    "kernelspec": {
      "display_name": "Python 3",
      "name": "python3"
    },
    "language_info": {
      "codemirror_mode": {
        "name": "ipython",
        "version": 3
      },
      "file_extension": ".py",
      "mimetype": "text/x-python",
      "name": "python",
      "nbconvert_exporter": "python",
      "pygments_lexer": "ipython3",
      "version": "3.10.12"
    }
  },
  "nbformat": 4,
  "nbformat_minor": 0
}
