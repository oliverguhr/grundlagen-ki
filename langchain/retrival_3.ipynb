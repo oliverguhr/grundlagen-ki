{
 "cells": [
  {
   "cell_type": "code",
   "execution_count": 2,
   "metadata": {},
   "outputs": [
    {
     "data": {
      "text/plain": [
       "True"
      ]
     },
     "execution_count": 2,
     "metadata": {},
     "output_type": "execute_result"
    }
   ],
   "source": [
    "import dotenv\n",
    "\n",
    "dotenv.load_dotenv()"
   ]
  },
  {
   "cell_type": "code",
   "execution_count": 3,
   "metadata": {},
   "outputs": [],
   "source": [
    "from langchain_openai import ChatOpenAI, AzureChatOpenAI\n",
    "\n",
    "#chat = ChatOpenAI(model=\"gpt-3.5-turbo-1106\")\n",
    "chat = AzureChatOpenAI(\n",
    "    openai_api_version=\"2024-02-15-preview\",\n",
    "    azure_deployment=\"gpt-35-turbo\",\n",
    "    temperature=0.2)"
   ]
  },
  {
   "cell_type": "code",
   "execution_count": 4,
   "metadata": {},
   "outputs": [
    {
     "data": {
      "text/plain": [
       "2"
      ]
     },
     "execution_count": 4,
     "metadata": {},
     "output_type": "execute_result"
    }
   ],
   "source": [
    "from langchain_community.document_loaders import DirectoryLoader\n",
    "loader = DirectoryLoader('./docs', glob=\"**/*.md\")\n",
    "data = loader.load()\n",
    "len(data)"
   ]
  },
  {
   "cell_type": "code",
   "execution_count": 5,
   "metadata": {},
   "outputs": [
    {
     "name": "stdout",
     "output_type": "stream",
     "text": [
      "39\n"
     ]
    }
   ],
   "source": [
    "from langchain_text_splitters import RecursiveCharacterTextSplitter\n",
    "\n",
    "text_splitter = RecursiveCharacterTextSplitter(chunk_size=200, chunk_overlap=20)\n",
    "all_splits = text_splitter.split_documents(data)\n",
    "\n",
    "print(len(all_splits))"
   ]
  },
  {
   "cell_type": "code",
   "execution_count": 6,
   "metadata": {},
   "outputs": [],
   "source": [
    "from langchain_community.vectorstores import Chroma\n",
    "from langchain_openai import OpenAIEmbeddings\n",
    "\n",
    "from langchain_community.embeddings.sentence_transformer import (\n",
    "    SentenceTransformerEmbeddings,\n",
    ")\n",
    "\n",
    "\n",
    "\n",
    "modell = \"paraphrase-multilingual-MiniLM-L12-v2\"\n",
    "\n",
    "embedding_function = SentenceTransformerEmbeddings(model_name=modell)\n",
    "vectorstore = Chroma.from_documents(documents=all_splits, embedding=embedding_function)\n",
    "\n",
    "retriever = vectorstore.as_retriever(search_kwargs={\"k\": 5})"
   ]
  },
  {
   "cell_type": "code",
   "execution_count": 8,
   "metadata": {},
   "outputs": [],
   "source": [
    "from langchain.chains.combine_documents import create_stuff_documents_chain\n",
    "from langchain_core.prompts import ChatPromptTemplate, MessagesPlaceholder\n",
    "\n",
    "SYSTEM_TEMPLATE = \"\"\"\n",
    "Answer the user's questions based on the below context.\n",
    "If the context doesn't contain any relevant information to the question, don't make something up and just say \"I don't know\":\n",
    "\n",
    "<context>\n",
    "{context}\n",
    "</context>\n",
    "\"\"\"\n",
    "\n",
    "question_answering_prompt = ChatPromptTemplate.from_messages(\n",
    "    [\n",
    "        (\n",
    "            \"system\",\n",
    "            SYSTEM_TEMPLATE,\n",
    "        ),\n",
    "        MessagesPlaceholder(variable_name=\"messages\"),\n",
    "    ]\n",
    ")\n",
    "\n",
    "document_chain = create_stuff_documents_chain(chat, question_answering_prompt)"
   ]
  },
  {
   "cell_type": "code",
   "execution_count": 9,
   "metadata": {},
   "outputs": [],
   "source": [
    "from typing import Dict\n",
    "\n",
    "from langchain_core.runnables import RunnablePassthrough\n",
    "\n",
    "def parse_retriever_input(params: Dict):\n",
    "    return params[\"messages\"][-1].content\n",
    "\n",
    "\n",
    "retrieval_chain = RunnablePassthrough.assign(\n",
    "    context=parse_retriever_input | retriever,\n",
    ").assign(\n",
    "    answer=document_chain,\n",
    ")"
   ]
  },
  {
   "cell_type": "code",
   "execution_count": 13,
   "metadata": {},
   "outputs": [
    {
     "data": {
      "text/plain": [
       "{'messages': [HumanMessage(content='Wer ist die Gechäftsführerin der MMS?')],\n",
       " 'context': [Document(page_content='des Unternehmens. Ehemalige Geschäftsführer sind:', metadata={'source': 'docs/mms.md'}),\n",
       "  Document(page_content='Personen\\n\\nOliver Guhr, Schlungsleiter', metadata={'source': 'docs/index.md'}),\n",
       "  Document(page_content='und IT-Sicherheit.', metadata={'source': 'docs/mms.md'}),\n",
       "  Document(page_content='Indem T-Systems MMS eine künstliche Intelligenz mit einer weiblichen Gesangsstimme trainierte, war das Unternehmen 2022 maßgeblich an der weltweit ersten KI-Oper „chasing waterfalls“ beteiligt, die', metadata={'source': 'docs/mms.md'}),\n",
       "  Document(page_content='2018 schloss T-Systems MMS einen Kooperationsvertrag mit dem Smart Systems Hub und ist seitdem einer der strategischen Partner. Mit dem Ziel, die reale und die digitale Welt zu vernetzen, ermöglicht', metadata={'source': 'docs/mms.md'})],\n",
       " 'answer': 'Die Information über die Geschäftsführerin der MMS ist nicht im gegebenen Kontext enthalten. Daher kann ich Ihnen nicht sagen, wer die Geschäftsführerin der MMS ist.'}"
      ]
     },
     "execution_count": 13,
     "metadata": {},
     "output_type": "execute_result"
    }
   ],
   "source": [
    "from langchain_core.messages import HumanMessage, AIMessage\n",
    "\n",
    "retrieval_chain.invoke(\n",
    "    {\n",
    "        \"messages\": [\n",
    "            HumanMessage(content=\"Wer ist die Gechäftsführerin der MMS?\")\n",
    "        ],\n",
    "    }\n",
    ")"
   ]
  },
  {
   "cell_type": "code",
   "execution_count": 14,
   "metadata": {},
   "outputs": [
    {
     "data": {
      "text/plain": [
       "{'messages': [HumanMessage(content='Was ist die Telekom MMS?'),\n",
       "  AIMessage(content='Die Telekom MMS GmbH (Telekom MMS) ist ein Digital-Dienstleister, der sich als Begleiter von Großkonzernen und mittelständischen Unternehmen bei der digitalen Transformation versteht. Sie entwickelt zukunftsfähige Geschäftsmodelle für digitale Erlebnisse und bietet dynamisches Web- und Application-Management.'),\n",
       "  HumanMessage(content='Erzähl mir mehr!')],\n",
       " 'context': [Document(page_content='des Unternehmens. Ehemalige Geschäftsführer sind:', metadata={'source': 'docs/mms.md'}),\n",
       "  Document(page_content='Personen\\n\\nOliver Guhr, Schlungsleiter', metadata={'source': 'docs/index.md'}),\n",
       "  Document(page_content='Geschichte', metadata={'source': 'docs/mms.md'}),\n",
       "  Document(page_content='und IT-Sicherheit.', metadata={'source': 'docs/mms.md'}),\n",
       "  Document(page_content='über Content-, Test- und Support-Services bis zur Entwicklung von Software. Dazu zählen Web- und Applikations-Management und das Test and Integration Center für Softwarequalität, Barrierefreiheit und', metadata={'source': 'docs/mms.md'})],\n",
       " 'answer': 'Entschuldigung, aber basierend auf dem bereitgestellten Kontext habe ich keine weiteren Informationen über die Telekom MMS GmbH.'}"
      ]
     },
     "execution_count": 14,
     "metadata": {},
     "output_type": "execute_result"
    }
   ],
   "source": [
    "retrieval_chain.invoke(\n",
    "    {\n",
    "        \"messages\": [\n",
    "            HumanMessage(content=\"Was ist die Telekom MMS?\"),\n",
    "            AIMessage(\n",
    "                content=\"Die Telekom MMS GmbH (Telekom MMS) ist ein Digital-Dienstleister, der sich als Begleiter von Großkonzernen und mittelständischen Unternehmen bei der digitalen Transformation versteht. Sie entwickelt zukunftsfähige Geschäftsmodelle für digitale Erlebnisse und bietet dynamisches Web- und Application-Management.\"\n",
    "            ),\n",
    "            HumanMessage(content=\"Erzähl mir mehr!\"),\n",
    "        ],\n",
    "    }\n",
    ")"
   ]
  },
  {
   "cell_type": "markdown",
   "metadata": {},
   "source": [
    "## Wie lösen wir das Problem?"
   ]
  },
  {
   "cell_type": "code",
   "execution_count": 29,
   "metadata": {},
   "outputs": [],
   "source": [
    "from langchain_core.output_parsers import StrOutputParser\n",
    "from langchain_core.runnables import RunnableBranch\n",
    "\n",
    "#query_transforming_retriever_chain = RunnableBranch( \n",
    "#    # If messages, then we pass inputs to LLM chain to transform the query, then pass to retriever\n",
    "#    query_transform_prompt | chat | StrOutputParser() | retriever,\n",
    "#).with_config(run_name=\"chat_retriever_chain\")\n",
    "query_transform_prompt = ChatPromptTemplate.from_messages(\n",
    "    [\n",
    "        MessagesPlaceholder(variable_name=\"messages\"),\n",
    "        (\n",
    "            \"user\",\n",
    "            \"Given the above conversation, generate a search query to look up in order to get information relevant to the conversation. Only respond with the query, nothing else.\",\n",
    "        ),\n",
    "    ]\n",
    ")\n",
    "\n",
    "query_transforming_retriever_chain = RunnableBranch(\n",
    "    (\n",
    "        lambda x: len(x.get(\"messages\", [])) == 0,\n",
    "        # If only one message, then we just pass that message's content to retriever\n",
    "        (lambda x: x[\"messages\"][-1].content) | retriever,\n",
    "    ),\n",
    "    # If messages, then we pass inputs to LLM chain to transform the query, then pass to retriever\n",
    "    query_transform_prompt | chat | StrOutputParser() | retriever,\n",
    ").with_config(run_name=\"chat_retriever_chain\")\n",
    "\n",
    "conversational_retrieval_chain = RunnablePassthrough.assign(\n",
    "    context=query_transforming_retriever_chain,\n",
    ").assign(\n",
    "    answer=document_chain,\n",
    ")"
   ]
  },
  {
   "cell_type": "code",
   "execution_count": 32,
   "metadata": {},
   "outputs": [
    {
     "data": {
      "text/plain": [
       "{'messages': [HumanMessage(content='Wer ist die Gechäftsführerin der MMS?')],\n",
       " 'context': [Document(page_content='des Unternehmens. Ehemalige Geschäftsführer sind:', metadata={'source': 'docs/mms.md'}),\n",
       "  Document(page_content='Die Geschäftsführung besteht aus einer Doppelspitze: Ralf Pechmann, mit Hauptverantwortung im Bereich Vertrieb, Marketing, Kunden und Marcus Gaube als kaufmännischer Leiter des Unternehmens.', metadata={'source': 'docs/mms.md'}),\n",
       "  Document(page_content='Die Deutsche Telekom MMS GmbH (Telekom MMS) ist ein Digital-Dienstleister, der sich als Begleiter von Großkonzernen und mittelständischen Unternehmen bei der digitalen Transformation versteht.', metadata={'source': 'docs/mms.md'}),\n",
       "  Document(page_content='Personen\\n\\nOliver Guhr, Schlungsleiter', metadata={'source': 'docs/index.md'}),\n",
       "  Document(page_content='2022 wurde T-Systems MMS erstmalig in die Lünendonk-Liste der führenden Anbieter im Segment Digital Experience Services (DXS) sowie im Sub-Ranking der Unternehmen mit DXS als Kernbereich aufgenommen.', metadata={'source': 'docs/mms.md'})],\n",
       " 'answer': 'Die Geschäftsführung der MMS besteht aus einer Doppelspitze, bestehend aus Ralf Pechmann, der hauptsächlich für Vertrieb, Marketing und Kunden zuständig ist, und Marcus Gaube, der als kaufmännischer Leiter des Unternehmens fungiert. Es gibt keine spezifische Angabe zu einer Geschäftsführerin.'}"
      ]
     },
     "execution_count": 32,
     "metadata": {},
     "output_type": "execute_result"
    }
   ],
   "source": [
    "conversational_retrieval_chain.invoke(\n",
    "    {\n",
    "        \"messages\": [\n",
    "            HumanMessage(content=\"Wer ist die Gechäftsführerin der MMS?\"),\n",
    "        ]\n",
    "    }\n",
    ")"
   ]
  },
  {
   "cell_type": "code",
   "execution_count": 39,
   "metadata": {},
   "outputs": [
    {
     "data": {
      "text/plain": [
       "{'messages': [HumanMessage(content='Was ist die Telekom MMS?'),\n",
       "  AIMessage(content='Die Telekom MMS GmbH (Telekom MMS) ist ein Digital-Dienstleister, der sich als Begleiter von Großkonzernen und mittelständischen Unternehmen bei der digitalen Transformation versteht. Sie entwickelt zukunftsfähige Geschäftsmodelle für digitale Erlebnisse und bietet dynamisches Web- und Application-Management.'),\n",
       "  HumanMessage(content='Erzähl mir mehr!')],\n",
       " 'context': [Document(page_content='Die Deutsche Telekom MMS GmbH (Telekom MMS) ist ein Digital-Dienstleister, der sich als Begleiter von Großkonzernen und mittelständischen Unternehmen bei der digitalen Transformation versteht.', metadata={'source': 'docs/mms.md'}),\n",
       "  Document(page_content='Telekom MMS', metadata={'source': 'docs/mms.md'}),\n",
       "  Document(page_content='Geschäftskunden der Telekom Deutschland heran und kann den Konzern auf dem Weg zur „Leading Digital Telko“ unterstützen.', metadata={'source': 'docs/mms.md'}),\n",
       "  Document(page_content='Über 2.200 Mitarbeitende an neun Standorten in Deutschland entwickeln zukunftsfähige Geschäftsmodelle für digitale Erlebnisse. Telekom MMS bietet ein dynamisches Web- und Application-Management und', metadata={'source': 'docs/mms.md'}),\n",
       "  Document(page_content='2018 schloss T-Systems MMS einen Kooperationsvertrag mit dem Smart Systems Hub und ist seitdem einer der strategischen Partner. Mit dem Ziel, die reale und die digitale Welt zu vernetzen, ermöglicht', metadata={'source': 'docs/mms.md'})],\n",
       " 'answer': 'Die Telekom MMS GmbH ist ein Unternehmen, das Geschäftskunden der Telekom Deutschland bei der digitalen Transformation unterstützt. Mit über 2.200 Mitarbeitenden an neun Standorten in Deutschland entwickelt sie zukunftsfähige Geschäftsmodelle für digitale Erlebnisse und bietet dynamisches Web- und Application-Management. Im Jahr 2018 schloss T-Systems MMS einen Kooperationsvertrag mit dem Smart Systems Hub und ist seitdem einer der strategischen Partner. Ihr Ziel ist es, die reale und die digitale Welt zu vernetzen.'}"
      ]
     },
     "execution_count": 39,
     "metadata": {},
     "output_type": "execute_result"
    }
   ],
   "source": [
    "#import langchain\n",
    "#langchain.verbose = False\n",
    "#langchain.debug = False\n",
    "\n",
    "conversational_retrieval_chain.invoke(\n",
    "    {\n",
    "        \"messages\": [\n",
    "            HumanMessage(content=\"Was ist die Telekom MMS?\"),\n",
    "            AIMessage(\n",
    "                content=\"Die Telekom MMS GmbH (Telekom MMS) ist ein Digital-Dienstleister, der sich als Begleiter von Großkonzernen und mittelständischen Unternehmen bei der digitalen Transformation versteht. Sie entwickelt zukunftsfähige Geschäftsmodelle für digitale Erlebnisse und bietet dynamisches Web- und Application-Management.\"\n",
    "            ),\n",
    "            HumanMessage(content=\"Erzähl mir mehr!\"),\n",
    "        ],\n",
    "    }\n",
    ")"
   ]
  },
  {
   "cell_type": "code",
   "execution_count": 46,
   "metadata": {},
   "outputs": [
    {
     "name": "stdout",
     "output_type": "stream",
     "text": [
      "Die Telekom MMS GmbH ist ein Unternehmen, das Geschäftskunden der Telekom Deutschland bei der digitalen Transformation unterstützt. Mit über 2.200 Mitarbeitenden an neun Standorten in Deutschland entwickelt sie zukunftsfähige Geschäftsmodelle für digitale Erlebnisse und bietet Web- und Application-Management. Im Jahr 2018 schloss T-Systems MMS einen Kooperationsvertrag mit dem Smart Systems Hub und ist seitdem einer der strategischen Partner. Ihr Ziel ist es, die reale und die digitale Welt zu vernetzen.\n",
      "Tokens Used: 621\n",
      "\tPrompt Tokens: 488\n",
      "\tCompletion Tokens: 133\n",
      "Successful Requests: 2\n",
      "Total Cost (USD): $0.000998\n"
     ]
    }
   ],
   "source": [
    "from langchain.callbacks import get_openai_callback\n",
    "with get_openai_callback() as cb:\n",
    "    data = conversational_retrieval_chain.invoke(\n",
    "        {\n",
    "            \"messages\": [\n",
    "                HumanMessage(content=\"Was ist die Telekom MMS?\"),\n",
    "                AIMessage(\n",
    "                    content=\"Die Telekom MMS GmbH (Telekom MMS) ist ein Digital-Dienstleister, der sich als Begleiter von Großkonzernen und mittelständischen Unternehmen bei der digitalen Transformation versteht. Sie entwickelt zukunftsfähige Geschäftsmodelle für digitale Erlebnisse und bietet dynamisches Web- und Application-Management.\"\n",
    "                ),\n",
    "                HumanMessage(content=\"Erzähl mir mehr!\"),\n",
    "            ],\n",
    "        }\n",
    "    )\n",
    "    print(data[\"answer\"])\n",
    "    print(cb)\n",
    "    #print(f\"Total Cost (USD): ${format(cb.total_cost, '.6f')}\")"
   ]
  },
  {
   "cell_type": "code",
   "execution_count": 42,
   "metadata": {},
   "outputs": [
    {
     "data": {
      "text/plain": [
       "<function dict.values>"
      ]
     },
     "execution_count": 42,
     "metadata": {},
     "output_type": "execute_result"
    }
   ],
   "source": []
  }
 ],
 "metadata": {
  "kernelspec": {
   "display_name": "Python 3",
   "language": "python",
   "name": "python3"
  },
  "language_info": {
   "codemirror_mode": {
    "name": "ipython",
    "version": 3
   },
   "file_extension": ".py",
   "mimetype": "text/x-python",
   "name": "python",
   "nbconvert_exporter": "python",
   "pygments_lexer": "ipython3",
   "version": "3.10.12"
  }
 },
 "nbformat": 4,
 "nbformat_minor": 2
}
